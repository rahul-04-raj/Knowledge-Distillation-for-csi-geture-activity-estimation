{
 "cells": [
  {
   "cell_type": "code",
   "execution_count": 1,
   "metadata": {},
   "outputs": [],
   "source": [
    "import numpy as np\n",
    "import random\n",
    "import joblib\n"
   ]
  },
  {
   "cell_type": "code",
   "execution_count": 2,
   "metadata": {},
   "outputs": [],
   "source": [
    "import scipy.io as scipy\n",
    "import tensorflow as tf"
   ]
  },
  {
   "cell_type": "markdown",
   "metadata": {},
   "source": [
    "# preprocesing amplitudes"
   ]
  },
  {
   "cell_type": "code",
   "execution_count": 4,
   "metadata": {},
   "outputs": [],
   "source": [
    "labels_env1 = joblib.load(\"labels_data.joblib\")"
   ]
  },
  {
   "cell_type": "code",
   "execution_count": 20,
   "metadata": {},
   "outputs": [
    {
     "data": {
      "text/plain": [
       "['labels_up_home.joblib']"
      ]
     },
     "execution_count": 20,
     "metadata": {},
     "output_type": "execute_result"
    }
   ],
   "source": [
    "joblib.dump(labels_env1,\"labels_up_home.joblib\")"
   ]
  },
  {
   "cell_type": "code",
   "execution_count": 4,
   "metadata": {},
   "outputs": [],
   "source": [
    "env1 = joblib.load(\"csi_up_data.joblib\")"
   ]
  },
  {
   "cell_type": "code",
   "execution_count": 9,
   "metadata": {},
   "outputs": [
    {
     "data": {
      "text/plain": [
       "(-34.95576462193802+2.0562214483492958j)"
      ]
     },
     "execution_count": 9,
     "metadata": {},
     "output_type": "execute_result"
    }
   ],
   "source": [
    "env1[0][0][0][0]"
   ]
  },
  {
   "cell_type": "code",
   "execution_count": 5,
   "metadata": {},
   "outputs": [],
   "source": [
    "dummy = np.zeros(shape = (200, 30, 3, 2760))\n",
    "for timestep in range(200):\n",
    "    for antenna in range(30):\n",
    "        for subcar in range(3):\n",
    "            for sample in range(2760):\n",
    "                dummy[timestep][antenna][subcar][sample] = abs(env1[timestep][antenna][subcar][sample])\n",
    "          "
   ]
  },
  {
   "cell_type": "code",
   "execution_count": 6,
   "metadata": {},
   "outputs": [
    {
     "data": {
      "text/plain": [
       "(200, 30, 3, 2760)"
      ]
     },
     "execution_count": 6,
     "metadata": {},
     "output_type": "execute_result"
    }
   ],
   "source": [
    "dummy.shape"
   ]
  },
  {
   "cell_type": "code",
   "execution_count": 7,
   "metadata": {},
   "outputs": [
    {
     "data": {
      "text/plain": [
       "17.981695103647116"
      ]
     },
     "execution_count": 7,
     "metadata": {},
     "output_type": "execute_result"
    }
   ],
   "source": [
    "dummy[0][0][0][1]"
   ]
  },
  {
   "cell_type": "code",
   "execution_count": 8,
   "metadata": {},
   "outputs": [],
   "source": [
    "import numpy as np\n",
    "\n",
    "# data = np.zeros(shape = (200, 3, 30, 2760))\n",
    "csi_env1 = np.zeros(shape = (2760, 200, 90))\n",
    "\n",
    "for sample in range(2760):\n",
    "  for timestep in range(200):\n",
    "    for antenna in range(30):\n",
    "      for subcar in range(3):\n",
    "        csi_env1[sample][timestep][3*antenna+subcar] = dummy[timestep][antenna][subcar][sample]"
   ]
  },
  {
   "cell_type": "code",
   "execution_count": 11,
   "metadata": {},
   "outputs": [
    {
     "data": {
      "text/plain": [
       "['csi_up_home.joblib']"
      ]
     },
     "execution_count": 11,
     "metadata": {},
     "output_type": "execute_result"
    }
   ],
   "source": [
    "joblib.dump(csi_env1, \"csi_up_home.joblib\")"
   ]
  },
  {
   "cell_type": "code",
   "execution_count": 10,
   "metadata": {},
   "outputs": [],
   "source": [
    "temp = list(zip(csi_env1, labels_env1))\n",
    "random.shuffle(temp)\n",
    "csi_env1, labels_env1 = zip(*temp)\n",
    "csi_env1, labels_env1 = list(csi_env1), list(labels_env1)"
   ]
  },
  {
   "cell_type": "code",
   "execution_count": 11,
   "metadata": {},
   "outputs": [],
   "source": [
    "csi_env1[0][0][1]\n",
    "csi_env1 = np.array(csi_env1)"
   ]
  },
  {
   "cell_type": "code",
   "execution_count": 12,
   "metadata": {},
   "outputs": [
    {
     "data": {
      "text/plain": [
       "(2760, 200, 90)"
      ]
     },
     "execution_count": 12,
     "metadata": {},
     "output_type": "execute_result"
    }
   ],
   "source": [
    "csi_env1.shape"
   ]
  },
  {
   "cell_type": "code",
   "execution_count": 13,
   "metadata": {},
   "outputs": [],
   "source": [
    "data = scipy.loadmat(\"./dataset_lab_276_ul.mat\")\n",
    "csi_lab = data['csiu_lab']"
   ]
  },
  {
   "cell_type": "code",
   "execution_count": 14,
   "metadata": {},
   "outputs": [],
   "source": [
    "labels_env2 = data['label_lab']"
   ]
  },
  {
   "cell_type": "code",
   "execution_count": 15,
   "metadata": {},
   "outputs": [],
   "source": [
    "dummy = np.zeros(shape = (200, 30, 3, 5520))\n",
    "for timestep in range(200):\n",
    "    for antenna in range(30):\n",
    "        for subcar in range(3):\n",
    "            for sample in range(5520):\n",
    "                dummy[timestep][antenna][subcar][sample] = abs(csi_lab[timestep][antenna][subcar][sample])"
   ]
  },
  {
   "cell_type": "code",
   "execution_count": 16,
   "metadata": {},
   "outputs": [],
   "source": [
    "import numpy as np\n",
    "\n",
    "# data = np.zeros(shape = (200, 3, 30, 2760))\n",
    "csi_env2 = np.zeros(shape = (5520, 200, 90))\n",
    "\n",
    "for sample in range(5520):\n",
    "  for timestep in range(200):\n",
    "    for antenna in range(30):\n",
    "      for subcar in range(3):\n",
    "        csi_env2[sample][timestep][3*antenna+subcar] = dummy[timestep][antenna][subcar][sample]"
   ]
  },
  {
   "cell_type": "code",
   "execution_count": 1,
   "metadata": {},
   "outputs": [
    {
     "ename": "NameError",
     "evalue": "name 'csi_env2' is not defined",
     "output_type": "error",
     "traceback": [
      "\u001b[0;31m---------------------------------------------------------------------------\u001b[0m",
      "\u001b[0;31mNameError\u001b[0m                                 Traceback (most recent call last)",
      "Cell \u001b[0;32mIn[1], line 1\u001b[0m\n\u001b[0;32m----> 1\u001b[0m csi_env2\u001b[39m.\u001b[39mshape\n",
      "\u001b[0;31mNameError\u001b[0m: name 'csi_env2' is not defined"
     ]
    }
   ],
   "source": [
    "csi_env2.shape"
   ]
  },
  {
   "cell_type": "code",
   "execution_count": 19,
   "metadata": {},
   "outputs": [
    {
     "data": {
      "text/plain": [
       "['labels_up_lab.joblib']"
      ]
     },
     "execution_count": 19,
     "metadata": {},
     "output_type": "execute_result"
    }
   ],
   "source": [
    "joblib.dump(csi_env2, \"csi_up_lab.joblib\")\n",
    "joblib.dump(labels_env2, \"labels_up_lab.joblib\")"
   ]
  },
  {
   "cell_type": "markdown",
   "metadata": {},
   "source": [
    "# Loading the data and pairing\n"
   ]
  },
  {
   "cell_type": "code",
   "execution_count": 3,
   "metadata": {},
   "outputs": [],
   "source": [
    "csi_env1 = joblib.load(\"csi_up_home.joblib\")\n",
    "csi_env2 = joblib.load(\"csi_up_lab.joblib\")\n",
    "labels_env1 = joblib.load(\"labels_up_home.joblib\")\n",
    "labels_env2 = joblib.load(\"labels_up_lab.joblib\")\n"
   ]
  },
  {
   "cell_type": "code",
   "execution_count": 4,
   "metadata": {},
   "outputs": [
    {
     "data": {
      "text/plain": [
       "(2760, 200, 90)"
      ]
     },
     "execution_count": 4,
     "metadata": {},
     "output_type": "execute_result"
    }
   ],
   "source": [
    "csi_env1.shape"
   ]
  },
  {
   "cell_type": "code",
   "execution_count": 5,
   "metadata": {},
   "outputs": [
    {
     "data": {
      "text/plain": [
       "(90,)"
      ]
     },
     "execution_count": 5,
     "metadata": {},
     "output_type": "execute_result"
    }
   ],
   "source": [
    "csi_env1[0][0].shape"
   ]
  },
  {
   "cell_type": "code",
   "execution_count": 5,
   "metadata": {},
   "outputs": [],
   "source": [
    "csi_env1_30 = np.zeros(shape = (276,200,30))\n",
    "for samples in range(276):\n",
    "    for time in range(200):\n",
    "        for sub in range(30):\n",
    "            csi_env1_30[samples][time][sub] = csi_env1[samples][time][sub]\n"
   ]
  },
  {
   "cell_type": "code",
   "execution_count": 6,
   "metadata": {},
   "outputs": [],
   "source": [
    "csi_env2_30 = np.zeros(shape = (276,200,30))\n",
    "for samples in range(276):\n",
    "    for time in range(200):\n",
    "        for sub in range(30):\n",
    "            csi_env1_30[samples][time][sub] = csi_env2[samples][time][sub]"
   ]
  },
  {
   "cell_type": "code",
   "execution_count": 7,
   "metadata": {},
   "outputs": [
    {
     "data": {
      "text/plain": [
       "(276, 200, 30)"
      ]
     },
     "execution_count": 7,
     "metadata": {},
     "output_type": "execute_result"
    }
   ],
   "source": [
    "csi_env2_30.shape"
   ]
  },
  {
   "cell_type": "code",
   "execution_count": 8,
   "metadata": {},
   "outputs": [
    {
     "data": {
      "text/plain": [
       "(2760, 1)"
      ]
     },
     "execution_count": 8,
     "metadata": {},
     "output_type": "execute_result"
    }
   ],
   "source": [
    "labels_env1.shape"
   ]
  },
  {
   "cell_type": "code",
   "execution_count": null,
   "metadata": {},
   "outputs": [],
   "source": []
  },
  {
   "cell_type": "code",
   "execution_count": 9,
   "metadata": {},
   "outputs": [],
   "source": [
    "csi_env1_30 = np.array(csi_env1_30)\n",
    "csi_env2_30 = np.array(csi_env2_30)"
   ]
  },
  {
   "cell_type": "code",
   "execution_count": 10,
   "metadata": {},
   "outputs": [],
   "source": [
    "num_samples_env1 = 100\n",
    "num_samples_env2 = 100\n",
    "\n",
    "selected_samples_env1 = csi_env1_30[:num_samples_env1, :, :]\n",
    "selected_samples_env2 = csi_env2_30[:num_samples_env2, :, :]\n",
    "\n",
    "data_pairs = []\n",
    "\n",
    "for sample_env1 in selected_samples_env1:\n",
    "    for sample_env2 in selected_samples_env2:\n",
    "        pair = np.array([sample_env1, sample_env2])\n",
    "        data_pairs.append(pair)\n",
    "\n",
    "data_pairs = np.array(data_pairs)"
   ]
  },
  {
   "cell_type": "code",
   "execution_count": 11,
   "metadata": {},
   "outputs": [
    {
     "data": {
      "text/plain": [
       "(10000, 2, 200, 30)"
      ]
     },
     "execution_count": 11,
     "metadata": {},
     "output_type": "execute_result"
    }
   ],
   "source": [
    "data_pairs.shape"
   ]
  },
  {
   "cell_type": "code",
   "execution_count": 12,
   "metadata": {},
   "outputs": [],
   "source": [
    "num_samples_env1 = 100\n",
    "num_samples_env2 = 100\n",
    "\n",
    "selected_samples_env1 = labels_env1[:num_samples_env1, :]\n",
    "selected_samples_env2 = labels_env2[:num_samples_env2, :]\n",
    "\n",
    "labels_pairs = []\n",
    "\n",
    "for sample_env1 in selected_samples_env1:\n",
    "    for sample_env2 in selected_samples_env2:\n",
    "        pair = np.array([sample_env1, sample_env2])\n",
    "        labels_pairs.append(pair)\n",
    "\n",
    "labels_pairs = np.array(labels_pairs)"
   ]
  },
  {
   "cell_type": "code",
   "execution_count": 13,
   "metadata": {},
   "outputs": [
    {
     "data": {
      "text/plain": [
       "(10000, 2, 1)"
      ]
     },
     "execution_count": 13,
     "metadata": {},
     "output_type": "execute_result"
    }
   ],
   "source": [
    "labels_pairs.shape"
   ]
  },
  {
   "cell_type": "markdown",
   "metadata": {},
   "source": [
    "# Dumping Data"
   ]
  },
  {
   "cell_type": "code",
   "execution_count": 14,
   "metadata": {},
   "outputs": [
    {
     "data": {
      "text/plain": [
       "['labels_up_pairs_100.joblib']"
      ]
     },
     "execution_count": 14,
     "metadata": {},
     "output_type": "execute_result"
    }
   ],
   "source": [
    "joblib.dump(data_pairs, \"csi_up_pairs_100.joblib\")\n",
    "joblib.dump(labels_pairs, \"labels_up_pairs_100.joblib\")"
   ]
  }
 ],
 "metadata": {
  "kernelspec": {
   "display_name": "Python 3.11.2 64-bit",
   "language": "python",
   "name": "python3"
  },
  "language_info": {
   "codemirror_mode": {
    "name": "ipython",
    "version": 3
   },
   "file_extension": ".py",
   "mimetype": "text/x-python",
   "name": "python",
   "nbconvert_exporter": "python",
   "pygments_lexer": "ipython3",
   "version": "3.11.2"
  },
  "orig_nbformat": 4,
  "vscode": {
   "interpreter": {
    "hash": "aee8b7b246df8f9039afb4144a1f6fd8d2ca17a180786b69acc140d282b71a49"
   }
  }
 },
 "nbformat": 4,
 "nbformat_minor": 2
}
