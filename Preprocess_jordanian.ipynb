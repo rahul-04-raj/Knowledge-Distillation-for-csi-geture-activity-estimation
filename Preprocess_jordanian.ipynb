{
 "cells": [
  {
   "cell_type": "code",
   "execution_count": 1,
   "id": "a6566f8b-d5ee-4b31-8f1a-9ac7051cc9af",
   "metadata": {},
   "outputs": [],
   "source": [
    "import json\n",
    "import joblib"
   ]
  },
  {
   "cell_type": "code",
   "execution_count": 2,
   "id": "b0ae1f74-24d3-4a6a-b3bd-0cc194c259f1",
   "metadata": {},
   "outputs": [],
   "source": [
    "import numpy as np"
   ]
  },
  {
   "cell_type": "code",
   "execution_count": 3,
   "id": "0e99ec12-dbdd-402a-a3f5-fccf8491cd5b",
   "metadata": {},
   "outputs": [],
   "source": [
    "data = joblib.load(\"csi_list jordanian_E1.joblib\")"
   ]
  },
  {
   "cell_type": "code",
   "execution_count": 4,
   "id": "b140ebc1-12af-4844-b649-0fadcd6cf109",
   "metadata": {},
   "outputs": [
    {
     "data": {
      "text/plain": [
       "(15+15j)"
      ]
     },
     "execution_count": 4,
     "metadata": {},
     "output_type": "execute_result"
    }
   ],
   "source": [
    "(data[0][0][0])"
   ]
  },
  {
   "cell_type": "code",
   "execution_count": 5,
   "id": "655863a2-4fe4-491b-bba1-3cc4a139d6c8",
   "metadata": {},
   "outputs": [
    {
     "data": {
      "text/plain": [
       "959"
      ]
     },
     "execution_count": 5,
     "metadata": {},
     "output_type": "execute_result"
    }
   ],
   "source": [
    "len(data[0])"
   ]
  },
  {
   "cell_type": "code",
   "execution_count": 6,
   "id": "6b1208d7-0378-4130-964e-87d03be2b6e0",
   "metadata": {},
   "outputs": [],
   "source": [
    "a = abs((data[0][0][0]))"
   ]
  },
  {
   "cell_type": "code",
   "execution_count": 7,
   "id": "dfb992e8-72bf-42c2-b129-9060955ae6c2",
   "metadata": {},
   "outputs": [
    {
     "data": {
      "text/plain": [
       "21.213203435596427"
      ]
     },
     "execution_count": 7,
     "metadata": {},
     "output_type": "execute_result"
    }
   ],
   "source": [
    "a"
   ]
  },
  {
   "cell_type": "code",
   "execution_count": 8,
   "id": "a21260e4-ca6a-4880-bf78-5b7f88305698",
   "metadata": {},
   "outputs": [
    {
     "ename": "ValueError",
     "evalue": "setting an array element with a sequence. The requested array has an inhomogeneous shape after 1 dimensions. The detected shape was (3000,) + inhomogeneous part.",
     "output_type": "error",
     "traceback": [
      "\u001b[0;31m---------------------------------------------------------------------------\u001b[0m",
      "\u001b[0;31mAttributeError\u001b[0m                            Traceback (most recent call last)",
      "File \u001b[0;32m/Library/Frameworks/Python.framework/Versions/3.11/lib/python3.11/site-packages/numpy/core/fromnumeric.py:2022\u001b[0m, in \u001b[0;36mshape\u001b[0;34m(a)\u001b[0m\n\u001b[1;32m   2021\u001b[0m \u001b[39mtry\u001b[39;00m:\n\u001b[0;32m-> 2022\u001b[0m     result \u001b[39m=\u001b[39m a\u001b[39m.\u001b[39;49mshape\n\u001b[1;32m   2023\u001b[0m \u001b[39mexcept\u001b[39;00m \u001b[39mAttributeError\u001b[39;00m:\n",
      "\u001b[0;31mAttributeError\u001b[0m: 'list' object has no attribute 'shape'",
      "\nDuring handling of the above exception, another exception occurred:\n",
      "\u001b[0;31mValueError\u001b[0m                                Traceback (most recent call last)",
      "Cell \u001b[0;32mIn[8], line 1\u001b[0m\n\u001b[0;32m----> 1\u001b[0m np\u001b[39m.\u001b[39;49mshape(data)\n",
      "File \u001b[0;32m/Library/Frameworks/Python.framework/Versions/3.11/lib/python3.11/site-packages/numpy/core/fromnumeric.py:2024\u001b[0m, in \u001b[0;36mshape\u001b[0;34m(a)\u001b[0m\n\u001b[1;32m   2022\u001b[0m     result \u001b[39m=\u001b[39m a\u001b[39m.\u001b[39mshape\n\u001b[1;32m   2023\u001b[0m \u001b[39mexcept\u001b[39;00m \u001b[39mAttributeError\u001b[39;00m:\n\u001b[0;32m-> 2024\u001b[0m     result \u001b[39m=\u001b[39m asarray(a)\u001b[39m.\u001b[39mshape\n\u001b[1;32m   2025\u001b[0m \u001b[39mreturn\u001b[39;00m result\n",
      "\u001b[0;31mValueError\u001b[0m: setting an array element with a sequence. The requested array has an inhomogeneous shape after 1 dimensions. The detected shape was (3000,) + inhomogeneous part."
     ]
    }
   ],
   "source": [
    "np.shape(data)"
   ]
  },
  {
   "cell_type": "code",
   "execution_count": 9,
   "id": "08117bd9-778c-4664-bfe1-3319c0a19e8c",
   "metadata": {},
   "outputs": [],
   "source": [
    "amplitudes = []\n",
    "for i in range(0,3000):\n",
    "    a=[]\n",
    "    for j in range(0, len(data[i])):\n",
    "        b=[]\n",
    "        for k in range(0,90):\n",
    "            b.append(abs(data[i][j][k]))\n",
    "        a.append(b)\n",
    "    amplitudes.append(a)"
   ]
  },
  {
   "cell_type": "code",
   "execution_count": 16,
   "id": "917fd835-ca3a-4d17-a13f-507a82ab07b8",
   "metadata": {},
   "outputs": [
    {
     "ename": "ValueError",
     "evalue": "setting an array element with a sequence. The requested array has an inhomogeneous shape after 1 dimensions. The detected shape was (3000,) + inhomogeneous part.",
     "output_type": "error",
     "traceback": [
      "\u001b[0;31m---------------------------------------------------------------------------\u001b[0m",
      "\u001b[0;31mAttributeError\u001b[0m                            Traceback (most recent call last)",
      "File \u001b[0;32m/Library/Frameworks/Python.framework/Versions/3.11/lib/python3.11/site-packages/numpy/core/fromnumeric.py:2022\u001b[0m, in \u001b[0;36mshape\u001b[0;34m(a)\u001b[0m\n\u001b[1;32m   2021\u001b[0m \u001b[39mtry\u001b[39;00m:\n\u001b[0;32m-> 2022\u001b[0m     result \u001b[39m=\u001b[39m a\u001b[39m.\u001b[39;49mshape\n\u001b[1;32m   2023\u001b[0m \u001b[39mexcept\u001b[39;00m \u001b[39mAttributeError\u001b[39;00m:\n",
      "\u001b[0;31mAttributeError\u001b[0m: 'list' object has no attribute 'shape'",
      "\nDuring handling of the above exception, another exception occurred:\n",
      "\u001b[0;31mValueError\u001b[0m                                Traceback (most recent call last)",
      "Cell \u001b[0;32mIn[16], line 1\u001b[0m\n\u001b[0;32m----> 1\u001b[0m np\u001b[39m.\u001b[39;49mshape(amplitudes)\n",
      "File \u001b[0;32m/Library/Frameworks/Python.framework/Versions/3.11/lib/python3.11/site-packages/numpy/core/fromnumeric.py:2024\u001b[0m, in \u001b[0;36mshape\u001b[0;34m(a)\u001b[0m\n\u001b[1;32m   2022\u001b[0m     result \u001b[39m=\u001b[39m a\u001b[39m.\u001b[39mshape\n\u001b[1;32m   2023\u001b[0m \u001b[39mexcept\u001b[39;00m \u001b[39mAttributeError\u001b[39;00m:\n\u001b[0;32m-> 2024\u001b[0m     result \u001b[39m=\u001b[39m asarray(a)\u001b[39m.\u001b[39mshape\n\u001b[1;32m   2025\u001b[0m \u001b[39mreturn\u001b[39;00m result\n",
      "\u001b[0;31mValueError\u001b[0m: setting an array element with a sequence. The requested array has an inhomogeneous shape after 1 dimensions. The detected shape was (3000,) + inhomogeneous part."
     ]
    }
   ],
   "source": [
    "np.shape(amplitudes)"
   ]
  },
  {
   "cell_type": "code",
   "execution_count": 10,
   "id": "6400259d-fb6d-4e3f-8c36-9f69a4eda446",
   "metadata": {},
   "outputs": [],
   "source": [
    "length = []\n",
    "for i in range(0, 3000):\n",
    "    length.append(len(data[i]))"
   ]
  },
  {
   "cell_type": "code",
   "execution_count": 11,
   "id": "fe2c15c9-7f8b-4522-b7e9-73abdbc8a5aa",
   "metadata": {},
   "outputs": [
    {
     "data": {
      "text/plain": [
       "(3000,)"
      ]
     },
     "execution_count": 11,
     "metadata": {},
     "output_type": "execute_result"
    }
   ],
   "source": [
    "np.shape(length)"
   ]
  },
  {
   "cell_type": "code",
   "execution_count": 14,
   "id": "1e86b26f-81ed-4d8f-89cc-d1589922fd0a",
   "metadata": {},
   "outputs": [
    {
     "data": {
      "text/plain": [
       "959"
      ]
     },
     "execution_count": 14,
     "metadata": {},
     "output_type": "execute_result"
    }
   ],
   "source": [
    "np.max(length)"
   ]
  },
  {
   "cell_type": "code",
   "execution_count": 17,
   "id": "eb597ce0-dac6-4f82-925e-bd4a19f3906c",
   "metadata": {},
   "outputs": [],
   "source": [
    "max_length = 1601\n",
    "amplitudes_padded = []\n",
    "constant = [0] * 90\n",
    "for i in amplitudes:\n",
    "    length = len(i)\n",
    "    for j in range(max_length - length):\n",
    "        i.append(constant)\n",
    "    amplitudes_padded.append(i)"
   ]
  },
  {
   "cell_type": "code",
   "execution_count": 18,
   "id": "a9c38fc6-8caf-435c-937e-462e1f97b3f5",
   "metadata": {},
   "outputs": [
    {
     "data": {
      "text/plain": [
       "(3000, 1601, 90)"
      ]
     },
     "execution_count": 18,
     "metadata": {},
     "output_type": "execute_result"
    }
   ],
   "source": [
    "np.shape(amplitudes_padded)"
   ]
  },
  {
   "cell_type": "code",
   "execution_count": 19,
   "id": "f3dadba8-361d-4b9d-8522-a55f4e4a967a",
   "metadata": {},
   "outputs": [
    {
     "data": {
      "text/plain": [
       "(1601, 90)"
      ]
     },
     "execution_count": 19,
     "metadata": {},
     "output_type": "execute_result"
    }
   ],
   "source": [
    "np.shape(a)"
   ]
  },
  {
   "cell_type": "code",
   "execution_count": null,
   "id": "2d2bffd4-151d-41dc-987d-496f17e8efff",
   "metadata": {},
   "outputs": [],
   "source": [
    "with open(\"amplitudes_all_E2.json\", \"w\") as file:\n",
    "     json.dump({\"data\": amplitudes_padded}, file)\n"
   ]
  },
  {
   "cell_type": "code",
   "execution_count": null,
   "id": "3d6a4f82-728a-4ba4-ab32-46bfb71a7ebb",
   "metadata": {},
   "outputs": [],
   "source": [
    "with open(\"amplitudes_not_padded_E1.json\", \"w\") as file:\n",
    "     json.dump({\"data\": amplitudes}, file)"
   ]
  },
  {
   "cell_type": "code",
   "execution_count": null,
   "id": "a84db931-9fa5-4577-acb6-09a315facd5a",
   "metadata": {},
   "outputs": [],
   "source": []
  }
 ],
 "metadata": {
  "kernelspec": {
   "display_name": "Python 3.11.2 64-bit",
   "language": "python",
   "name": "python3"
  },
  "language_info": {
   "codemirror_mode": {
    "name": "ipython",
    "version": 3
   },
   "file_extension": ".py",
   "mimetype": "text/x-python",
   "name": "python",
   "nbconvert_exporter": "python",
   "pygments_lexer": "ipython3",
   "version": "3.11.2"
  },
  "vscode": {
   "interpreter": {
    "hash": "aee8b7b246df8f9039afb4144a1f6fd8d2ca17a180786b69acc140d282b71a49"
   }
  }
 },
 "nbformat": 4,
 "nbformat_minor": 5
}
