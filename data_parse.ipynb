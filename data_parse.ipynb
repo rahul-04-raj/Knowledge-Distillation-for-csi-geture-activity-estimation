{
 "cells": [
  {
   "cell_type": "code",
   "execution_count": 40,
   "metadata": {},
   "outputs": [],
   "source": [
    "import scipy.io as scipy\n",
    "import tensorflow as tf"
   ]
  },
  {
   "cell_type": "code",
   "execution_count": 7,
   "metadata": {},
   "outputs": [],
   "source": [
    "import numpy as np\n",
    "import random\n",
    "import joblib\n"
   ]
  },
  {
   "cell_type": "code",
   "execution_count": 4,
   "metadata": {},
   "outputs": [],
   "source": [
    "data = scipy.loadmat(\"./dataset_lab_276_ul.mat\")"
   ]
  },
  {
   "cell_type": "code",
   "execution_count": 12,
   "metadata": {},
   "outputs": [
    {
     "data": {
      "text/plain": [
       "dict_keys(['__header__', '__version__', '__globals__', 'csiu_lab', 'label_lab'])"
      ]
     },
     "execution_count": 12,
     "metadata": {},
     "output_type": "execute_result"
    }
   ],
   "source": [
    "data.keys()"
   ]
  },
  {
   "cell_type": "code",
   "execution_count": 17,
   "metadata": {},
   "outputs": [],
   "source": [
    "data['csiu_lab'].shape\n",
    "csi_lab = data['csiu_lab']"
   ]
  },
  {
   "cell_type": "code",
   "execution_count": 18,
   "metadata": {},
   "outputs": [],
   "source": [
    "data['label_lab'].shape\n",
    "labels_lab = data['label_lab']"
   ]
  },
  {
   "cell_type": "code",
   "execution_count": 20,
   "metadata": {},
   "outputs": [
    {
     "data": {
      "text/plain": [
       "(7.951694273219296+2.3855082819657887j)"
      ]
     },
     "execution_count": 20,
     "metadata": {},
     "output_type": "execute_result"
    }
   ],
   "source": [
    "csi_lab[0][0][0][0]"
   ]
  },
  {
   "cell_type": "code",
   "execution_count": 21,
   "metadata": {},
   "outputs": [
    {
     "data": {
      "text/plain": [
       "(200, 30, 3, 5520)"
      ]
     },
     "execution_count": 21,
     "metadata": {},
     "output_type": "execute_result"
    }
   ],
   "source": [
    "csi_lab.shape"
   ]
  },
  {
   "cell_type": "code",
   "execution_count": 22,
   "metadata": {},
   "outputs": [],
   "source": [
    "dummy = np.zeros(shape = (200, 30, 3, 5520))\n",
    "for timestep in range(200):\n",
    "    for antenna in range(30):\n",
    "        for subcar in range(3):\n",
    "            for sample in range(5520):\n",
    "                dummy[timestep][antenna][subcar][sample] = abs(csi_lab[timestep][antenna][subcar][sample])"
   ]
  },
  {
   "cell_type": "code",
   "execution_count": 23,
   "metadata": {},
   "outputs": [
    {
     "data": {
      "text/plain": [
       "(200, 30, 3, 5520)"
      ]
     },
     "execution_count": 23,
     "metadata": {},
     "output_type": "execute_result"
    }
   ],
   "source": [
    "dummy.shape"
   ]
  },
  {
   "cell_type": "code",
   "execution_count": 24,
   "metadata": {},
   "outputs": [
    {
     "data": {
      "text/plain": [
       "8.301812547755816"
      ]
     },
     "execution_count": 24,
     "metadata": {},
     "output_type": "execute_result"
    }
   ],
   "source": [
    "dummy[0][0][0][0]"
   ]
  },
  {
   "cell_type": "code",
   "execution_count": 25,
   "metadata": {},
   "outputs": [],
   "source": [
    "import numpy as np\n",
    "\n",
    "# data = np.zeros(shape = (200, 3, 30, 2760))\n",
    "csi = np.zeros(shape = (5520, 200, 90))\n",
    "\n",
    "for sample in range(5520):\n",
    "  for timestep in range(200):\n",
    "    for antenna in range(30):\n",
    "      for subcar in range(3):\n",
    "        csi[sample][timestep][3*antenna+subcar] = dummy[timestep][antenna][subcar][sample]"
   ]
  },
  {
   "cell_type": "code",
   "execution_count": 26,
   "metadata": {},
   "outputs": [
    {
     "data": {
      "text/plain": [
       "(5520, 200, 90)"
      ]
     },
     "execution_count": 26,
     "metadata": {},
     "output_type": "execute_result"
    }
   ],
   "source": [
    "csi.shape"
   ]
  },
  {
   "cell_type": "code",
   "execution_count": 36,
   "metadata": {},
   "outputs": [
    {
     "data": {
      "text/plain": [
       "(5520, 1)"
      ]
     },
     "execution_count": 36,
     "metadata": {},
     "output_type": "execute_result"
    }
   ],
   "source": [
    "labels_lab.shape"
   ]
  },
  {
   "cell_type": "code",
   "execution_count": 30,
   "metadata": {},
   "outputs": [],
   "source": [
    "labels_lab = np.array(labels_lab)-1"
   ]
  },
  {
   "cell_type": "code",
   "execution_count": 33,
   "metadata": {},
   "outputs": [
    {
     "data": {
      "text/plain": [
       "0"
      ]
     },
     "execution_count": 33,
     "metadata": {},
     "output_type": "execute_result"
    }
   ],
   "source": [
    "labels_lab.min()"
   ]
  },
  {
   "cell_type": "code",
   "execution_count": 38,
   "metadata": {},
   "outputs": [],
   "source": [
    "temp = list(zip(csi, labels_lab))\n",
    "random.shuffle(temp)\n",
    "csi, labels_lab = zip(*temp)\n",
    "csi, labels_lab = list(csi), list(labels_lab)"
   ]
  },
  {
   "cell_type": "code",
   "execution_count": 42,
   "metadata": {},
   "outputs": [],
   "source": [
    "y_train = tf.constant(labels_lab[:4140])\n",
    "y_test = tf.constant(labels_lab[4140:5520])\n",
    "x_train = (csi[:4140])\n",
    "x_test = (csi[4140:5520])"
   ]
  },
  {
   "cell_type": "code",
   "execution_count": 45,
   "metadata": {},
   "outputs": [
    {
     "data": {
      "text/plain": [
       "TensorShape([4140, 1])"
      ]
     },
     "execution_count": 45,
     "metadata": {},
     "output_type": "execute_result"
    }
   ],
   "source": [
    "np.shape(y_train)"
   ]
  },
  {
   "cell_type": "code",
   "execution_count": 136,
   "metadata": {},
   "outputs": [],
   "source": [
    "import tensorflow as tf\n",
    "from tensorflow.keras.models import Sequential\n",
    "from tensorflow.keras import datasets, layers, models\n",
    "from tensorflow.keras.layers import Conv1D, MaxPool1D, Flatten, Dense, GlobalMaxPooling1D, Masking, Input\n",
    "model_1 = models.Sequential([\n",
    "    # layers.Masking(mask_value = 0.0, input_shape = (None,90), ragged = True),\n",
    "    # layers.Input([None, 90], dtype=tf.float16, ragged=True),\n",
    "    layers.BatchNormalization(),\n",
    "    layers.Conv1D(filters=32, kernel_size=(4), activation='relu', input_shape = (200, 90)),\n",
    "    layers.MaxPooling1D((2)),\n",
    "\n",
    "    layers.Conv1D(filters=64, kernel_size=(4), activation='relu'),\n",
    "    layers.MaxPooling1D((2)),\n",
    "    \n",
    "    layers.Conv1D(filters=128, kernel_size=(4), activation='relu'),\n",
    "    layers.MaxPooling1D((2)),\n",
    "    \n",
    "    layers.GlobalMaxPooling1D(),\n",
    "\n",
    "    layers.Dense(128, activation='relu'),\n",
    "    layers.Dense(276, activation='softmax')\n",
    "])\n",
    "\n",
    "model_1.compile(loss=\"sparse_categorical_crossentropy\", \n",
    "                optimizer=tf.keras.optimizers.legacy.Adam(),\n",
    "                metrics=[\"accuracy\"])"
   ]
  },
  {
   "cell_type": "code",
   "execution_count": 137,
   "metadata": {},
   "outputs": [
    {
     "name": "stdout",
     "output_type": "stream",
     "text": [
      "Epoch 1/20\n",
      "130/130 [==============================] - 2s 10ms/step - loss: 5.1795 - accuracy: 0.0128\n",
      "Epoch 2/20\n",
      "130/130 [==============================] - 1s 10ms/step - loss: 4.2572 - accuracy: 0.0461\n",
      "Epoch 3/20\n",
      "130/130 [==============================] - 1s 11ms/step - loss: 3.8409 - accuracy: 0.0894\n",
      "Epoch 4/20\n",
      "130/130 [==============================] - 1s 11ms/step - loss: 3.5204 - accuracy: 0.1374\n",
      "Epoch 5/20\n",
      "130/130 [==============================] - 1s 10ms/step - loss: 3.2162 - accuracy: 0.1913\n",
      "Epoch 6/20\n",
      "130/130 [==============================] - 1s 10ms/step - loss: 2.9289 - accuracy: 0.2430\n",
      "Epoch 7/20\n",
      "130/130 [==============================] - 1s 11ms/step - loss: 2.5827 - accuracy: 0.3070\n",
      "Epoch 8/20\n",
      "130/130 [==============================] - 1s 10ms/step - loss: 2.3594 - accuracy: 0.3519\n",
      "Epoch 9/20\n",
      "130/130 [==============================] - 1s 10ms/step - loss: 2.0091 - accuracy: 0.4333\n",
      "Epoch 10/20\n",
      "130/130 [==============================] - 1s 10ms/step - loss: 1.6155 - accuracy: 0.5225\n",
      "Epoch 11/20\n",
      "130/130 [==============================] - 1s 11ms/step - loss: 1.3545 - accuracy: 0.5940\n",
      "Epoch 12/20\n",
      "130/130 [==============================] - 1s 11ms/step - loss: 1.1434 - accuracy: 0.6585\n",
      "Epoch 13/20\n",
      "130/130 [==============================] - 1s 11ms/step - loss: 0.9291 - accuracy: 0.7167\n",
      "Epoch 14/20\n",
      "130/130 [==============================] - 1s 11ms/step - loss: 0.8859 - accuracy: 0.7331\n",
      "Epoch 15/20\n",
      "130/130 [==============================] - 1s 11ms/step - loss: 0.6241 - accuracy: 0.8046\n",
      "Epoch 16/20\n",
      "130/130 [==============================] - 1s 10ms/step - loss: 0.5379 - accuracy: 0.8362\n",
      "Epoch 17/20\n",
      "130/130 [==============================] - 1s 11ms/step - loss: 0.5284 - accuracy: 0.8418\n",
      "Epoch 18/20\n",
      "130/130 [==============================] - 1s 11ms/step - loss: 0.3741 - accuracy: 0.8872\n",
      "Epoch 19/20\n",
      "130/130 [==============================] - 1s 11ms/step - loss: 0.3562 - accuracy: 0.8937\n",
      "Epoch 20/20\n",
      "130/130 [==============================] - 1s 10ms/step - loss: 0.3059 - accuracy: 0.9157\n"
     ]
    },
    {
     "data": {
      "text/plain": [
       "<keras.src.callbacks.History at 0x35a2a9e10>"
      ]
     },
     "execution_count": 137,
     "metadata": {},
     "output_type": "execute_result"
    }
   ],
   "source": [
    "model_1.fit(np.array(x_train), np.array(y_train), epochs = 20)"
   ]
  },
  {
   "cell_type": "code",
   "execution_count": 138,
   "metadata": {},
   "outputs": [
    {
     "name": "stdout",
     "output_type": "stream",
     "text": [
      "44/44 [==============================] - 0s 4ms/step - loss: 1.3054 - accuracy: 0.6246\n"
     ]
    },
    {
     "data": {
      "text/plain": [
       "[1.3053652048110962, 0.6246376633644104]"
      ]
     },
     "execution_count": 138,
     "metadata": {},
     "output_type": "execute_result"
    }
   ],
   "source": [
    "model_1.evaluate(np.array(x_test), np.array(y_test))"
   ]
  },
  {
   "cell_type": "code",
   "execution_count": 142,
   "metadata": {},
   "outputs": [],
   "source": [
    "import tensorflow as tf\n",
    "from tensorflow.keras.models import Sequential\n",
    "from tensorflow.keras import datasets, layers, models\n",
    "from tensorflow.keras.layers import Conv1D, MaxPool1D, Flatten, Dense, GlobalMaxPooling1D, Masking, Input\n",
    "\n",
    "model_2 = models.Sequential([\n",
    "    # layers.Masking(mask_value = 0.0, input_shape = (None,90), ragged = True),\n",
    "    # layers.Input([None, 90], dtype=tf.float16, ragged=True),\n",
    "    layers.BatchNormalization(),\n",
    "    layers.Conv1D(filters=32, kernel_size=(7), activation='relu', input_shape = (200, 90)),\n",
    "    # layers.Conv1D(filters=32, kernel_size=(4), activation='relu', input_shape = (200, 90)),\n",
    "    layers.MaxPooling1D((2)),\n",
    "\n",
    "    layers.Conv1D(filters=64, kernel_size=(4), activation='relu'),\n",
    "    layers.Conv1D(filters=64, kernel_size=(4), activation='relu'),\n",
    "    layers.MaxPooling1D((2)),\n",
    "    \n",
    "    layers.Conv1D(filters=128, kernel_size=(4), activation='relu'),\n",
    "    layers.Conv1D(filters=128, kernel_size=(4), activation='relu'),\n",
    "    layers.MaxPooling1D((2)),\n",
    "    \n",
    "    layers.GlobalMaxPooling1D(),\n",
    "\n",
    "    layers.Dense(128, activation='relu'),\n",
    "    layers.Dense(276, activation='softmax')\n",
    "])\n",
    "\n",
    "model_2.compile(loss=\"sparse_categorical_crossentropy\", \n",
    "                optimizer=tf.keras.optimizers.legacy.Adam(),\n",
    "                metrics=[\"accuracy\"])"
   ]
  },
  {
   "cell_type": "code",
   "execution_count": 143,
   "metadata": {},
   "outputs": [
    {
     "name": "stdout",
     "output_type": "stream",
     "text": [
      "Epoch 1/20\n",
      "130/130 [==============================] - 3s 17ms/step - loss: 5.1832 - accuracy: 0.0126\n",
      "Epoch 2/20\n",
      "130/130 [==============================] - 2s 18ms/step - loss: 4.3447 - accuracy: 0.0396\n",
      "Epoch 3/20\n",
      "130/130 [==============================] - 2s 18ms/step - loss: 3.8371 - accuracy: 0.1034\n",
      "Epoch 4/20\n",
      "130/130 [==============================] - 2s 17ms/step - loss: 3.4868 - accuracy: 0.1623\n",
      "Epoch 5/20\n",
      "130/130 [==============================] - 2s 17ms/step - loss: 3.2375 - accuracy: 0.1942\n",
      "Epoch 6/20\n",
      "130/130 [==============================] - 2s 17ms/step - loss: 2.9922 - accuracy: 0.2403\n",
      "Epoch 7/20\n",
      "130/130 [==============================] - 2s 19ms/step - loss: 2.7411 - accuracy: 0.2884\n",
      "Epoch 8/20\n",
      "130/130 [==============================] - 2s 17ms/step - loss: 2.5121 - accuracy: 0.3304\n",
      "Epoch 9/20\n",
      "130/130 [==============================] - 2s 17ms/step - loss: 2.3138 - accuracy: 0.3773\n",
      "Epoch 10/20\n",
      "130/130 [==============================] - 2s 17ms/step - loss: 2.0384 - accuracy: 0.4268\n",
      "Epoch 11/20\n",
      "130/130 [==============================] - 2s 17ms/step - loss: 1.8537 - accuracy: 0.4754\n",
      "Epoch 12/20\n",
      "130/130 [==============================] - 2s 18ms/step - loss: 1.6257 - accuracy: 0.5428\n",
      "Epoch 13/20\n",
      "130/130 [==============================] - 2s 17ms/step - loss: 1.3811 - accuracy: 0.5969\n",
      "Epoch 14/20\n",
      "130/130 [==============================] - 2s 17ms/step - loss: 1.2211 - accuracy: 0.6360\n",
      "Epoch 15/20\n",
      "130/130 [==============================] - 2s 17ms/step - loss: 1.1213 - accuracy: 0.6577\n",
      "Epoch 16/20\n",
      "130/130 [==============================] - 2s 18ms/step - loss: 0.9005 - accuracy: 0.7285\n",
      "Epoch 17/20\n",
      "130/130 [==============================] - 2s 19ms/step - loss: 0.7719 - accuracy: 0.7614\n",
      "Epoch 18/20\n",
      "130/130 [==============================] - 2s 18ms/step - loss: 0.6831 - accuracy: 0.7894\n",
      "Epoch 19/20\n",
      "130/130 [==============================] - 2s 18ms/step - loss: 0.5647 - accuracy: 0.8268\n",
      "Epoch 20/20\n",
      "130/130 [==============================] - 2s 17ms/step - loss: 0.6074 - accuracy: 0.8072\n"
     ]
    },
    {
     "data": {
      "text/plain": [
       "<keras.src.callbacks.History at 0x35acf82d0>"
      ]
     },
     "execution_count": 143,
     "metadata": {},
     "output_type": "execute_result"
    }
   ],
   "source": [
    "model_2.fit(np.array(x_train), np.array(y_train), epochs = 20)"
   ]
  },
  {
   "cell_type": "code",
   "execution_count": 144,
   "metadata": {},
   "outputs": [
    {
     "name": "stdout",
     "output_type": "stream",
     "text": [
      "44/44 [==============================] - 0s 6ms/step - loss: 1.4880 - accuracy: 0.6275\n"
     ]
    },
    {
     "data": {
      "text/plain": [
       "[1.4880174398422241, 0.6275362372398376]"
      ]
     },
     "execution_count": 144,
     "metadata": {},
     "output_type": "execute_result"
    }
   ],
   "source": [
    "model_2.evaluate(np.array(x_test), np.array(y_test))"
   ]
  },
  {
   "cell_type": "code",
   "execution_count": 145,
   "metadata": {},
   "outputs": [
    {
     "name": "stdout",
     "output_type": "stream",
     "text": [
      "Model: \"sequential_33\"\n",
      "_________________________________________________________________\n",
      " Layer (type)                Output Shape              Param #   \n",
      "=================================================================\n",
      " batch_normalization_12 (Ba  (None, 200, 90)           360       \n",
      " tchNormalization)                                               \n",
      "                                                                 \n",
      " conv1d_96 (Conv1D)          (None, 194, 32)           20192     \n",
      "                                                                 \n",
      " max_pooling1d_82 (MaxPooli  (None, 97, 32)            0         \n",
      " ng1D)                                                           \n",
      "                                                                 \n",
      " conv1d_97 (Conv1D)          (None, 94, 64)            8256      \n",
      "                                                                 \n",
      " conv1d_98 (Conv1D)          (None, 91, 64)            16448     \n",
      "                                                                 \n",
      " max_pooling1d_83 (MaxPooli  (None, 45, 64)            0         \n",
      " ng1D)                                                           \n",
      "                                                                 \n",
      " conv1d_99 (Conv1D)          (None, 42, 128)           32896     \n",
      "                                                                 \n",
      " conv1d_100 (Conv1D)         (None, 39, 128)           65664     \n",
      "                                                                 \n",
      " max_pooling1d_84 (MaxPooli  (None, 19, 128)           0         \n",
      " ng1D)                                                           \n",
      "                                                                 \n",
      " global_max_pooling1d_29 (G  (None, 128)               0         \n",
      " lobalMaxPooling1D)                                              \n",
      "                                                                 \n",
      " dense_66 (Dense)            (None, 128)               16512     \n",
      "                                                                 \n",
      " dense_67 (Dense)            (None, 276)               35604     \n",
      "                                                                 \n",
      "=================================================================\n",
      "Total params: 195932 (765.36 KB)\n",
      "Trainable params: 195752 (764.66 KB)\n",
      "Non-trainable params: 180 (720.00 Byte)\n",
      "_________________________________________________________________\n"
     ]
    }
   ],
   "source": [
    "model_2.summary()"
   ]
  },
  {
   "cell_type": "code",
   "execution_count": 146,
   "metadata": {},
   "outputs": [
    {
     "name": "stderr",
     "output_type": "stream",
     "text": [
      "/Library/Frameworks/Python.framework/Versions/3.11/lib/python3.11/site-packages/keras/src/engine/training.py:3079: UserWarning: You are saving your model as an HDF5 file via `model.save()`. This file format is considered legacy. We recommend using instead the native Keras format, e.g. `model.save('my_model.keras')`.\n",
      "  saving_api.save_model(\n"
     ]
    }
   ],
   "source": [
    "model_2.save('model_2.h5')"
   ]
  },
  {
   "cell_type": "code",
   "execution_count": null,
   "metadata": {},
   "outputs": [],
   "source": []
  }
 ],
 "metadata": {
  "kernelspec": {
   "display_name": "Python 3.11.2 64-bit",
   "language": "python",
   "name": "python3"
  },
  "language_info": {
   "codemirror_mode": {
    "name": "ipython",
    "version": 3
   },
   "file_extension": ".py",
   "mimetype": "text/x-python",
   "name": "python",
   "nbconvert_exporter": "python",
   "pygments_lexer": "ipython3",
   "version": "3.12.6"
  },
  "orig_nbformat": 4,
  "vscode": {
   "interpreter": {
    "hash": "aee8b7b246df8f9039afb4144a1f6fd8d2ca17a180786b69acc140d282b71a49"
   }
  }
 },
 "nbformat": 4,
 "nbformat_minor": 2
}
