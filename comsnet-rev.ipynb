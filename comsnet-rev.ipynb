{
  "cells": [
    {
      "cell_type": "code",
      "source": [
        "from google.colab import drive\n",
        "drive.mount('/content/drive')"
      ],
      "metadata": {
        "colab": {
          "base_uri": "https://localhost:8080/"
        },
        "id": "A5h_xYjPGyWP",
        "outputId": "c3b779ae-052f-440a-b1e9-b15d2bc51dff"
      },
      "execution_count": 1,
      "outputs": [
        {
          "output_type": "stream",
          "name": "stdout",
          "text": [
            "Mounted at /content/drive\n"
          ]
        }
      ]
    },
    {
      "cell_type": "code",
      "execution_count": 1,
      "metadata": {
        "id": "mQ3fxcaHEYrh"
      },
      "outputs": [],
      "source": [
        "import joblib\n",
        "import pandas as pd\n",
        "import numpy as np\n",
        "import random"
      ]
    },
    {
      "cell_type": "code",
      "execution_count": 2,
      "metadata": {
        "id": "q-H7DnvEEYrm"
      },
      "outputs": [],
      "source": [
        "# Load the joblib files\n",
        "x = joblib.load('/content/drive/MyDrive/comsnets data csi joint/X.joblib')\n",
        "data_loc_y = joblib.load('/content/drive/MyDrive/comsnets data csi joint/data_loc_Y.joblib')\n",
        "data_har_y = joblib.load('/content/drive/MyDrive/comsnets data csi joint/data_har_Y.joblib')\n",
        "phase = joblib.load('/content/drive/MyDrive/comsnets data csi joint/PHASE.joblib')"
      ]
    },
    {
      "cell_type": "code",
      "execution_count": 3,
      "metadata": {
        "colab": {
          "base_uri": "https://localhost:8080/"
        },
        "id": "rmX9E4NBEYrn",
        "outputId": "c9a50a9b-e7ef-4f83-b975-e763650177fe"
      },
      "outputs": [
        {
          "output_type": "execute_result",
          "data": {
            "text/plain": [
              "((240, 52, 990), (240,), (240,), (240, 52, 990))"
            ]
          },
          "metadata": {},
          "execution_count": 3
        }
      ],
      "source": [
        "x.shape, data_loc_y.shape, data_har_y.shape, phase.shape"
      ]
    },
    {
      "cell_type": "code",
      "execution_count": 4,
      "metadata": {
        "colab": {
          "base_uri": "https://localhost:8080/"
        },
        "id": "xgH_ycj_EYrp",
        "outputId": "bf2ed91c-d9d0-4149-c30c-e0863747dde8"
      },
      "outputs": [
        {
          "output_type": "execute_result",
          "data": {
            "text/plain": [
              "array([ 0,  0,  0,  0,  0,  1,  1,  1,  1,  1,  2,  2,  2,  2,  2,  3,  3,\n",
              "        3,  3,  3,  4,  4,  4,  4,  4,  5,  5,  5,  5,  5,  6,  6,  6,  6,\n",
              "        6,  7,  7,  7,  7,  7,  8,  8,  8,  8,  8,  9,  9,  9,  9,  9, 10,\n",
              "       10, 10, 10, 10, 11, 11, 11, 11, 11,  0,  0,  0,  0,  0,  1,  1,  1,\n",
              "        1,  1,  2,  2,  2,  2,  2,  3,  3,  3,  3,  3,  4,  4,  4,  4,  4,\n",
              "        5,  5,  5,  5,  5,  6,  6,  6,  6,  6,  7,  7,  7,  7,  7,  8,  8,\n",
              "        8,  8,  8,  9,  9,  9,  9,  9, 10, 10, 10, 10, 10, 11, 11, 11, 11,\n",
              "       11,  0,  0,  0,  0,  0,  1,  1,  1,  1,  1,  2,  2,  2,  2,  2,  3,\n",
              "        3,  3,  3,  3,  4,  4,  4,  4,  4,  5,  5,  5,  5,  5,  6,  6,  6,\n",
              "        6,  6,  7,  7,  7,  7,  7,  8,  8,  8,  8,  8,  9,  9,  9,  9,  9,\n",
              "       10, 10, 10, 10, 10, 11, 11, 11, 11, 11,  0,  0,  0,  0,  0,  1,  1,\n",
              "        1,  1,  1,  2,  2,  2,  2,  2,  3,  3,  3,  3,  3,  4,  4,  4,  4,\n",
              "        4,  5,  5,  5,  5,  5,  6,  6,  6,  6,  6,  7,  7,  7,  7,  7,  8,\n",
              "        8,  8,  8,  8,  9,  9,  9,  9,  9, 10, 10, 10, 10, 10, 11, 11, 11,\n",
              "       11, 11], dtype=int32)"
            ]
          },
          "metadata": {},
          "execution_count": 4
        }
      ],
      "source": [
        "data_loc_y[:]"
      ]
    },
    {
      "cell_type": "code",
      "execution_count": 5,
      "metadata": {
        "colab": {
          "base_uri": "https://localhost:8080/"
        },
        "id": "94TRbgl2EYrq",
        "outputId": "1455cd65-cbda-4b8b-d435-079dabb82c14"
      },
      "outputs": [
        {
          "output_type": "execute_result",
          "data": {
            "text/plain": [
              "array([0, 0, 0, 0, 0, 0, 0, 0, 0, 0, 0, 0, 0, 0, 0, 0, 0, 0, 0, 0, 0, 0,\n",
              "       0, 0, 0, 0, 0, 0, 0, 0, 0, 0, 0, 0, 0, 0, 0, 0, 0, 0, 0, 0, 0, 0,\n",
              "       0, 0, 0, 0, 0, 0, 0, 0, 0, 0, 0, 0, 0, 0, 0, 0, 1, 1, 1, 1, 1, 1,\n",
              "       1, 1, 1, 1, 1, 1, 1, 1, 1, 1, 1, 1, 1, 1, 1, 1, 1, 1, 1, 1, 1, 1,\n",
              "       1, 1, 1, 1, 1, 1, 1, 1, 1, 1, 1, 1, 1, 1, 1, 1, 1, 1, 1, 1, 1, 1,\n",
              "       1, 1, 1, 1, 1, 1, 1, 1, 1, 1, 2, 2, 2, 2, 2, 2, 2, 2, 2, 2, 2, 2,\n",
              "       2, 2, 2, 2, 2, 2, 2, 2, 2, 2, 2, 2, 2, 2, 2, 2, 2, 2, 2, 2, 2, 2,\n",
              "       2, 2, 2, 2, 2, 2, 2, 2, 2, 2, 2, 2, 2, 2, 2, 2, 2, 2, 2, 2, 2, 2,\n",
              "       2, 2, 2, 2, 3, 3, 3, 3, 3, 3, 3, 3, 3, 3, 3, 3, 3, 3, 3, 3, 3, 3,\n",
              "       3, 3, 3, 3, 3, 3, 3, 3, 3, 3, 3, 3, 3, 3, 3, 3, 3, 3, 3, 3, 3, 3,\n",
              "       3, 3, 3, 3, 3, 3, 3, 3, 3, 3, 3, 3, 3, 3, 3, 3, 3, 3, 3, 3],\n",
              "      dtype=int32)"
            ]
          },
          "metadata": {},
          "execution_count": 5
        }
      ],
      "source": [
        "data_har_y[:]"
      ]
    },
    {
      "cell_type": "code",
      "execution_count": 4,
      "metadata": {
        "colab": {
          "base_uri": "https://localhost:8080/"
        },
        "id": "u0BLkRpPEYrq",
        "outputId": "8a8dc9fe-0fee-4260-a907-a26d52a8c272"
      },
      "outputs": [
        {
          "output_type": "execute_result",
          "data": {
            "text/plain": [
              "((240, 990, 52), (240, 990, 52))"
            ]
          },
          "metadata": {},
          "execution_count": 4
        }
      ],
      "source": [
        "# Transpose x to shape (240, 990, 52)\n",
        "x_transposed = x.transpose(0, 2, 1)/15.0\n",
        "phase_transposed = phase.transpose(0, 2, 1)\n",
        "x_transposed.shape, phase_transposed.shape"
      ]
    },
    {
      "cell_type": "code",
      "source": [
        "def lowPassFilter(inputSignalArray):\n",
        "    filteredOutput = np.zeros(inputSignalArray.shape[0])\n",
        "    filteredOutput[0] = inputSignalArray[0]\n",
        "    #print(filteredOutput)\n",
        "    for i in range(1, inputSignalArray.shape[0]):\n",
        "        newVal = 0.97*filteredOutput[i-1] + .03*inputSignalArray[i]\n",
        "        filteredOutput[i] = newVal\n",
        "    return filteredOutput"
      ],
      "metadata": {
        "id": "oPxCcpsjLyND"
      },
      "execution_count": 5,
      "outputs": []
    },
    {
      "cell_type": "code",
      "source": [
        "csi_magnitude_filtered = np.apply_along_axis(lowPassFilter, 1, x_transposed)"
      ],
      "metadata": {
        "id": "Vqbz4LHpL6Og"
      },
      "execution_count": 6,
      "outputs": []
    },
    {
      "cell_type": "code",
      "source": [
        "\n",
        "import matplotlib.pyplot as plt\n",
        "\n",
        "# Sample data (replace with your actual data)\n",
        "sample_data = csi_magnitude_filtered[0, :, :10]  # Select the first sample and first 4 subcarriers\n",
        "\n",
        "# Create the plot\n",
        "plt.figure(figsize=(10, 6))\n",
        "for i in range(sample_data.shape[1]):\n",
        "  plt.plot(sample_data[:, i], label=f'Subcarrier {i+1}')\n",
        "\n",
        "plt.xlabel('Timesteps')\n",
        "plt.ylabel('Magnitude')\n",
        "plt.title('CSI Magnitude (Filtered)')\n",
        "plt.legend()\n",
        "plt.grid(True)\n",
        "plt.show()\n"
      ],
      "metadata": {
        "colab": {
          "base_uri": "https://localhost:8080/",
          "height": 564
        },
        "id": "GbuONob7MFlR",
        "outputId": "68b36c29-b8c5-473e-de49-e8f33ec8a10c"
      },
      "execution_count": 7,
      "outputs": [
        {
          "output_type": "display_data",
          "data": {
            "text/plain": [
              "<Figure size 1000x600 with 1 Axes>"
            ],
            "image/png": "[encoded data removed]"
          },
          "metadata": {}
        }
      ]
    },
    {
      "cell_type": "code",
      "execution_count": 7,
      "metadata": {
        "colab": {
          "base_uri": "https://localhost:8080/"
        },
        "id": "xld4tO4OEYrr",
        "outputId": "fc1410b7-ec24-4d70-b5e3-209978f6e8d9"
      },
      "outputs": [
        {
          "output_type": "execute_result",
          "data": {
            "text/plain": [
              "(array([34, 50, 38, 40, 36, 32, 42, 51, 30, 39, 41, 46, 44, 37, 43, 31, 33,\n",
              "        29, 28, 48, 49, 35, 45, 47, 26, 27, 25, 24, 23, 22, 21, 20, 19, 18,\n",
              "        17, 16, 15, 14, 13, 12, 11, 10,  9,  8,  7,  6,  5,  4,  2,  1,  0,\n",
              "         3]),\n",
              " array([46, 50, 51, 48, 49, 43, 44, 39, 42, 31, 28, 45, 47, 21, 19, 38, 40,\n",
              "        41, 32,  8, 33, 27, 30, 34, 24, 23,  5, 37, 26, 20,  9, 29, 18,  6,\n",
              "         1,  7, 16, 25, 11, 22, 36,  0, 35, 15, 13, 10, 12, 14, 17,  4,  2,\n",
              "         3]))"
            ]
          },
          "metadata": {},
          "execution_count": 7
        }
      ],
      "source": [
        "# Assuming x_train and x_test are numpy arrays with shape (num_samples, num_timesteps, num_subcarriers=90)\n",
        "\n",
        "# Compute variances across subcarriers for x_train and x_test\n",
        "variances_amp = np.var(x_transposed, axis=(0, 1))  # Compute variance across all samples and time steps (shape: num_subcarriers)\n",
        "variances_phase = np.var(phase_transposed, axis=(0, 1))    # Compute variance across all samples and time steps (shape: num_subcarriers)\n",
        "\n",
        "# Get indices of top three subcarriers with the highest variances\n",
        "top_subcarrier_indices_amp = np.argsort(variances_amp)\n",
        "top_subcarrier_indices_phase = np.argsort(variances_phase)\n",
        "\n",
        "top_subcarrier_indices_amp, top_subcarrier_indices_phase"
      ]
    },
    {
      "cell_type": "code",
      "execution_count": 11,
      "metadata": {
        "id": "SJZIq15AEYrs"
      },
      "outputs": [],
      "source": [
        "# 3 subcarrier\n",
        "#csi_amp_3 = np.array(x_transposed)[:, :,[34, 50, 38]]\n",
        "csi_phase_3 = np.array(phase_transposed)[:,:,[34, 50, 38]]"
      ]
    },
    {
      "cell_type": "code",
      "source": [
        "phase_transposed.shape"
      ],
      "metadata": {
        "colab": {
          "base_uri": "https://localhost:8080/"
        },
        "id": "r8D8xHAmP3dq",
        "outputId": "47d71195-aab9-461d-ade7-400c36bde369"
      },
      "execution_count": 8,
      "outputs": [
        {
          "output_type": "execute_result",
          "data": {
            "text/plain": [
              "(240, 990, 52)"
            ]
          },
          "metadata": {},
          "execution_count": 8
        }
      ]
    },
    {
      "cell_type": "code",
      "execution_count": 9,
      "metadata": {
        "id": "tP26FyzlEYrt"
      },
      "outputs": [],
      "source": [
        "combined = csi_magnitude_filtered[:, :, :30]#np.concatenate((csi_magnitude_filtered[:, :, :3], phase_transposed[:,:,:3]), axis=-1)#csi_magnitude_filtered[:, :, :6]#np.concatenate((csi_amp_3, csi_phase_3), axis=-1)"
      ]
    },
    {
      "cell_type": "code",
      "execution_count": 10,
      "metadata": {
        "colab": {
          "base_uri": "https://localhost:8080/"
        },
        "id": "_ltOMy10EYrt",
        "outputId": "987de435-2953-4803-fb9b-7afd728fe6eb"
      },
      "outputs": [
        {
          "output_type": "execute_result",
          "data": {
            "text/plain": [
              "(240, 990, 30)"
            ]
          },
          "metadata": {},
          "execution_count": 10
        }
      ],
      "source": [
        "np.shape(combined)"
      ]
    },
    {
      "cell_type": "code",
      "execution_count": 15,
      "metadata": {
        "colab": {
          "base_uri": "https://localhost:8080/"
        },
        "id": "C--XdqDTEYru",
        "outputId": "6612d5ec-f61d-4a36-909e-1a6a60e1772a"
      },
      "outputs": [
        {
          "output_type": "execute_result",
          "data": {
            "text/plain": [
              "array([0, 0, 0, 0, 0, 0, 0, 0, 0, 0, 0, 0, 0, 0, 0, 0, 0, 0, 0, 0, 0, 0,\n",
              "       0, 0, 0, 0, 0, 0, 0, 0, 0, 0, 0, 0, 0, 0, 0, 0, 0, 0, 0, 0, 0, 0,\n",
              "       0, 0, 0, 0, 0, 0, 0, 0, 0, 0, 0, 0, 0, 0, 0, 0, 1, 1, 1, 1, 1, 1,\n",
              "       1, 1, 1, 1, 1, 1, 1, 1, 1, 1, 1, 1, 1, 1, 1, 1, 1, 1, 1, 1, 1, 1,\n",
              "       1, 1, 1, 1, 1, 1, 1, 1, 1, 1, 1, 1, 1, 1, 1, 1, 1, 1, 1, 1, 1, 1,\n",
              "       1, 1, 1, 1, 1, 1, 1, 1, 1, 1, 2, 2, 2, 2, 2, 2, 2, 2, 2, 2, 2, 2,\n",
              "       2, 2, 2, 2, 2, 2, 2, 2, 2, 2, 2, 2, 2, 2, 2, 2, 2, 2, 2, 2, 2, 2,\n",
              "       2, 2, 2, 2, 2, 2, 2, 2, 2, 2, 2, 2, 2, 2, 2, 2, 2, 2, 2, 2, 2, 2,\n",
              "       2, 2, 2, 2, 3, 3, 3, 3, 3, 3, 3, 3, 3, 3, 3, 3, 3, 3, 3, 3, 3, 3,\n",
              "       3, 3, 3, 3, 3, 3, 3, 3, 3, 3, 3, 3, 3, 3, 3, 3, 3, 3, 3, 3, 3, 3,\n",
              "       3, 3, 3, 3, 3, 3, 3, 3, 3, 3, 3, 3, 3, 3, 3, 3, 3, 3, 3, 3],\n",
              "      dtype=int32)"
            ]
          },
          "metadata": {},
          "execution_count": 15
        }
      ],
      "source": [
        "np.array(data_har_y)"
      ]
    },
    {
      "cell_type": "code",
      "execution_count": 12,
      "metadata": {
        "colab": {
          "base_uri": "https://localhost:8080/"
        },
        "id": "Sfmhk5uXEYru",
        "outputId": "05c280eb-4cc2-431c-c7dd-a4029c9cd6a3"
      },
      "outputs": [
        {
          "output_type": "stream",
          "name": "stdout",
          "text": [
            "[0 1 2 3] [60 60 60 60]\n"
          ]
        }
      ],
      "source": [
        "# Assuming data_har_y is the same as the provided array in the prompt\n",
        "\n",
        "unique_labels, counts = np.unique(data_har_y, return_counts=True)\n",
        "print(unique_labels, counts)"
      ]
    },
    {
      "cell_type": "code",
      "execution_count": 11,
      "metadata": {
        "id": "Nje4w5EhEYrv"
      },
      "outputs": [],
      "source": [
        "labels = np.array(data_har_y)"
      ]
    },
    {
      "cell_type": "code",
      "execution_count": 15,
      "metadata": {
        "colab": {
          "base_uri": "https://localhost:8080/"
        },
        "id": "zKpSj3k6EYrv",
        "outputId": "91e8516f-0841-4669-ea74-7c581d3e6dce"
      },
      "outputs": [
        {
          "output_type": "execute_result",
          "data": {
            "text/plain": [
              "1.2292725943057183"
            ]
          },
          "metadata": {},
          "execution_count": 15
        }
      ],
      "source": [
        "np.max(combined)"
      ]
    },
    {
      "cell_type": "code",
      "execution_count": 12,
      "metadata": {
        "id": "gLGor8JcEYrv"
      },
      "outputs": [],
      "source": [
        "temp = list(zip(combined, labels))\n",
        "random.shuffle(temp)\n",
        "combined, labels = zip(*temp)\n",
        "combined, labels = list(combined), list(labels)"
      ]
    },
    {
      "cell_type": "code",
      "execution_count": 13,
      "metadata": {
        "id": "unUMKQJzEYrw"
      },
      "outputs": [],
      "source": [
        "from sklearn.utils import shuffle\n",
        "import tensorflow as tf\n",
        "\n",
        "# Shuffle the data and labels together\n",
        "combined_shuffled, labels_shuffled = shuffle(combined, labels, random_state=42)\n",
        "\n",
        "# Split the data and labels\n",
        "x_train = tf.constant(combined_shuffled[:150])\n",
        "x_val = tf.constant(combined_shuffled[150:170])\n",
        "x_test = tf.constant(combined_shuffled[170:240])\n",
        "\n",
        "y_train = tf.constant(labels_shuffled[:150])\n",
        "y_val = tf.constant(labels_shuffled[150:170])\n",
        "y_test = tf.constant(labels_shuffled[170:240])"
      ]
    },
    {
      "cell_type": "code",
      "execution_count": 14,
      "metadata": {
        "colab": {
          "base_uri": "https://localhost:8080/"
        },
        "id": "RsOwmCsVEYrw",
        "outputId": "05b6f2dd-f777-4e34-a99f-fb8f0acf5290"
      },
      "outputs": [
        {
          "output_type": "stream",
          "name": "stdout",
          "text": [
            "Shapes:\n",
            "x_train shape: (150, 990, 30)\n",
            "x_val shape: (20, 990, 30)\n",
            "x_test shape: (70, 990, 30)\n",
            "y_train shape: (150,)\n",
            "y_val shape: (20,)\n",
            "y_test shape: (70,)\n"
          ]
        }
      ],
      "source": [
        "# Verify shapes (optional)\n",
        "print(\"Shapes:\")\n",
        "print(\"x_train shape:\", np.shape(x_train))\n",
        "print(\"x_val shape:\", np.shape(x_val))\n",
        "print(\"x_test shape:\", np.shape(x_test))\n",
        "print(\"y_train shape:\", np.shape(y_train))\n",
        "print(\"y_val shape:\", np.shape(y_val))\n",
        "print(\"y_test shape:\", np.shape(y_test))"
      ]
    },
    {
      "cell_type": "markdown",
      "metadata": {
        "id": "KpHu2IQ4EYrx"
      },
      "source": [
        "## Reshaping 1d to 2d data"
      ]
    },
    {
      "cell_type": "code",
      "execution_count": 15,
      "metadata": {
        "id": "aZo4PnXREYry"
      },
      "outputs": [],
      "source": [
        "# Reshape the data to add an extra dimension for the CNN\n",
        "x_train = np.expand_dims(x_train, axis=-1)  # Shape: (num_samples, 200, 6, 1)\n",
        "x_val = np.expand_dims(x_val, axis=-1)      # Shape: (num_samples, 200, 6, 1)\n",
        "x_test = np.expand_dims(x_test, axis=-1)    # Shape: (num_samples, 200, 6, 1)"
      ]
    },
    {
      "cell_type": "code",
      "execution_count": 16,
      "metadata": {
        "colab": {
          "base_uri": "https://localhost:8080/"
        },
        "id": "PDB3tafnEYry",
        "outputId": "606d801a-0682-43e0-d03e-bc4d85e166ec"
      },
      "outputs": [
        {
          "output_type": "stream",
          "name": "stdout",
          "text": [
            "Shapes:\n",
            "x_train shape: (150, 990, 30, 1)\n",
            "x_val shape: (20, 990, 30, 1)\n",
            "x_test shape: (70, 990, 30, 1)\n",
            "y_train shape: (150,)\n",
            "y_val shape: (20,)\n",
            "y_test shape: (70,)\n"
          ]
        }
      ],
      "source": [
        "# Verify shapes (optional)\n",
        "print(\"Shapes:\")\n",
        "print(\"x_train shape:\", np.shape(x_train))\n",
        "print(\"x_val shape:\", np.shape(x_val))\n",
        "print(\"x_test shape:\", np.shape(x_test))\n",
        "print(\"y_train shape:\", np.shape(y_train))\n",
        "print(\"y_val shape:\", np.shape(y_val))\n",
        "print(\"y_test shape:\", np.shape(y_test))"
      ]
    },
    {
      "cell_type": "code",
      "execution_count": 68,
      "metadata": {
        "colab": {
          "base_uri": "https://localhost:8080/"
        },
        "id": "k6EQMvA2EYrz",
        "outputId": "1da96e77-90fc-4a04-883f-d4a22ca82f41"
      },
      "outputs": [
        {
          "output_type": "execute_result",
          "data": {
            "text/plain": [
              "0"
            ]
          },
          "metadata": {},
          "execution_count": 68
        }
      ],
      "source": [
        "np.min(y_test)"
      ]
    },
    {
      "cell_type": "code",
      "execution_count": 69,
      "metadata": {
        "colab": {
          "base_uri": "https://localhost:8080/"
        },
        "id": "IFn97SLlEYrz",
        "outputId": "a36975ce-e815-445e-d21f-ad12f96a64b4"
      },
      "outputs": [
        {
          "output_type": "execute_result",
          "data": {
            "text/plain": [
              "(150, 990, 3, 1)"
            ]
          },
          "metadata": {},
          "execution_count": 69
        }
      ],
      "source": [
        "np.shape(x_train)"
      ]
    },
    {
      "cell_type": "code",
      "execution_count": 70,
      "metadata": {
        "colab": {
          "base_uri": "https://localhost:8080/"
        },
        "id": "MiJg2a_BEYr0",
        "outputId": "ca20c29e-3e2d-4f55-e771-9b8627b3cc5c"
      },
      "outputs": [
        {
          "output_type": "execute_result",
          "data": {
            "text/plain": [
              "(70, 990, 3, 1)"
            ]
          },
          "metadata": {},
          "execution_count": 70
        }
      ],
      "source": [
        "np.shape(x_test)"
      ]
    },
    {
      "cell_type": "markdown",
      "metadata": {
        "id": "Q6Y8x8tjEYr0"
      },
      "source": [
        "## Model"
      ]
    },
    {
      "cell_type": "code",
      "execution_count": 17,
      "metadata": {
        "id": "x4_5QQHcEYr0"
      },
      "outputs": [],
      "source": [
        "from tensorflow.keras.layers import Conv1D, MaxPool1D, Flatten, Dense, Reshape,  GlobalAveragePooling1D, Masking, Input, MaxPooling1D, GlobalMaxPooling1D, Add, Dropout, BatchNormalization, UpSampling1D, Lambda, Conv2D,Concatenate,Flatten\n",
        "from tensorflow.keras.models import Model\n",
        "from tensorflow.keras.regularizers import l2\n",
        "from tensorflow.keras import models, layers, regularizers, Input"
      ]
    },
    {
      "cell_type": "code",
      "execution_count": 19,
      "metadata": {
        "colab": {
          "base_uri": "https://localhost:8080/",
          "height": 595
        },
        "id": "SFV6MGY6EYr0",
        "outputId": "bf5b2f7d-0a44-4992-945f-d86e5f6874d2"
      },
      "outputs": [
        {
          "output_type": "display_data",
          "data": {
            "text/plain": [
              "\u001b[1mModel: \"functional_1\"\u001b[0m\n"
            ],
            "text/html": [
              "<pre style=\"white-space:pre;overflow-x:auto;line-height:normal;font-family:Menlo,'DejaVu Sans Mono',consolas,'Courier New',monospace\"><span style=\"font-weight: bold\">Model: \"functional_1\"</span>\n",
              "</pre>\n"
            ]
          },
          "metadata": {}
        },
        {
          "output_type": "display_data",
          "data": {
            "text/plain": [
              "┏━━━━━━━━━━━━━━━━━━━━━━━━━━━━━━━━━━━━━━┳━━━━━━━━━━━━━━━━━━━━━━━━━━━━━┳━━━━━━━━━━━━━━━━━┓\n",
              "┃\u001b[1m \u001b[0m\u001b[1mLayer (type)                        \u001b[0m\u001b[1m \u001b[0m┃\u001b[1m \u001b[0m\u001b[1mOutput Shape               \u001b[0m\u001b[1m \u001b[0m┃\u001b[1m \u001b[0m\u001b[1m        Param #\u001b[0m\u001b[1m \u001b[0m┃\n",
              "┡━━━━━━━━━━━━━━━━━━━━━━━━━━━━━━━━━━━━━━╇━━━━━━━━━━━━━━━━━━━━━━━━━━━━━╇━━━━━━━━━━━━━━━━━┩\n",
              "│ input_layer_1 (\u001b[38;5;33mInputLayer\u001b[0m)           │ (\u001b[38;5;45mNone\u001b[0m, \u001b[38;5;34m990\u001b[0m, \u001b[38;5;34m30\u001b[0m, \u001b[38;5;34m1\u001b[0m)          │               \u001b[38;5;34m0\u001b[0m │\n",
              "├──────────────────────────────────────┼─────────────────────────────┼─────────────────┤\n",
              "│ batch_normalization_3                │ (\u001b[38;5;45mNone\u001b[0m, \u001b[38;5;34m990\u001b[0m, \u001b[38;5;34m30\u001b[0m, \u001b[38;5;34m1\u001b[0m)          │               \u001b[38;5;34m4\u001b[0m │\n",
              "│ (\u001b[38;5;33mBatchNormalization\u001b[0m)                 │                             │                 │\n",
              "├──────────────────────────────────────┼─────────────────────────────┼─────────────────┤\n",
              "│ conv2d_2 (\u001b[38;5;33mConv2D\u001b[0m)                    │ (\u001b[38;5;45mNone\u001b[0m, \u001b[38;5;34m990\u001b[0m, \u001b[38;5;34m30\u001b[0m, \u001b[38;5;34m3\u001b[0m)          │              \u001b[38;5;34m78\u001b[0m │\n",
              "├──────────────────────────────────────┼─────────────────────────────┼─────────────────┤\n",
              "│ batch_normalization_4                │ (\u001b[38;5;45mNone\u001b[0m, \u001b[38;5;34m990\u001b[0m, \u001b[38;5;34m30\u001b[0m, \u001b[38;5;34m3\u001b[0m)          │              \u001b[38;5;34m12\u001b[0m │\n",
              "│ (\u001b[38;5;33mBatchNormalization\u001b[0m)                 │                             │                 │\n",
              "├──────────────────────────────────────┼─────────────────────────────┼─────────────────┤\n",
              "│ average_pooling2d_2                  │ (\u001b[38;5;45mNone\u001b[0m, \u001b[38;5;34m330\u001b[0m, \u001b[38;5;34m10\u001b[0m, \u001b[38;5;34m3\u001b[0m)          │               \u001b[38;5;34m0\u001b[0m │\n",
              "│ (\u001b[38;5;33mAveragePooling2D\u001b[0m)                   │                             │                 │\n",
              "├──────────────────────────────────────┼─────────────────────────────┼─────────────────┤\n",
              "│ conv2d_3 (\u001b[38;5;33mConv2D\u001b[0m)                    │ (\u001b[38;5;45mNone\u001b[0m, \u001b[38;5;34m330\u001b[0m, \u001b[38;5;34m10\u001b[0m, \u001b[38;5;34m3\u001b[0m)          │             \u001b[38;5;34m228\u001b[0m │\n",
              "├──────────────────────────────────────┼─────────────────────────────┼─────────────────┤\n",
              "│ batch_normalization_5                │ (\u001b[38;5;45mNone\u001b[0m, \u001b[38;5;34m330\u001b[0m, \u001b[38;5;34m10\u001b[0m, \u001b[38;5;34m3\u001b[0m)          │              \u001b[38;5;34m12\u001b[0m │\n",
              "│ (\u001b[38;5;33mBatchNormalization\u001b[0m)                 │                             │                 │\n",
              "├──────────────────────────────────────┼─────────────────────────────┼─────────────────┤\n",
              "│ flatten_1 (\u001b[38;5;33mFlatten\u001b[0m)                  │ (\u001b[38;5;45mNone\u001b[0m, \u001b[38;5;34m9900\u001b[0m)                │               \u001b[38;5;34m0\u001b[0m │\n",
              "├──────────────────────────────────────┼─────────────────────────────┼─────────────────┤\n",
              "│ dropout_1 (\u001b[38;5;33mDropout\u001b[0m)                  │ (\u001b[38;5;45mNone\u001b[0m, \u001b[38;5;34m9900\u001b[0m)                │               \u001b[38;5;34m0\u001b[0m │\n",
              "├──────────────────────────────────────┼─────────────────────────────┼─────────────────┤\n",
              "│ dense_2 (\u001b[38;5;33mDense\u001b[0m)                      │ (\u001b[38;5;45mNone\u001b[0m, \u001b[38;5;34m128\u001b[0m)                 │       \u001b[38;5;34m1,267,328\u001b[0m │\n",
              "├──────────────────────────────────────┼─────────────────────────────┼─────────────────┤\n",
              "│ dropout_2 (\u001b[38;5;33mDropout\u001b[0m)                  │ (\u001b[38;5;45mNone\u001b[0m, \u001b[38;5;34m128\u001b[0m)                 │               \u001b[38;5;34m0\u001b[0m │\n",
              "├──────────────────────────────────────┼─────────────────────────────┼─────────────────┤\n",
              "│ dense_3 (\u001b[38;5;33mDense\u001b[0m)                      │ (\u001b[38;5;45mNone\u001b[0m, \u001b[38;5;34m4\u001b[0m)                   │             \u001b[38;5;34m516\u001b[0m │\n",
              "└──────────────────────────────────────┴─────────────────────────────┴─────────────────┘\n"
            ],
            "text/html": [
              "<pre style=\"white-space:pre;overflow-x:auto;line-height:normal;font-family:Menlo,'DejaVu Sans Mono',consolas,'Courier New',monospace\">┏━━━━━━━━━━━━━━━━━━━━━━━━━━━━━━━━━━━━━━┳━━━━━━━━━━━━━━━━━━━━━━━━━━━━━┳━━━━━━━━━━━━━━━━━┓\n",
              "┃<span style=\"font-weight: bold\"> Layer (type)                         </span>┃<span style=\"font-weight: bold\"> Output Shape                </span>┃<span style=\"font-weight: bold\">         Param # </span>┃\n",
              "┡━━━━━━━━━━━━━━━━━━━━━━━━━━━━━━━━━━━━━━╇━━━━━━━━━━━━━━━━━━━━━━━━━━━━━╇━━━━━━━━━━━━━━━━━┩\n",
              "│ input_layer_1 (<span style=\"color: #0087ff; text-decoration-color: #0087ff\">InputLayer</span>)           │ (<span style=\"color: #00d7ff; text-decoration-color: #00d7ff\">None</span>, <span style=\"color: #00af00; text-decoration-color: #00af00\">990</span>, <span style=\"color: #00af00; text-decoration-color: #00af00\">30</span>, <span style=\"color: #00af00; text-decoration-color: #00af00\">1</span>)          │               <span style=\"color: #00af00; text-decoration-color: #00af00\">0</span> │\n",
              "├──────────────────────────────────────┼─────────────────────────────┼─────────────────┤\n",
              "│ batch_normalization_3                │ (<span style=\"color: #00d7ff; text-decoration-color: #00d7ff\">None</span>, <span style=\"color: #00af00; text-decoration-color: #00af00\">990</span>, <span style=\"color: #00af00; text-decoration-color: #00af00\">30</span>, <span style=\"color: #00af00; text-decoration-color: #00af00\">1</span>)          │               <span style=\"color: #00af00; text-decoration-color: #00af00\">4</span> │\n",
              "│ (<span style=\"color: #0087ff; text-decoration-color: #0087ff\">BatchNormalization</span>)                 │                             │                 │\n",
              "├──────────────────────────────────────┼─────────────────────────────┼─────────────────┤\n",
              "│ conv2d_2 (<span style=\"color: #0087ff; text-decoration-color: #0087ff\">Conv2D</span>)                    │ (<span style=\"color: #00d7ff; text-decoration-color: #00d7ff\">None</span>, <span style=\"color: #00af00; text-decoration-color: #00af00\">990</span>, <span style=\"color: #00af00; text-decoration-color: #00af00\">30</span>, <span style=\"color: #00af00; text-decoration-color: #00af00\">3</span>)          │              <span style=\"color: #00af00; text-decoration-color: #00af00\">78</span> │\n",
              "├──────────────────────────────────────┼─────────────────────────────┼─────────────────┤\n",
              "│ batch_normalization_4                │ (<span style=\"color: #00d7ff; text-decoration-color: #00d7ff\">None</span>, <span style=\"color: #00af00; text-decoration-color: #00af00\">990</span>, <span style=\"color: #00af00; text-decoration-color: #00af00\">30</span>, <span style=\"color: #00af00; text-decoration-color: #00af00\">3</span>)          │              <span style=\"color: #00af00; text-decoration-color: #00af00\">12</span> │\n",
              "│ (<span style=\"color: #0087ff; text-decoration-color: #0087ff\">BatchNormalization</span>)                 │                             │                 │\n",
              "├──────────────────────────────────────┼─────────────────────────────┼─────────────────┤\n",
              "│ average_pooling2d_2                  │ (<span style=\"color: #00d7ff; text-decoration-color: #00d7ff\">None</span>, <span style=\"color: #00af00; text-decoration-color: #00af00\">330</span>, <span style=\"color: #00af00; text-decoration-color: #00af00\">10</span>, <span style=\"color: #00af00; text-decoration-color: #00af00\">3</span>)          │               <span style=\"color: #00af00; text-decoration-color: #00af00\">0</span> │\n",
              "│ (<span style=\"color: #0087ff; text-decoration-color: #0087ff\">AveragePooling2D</span>)                   │                             │                 │\n",
              "├──────────────────────────────────────┼─────────────────────────────┼─────────────────┤\n",
              "│ conv2d_3 (<span style=\"color: #0087ff; text-decoration-color: #0087ff\">Conv2D</span>)                    │ (<span style=\"color: #00d7ff; text-decoration-color: #00d7ff\">None</span>, <span style=\"color: #00af00; text-decoration-color: #00af00\">330</span>, <span style=\"color: #00af00; text-decoration-color: #00af00\">10</span>, <span style=\"color: #00af00; text-decoration-color: #00af00\">3</span>)          │             <span style=\"color: #00af00; text-decoration-color: #00af00\">228</span> │\n",
              "├──────────────────────────────────────┼─────────────────────────────┼─────────────────┤\n",
              "│ batch_normalization_5                │ (<span style=\"color: #00d7ff; text-decoration-color: #00d7ff\">None</span>, <span style=\"color: #00af00; text-decoration-color: #00af00\">330</span>, <span style=\"color: #00af00; text-decoration-color: #00af00\">10</span>, <span style=\"color: #00af00; text-decoration-color: #00af00\">3</span>)          │              <span style=\"color: #00af00; text-decoration-color: #00af00\">12</span> │\n",
              "│ (<span style=\"color: #0087ff; text-decoration-color: #0087ff\">BatchNormalization</span>)                 │                             │                 │\n",
              "├──────────────────────────────────────┼─────────────────────────────┼─────────────────┤\n",
              "│ flatten_1 (<span style=\"color: #0087ff; text-decoration-color: #0087ff\">Flatten</span>)                  │ (<span style=\"color: #00d7ff; text-decoration-color: #00d7ff\">None</span>, <span style=\"color: #00af00; text-decoration-color: #00af00\">9900</span>)                │               <span style=\"color: #00af00; text-decoration-color: #00af00\">0</span> │\n",
              "├──────────────────────────────────────┼─────────────────────────────┼─────────────────┤\n",
              "│ dropout_1 (<span style=\"color: #0087ff; text-decoration-color: #0087ff\">Dropout</span>)                  │ (<span style=\"color: #00d7ff; text-decoration-color: #00d7ff\">None</span>, <span style=\"color: #00af00; text-decoration-color: #00af00\">9900</span>)                │               <span style=\"color: #00af00; text-decoration-color: #00af00\">0</span> │\n",
              "├──────────────────────────────────────┼─────────────────────────────┼─────────────────┤\n",
              "│ dense_2 (<span style=\"color: #0087ff; text-decoration-color: #0087ff\">Dense</span>)                      │ (<span style=\"color: #00d7ff; text-decoration-color: #00d7ff\">None</span>, <span style=\"color: #00af00; text-decoration-color: #00af00\">128</span>)                 │       <span style=\"color: #00af00; text-decoration-color: #00af00\">1,267,328</span> │\n",
              "├──────────────────────────────────────┼─────────────────────────────┼─────────────────┤\n",
              "│ dropout_2 (<span style=\"color: #0087ff; text-decoration-color: #0087ff\">Dropout</span>)                  │ (<span style=\"color: #00d7ff; text-decoration-color: #00d7ff\">None</span>, <span style=\"color: #00af00; text-decoration-color: #00af00\">128</span>)                 │               <span style=\"color: #00af00; text-decoration-color: #00af00\">0</span> │\n",
              "├──────────────────────────────────────┼─────────────────────────────┼─────────────────┤\n",
              "│ dense_3 (<span style=\"color: #0087ff; text-decoration-color: #0087ff\">Dense</span>)                      │ (<span style=\"color: #00d7ff; text-decoration-color: #00d7ff\">None</span>, <span style=\"color: #00af00; text-decoration-color: #00af00\">4</span>)                   │             <span style=\"color: #00af00; text-decoration-color: #00af00\">516</span> │\n",
              "└──────────────────────────────────────┴─────────────────────────────┴─────────────────┘\n",
              "</pre>\n"
            ]
          },
          "metadata": {}
        },
        {
          "output_type": "display_data",
          "data": {
            "text/plain": [
              "\u001b[1m Total params: \u001b[0m\u001b[38;5;34m1,268,178\u001b[0m (4.84 MB)\n"
            ],
            "text/html": [
              "<pre style=\"white-space:pre;overflow-x:auto;line-height:normal;font-family:Menlo,'DejaVu Sans Mono',consolas,'Courier New',monospace\"><span style=\"font-weight: bold\"> Total params: </span><span style=\"color: #00af00; text-decoration-color: #00af00\">1,268,178</span> (4.84 MB)\n",
              "</pre>\n"
            ]
          },
          "metadata": {}
        },
        {
          "output_type": "display_data",
          "data": {
            "text/plain": [
              "\u001b[1m Trainable params: \u001b[0m\u001b[38;5;34m1,268,164\u001b[0m (4.84 MB)\n"
            ],
            "text/html": [
              "<pre style=\"white-space:pre;overflow-x:auto;line-height:normal;font-family:Menlo,'DejaVu Sans Mono',consolas,'Courier New',monospace\"><span style=\"font-weight: bold\"> Trainable params: </span><span style=\"color: #00af00; text-decoration-color: #00af00\">1,268,164</span> (4.84 MB)\n",
              "</pre>\n"
            ]
          },
          "metadata": {}
        },
        {
          "output_type": "display_data",
          "data": {
            "text/plain": [
              "\u001b[1m Non-trainable params: \u001b[0m\u001b[38;5;34m14\u001b[0m (56.00 B)\n"
            ],
            "text/html": [
              "<pre style=\"white-space:pre;overflow-x:auto;line-height:normal;font-family:Menlo,'DejaVu Sans Mono',consolas,'Courier New',monospace\"><span style=\"font-weight: bold\"> Non-trainable params: </span><span style=\"color: #00af00; text-decoration-color: #00af00\">14</span> (56.00 B)\n",
              "</pre>\n"
            ]
          },
          "metadata": {}
        }
      ],
      "source": [
        "from tensorflow.keras import layers, models, Input\n",
        "\n",
        "\n",
        "# Input layer\n",
        "inputs = Input(shape=(990, 30, 1))\n",
        "x = layers.BatchNormalization()(inputs)\n",
        "# Convolutional Layer 1\n",
        "x = layers.Conv2D(3, (5, 5), padding='same', activation='relu')(x)\n",
        "x = layers.BatchNormalization()(x)\n",
        "x = layers.AveragePooling2D(pool_size=(3, 3))(x)\n",
        "\n",
        "# Convolutional Layer 2\n",
        "x = layers.Conv2D(3, (5, 5), padding='same', activation='relu')(x)\n",
        "x = layers.BatchNormalization()(x)\n",
        "x_b_T = layers.AveragePooling2D(pool_size=(3, 3))(x)\n",
        "\n",
        "# Dropout Layer\n",
        "# Flatten the output to feed into fully connected layer\n",
        "x = layers.Flatten()(x)\n",
        "x = layers.Dropout(0.4)(x)\n",
        "\n",
        "d1 = layers.Dense(128, activation='relu')(x)\n",
        "d1 = layers.Dropout(0.2)(d1)\n",
        "# Fully Connected Layer\n",
        "outputs = layers.Dense(4, activation='sigmoid')(d1)  # Output layer with softmax activation for 276 classes\n",
        "\n",
        "\n",
        "# Create the model\n",
        "comsnet_model = models.Model(inputs=inputs, outputs=outputs)\n",
        "\n",
        "comsnet_model.compile(optimizer='adam', loss='sparse_categorical_crossentropy', metrics=['accuracy'])\n",
        "\n",
        "# Print the model summary\n",
        "comsnet_model.summary()"
      ]
    },
    {
      "cell_type": "code",
      "execution_count": 20,
      "metadata": {
        "colab": {
          "base_uri": "https://localhost:8080/"
        },
        "id": "TlYhUmp0EYr1",
        "outputId": "8283c716-c127-49b8-9cb1-7b74803d54d0"
      },
      "outputs": [
        {
          "output_type": "stream",
          "name": "stdout",
          "text": [
            "Epoch 1/2000\n",
            "\u001b[1m3/3\u001b[0m \u001b[32m━━━━━━━━━━━━━━━━━━━━\u001b[0m\u001b[37m\u001b[0m \u001b[1m12s\u001b[0m 3s/step - accuracy: 0.2734 - loss: 3.3400 - val_accuracy: 0.3000 - val_loss: 1.8317\n",
            "Epoch 2/2000\n",
            "\u001b[1m3/3\u001b[0m \u001b[32m━━━━━━━━━━━━━━━━━━━━\u001b[0m\u001b[37m\u001b[0m \u001b[1m0s\u001b[0m 22ms/step - accuracy: 0.6008 - loss: 2.0718 - val_accuracy: 0.3000 - val_loss: 2.6439\n",
            "Epoch 3/2000\n",
            "\u001b[1m3/3\u001b[0m \u001b[32m━━━━━━━━━━━━━━━━━━━━\u001b[0m\u001b[37m\u001b[0m \u001b[1m0s\u001b[0m 21ms/step - accuracy: 0.6030 - loss: 1.8650 - val_accuracy: 0.3000 - val_loss: 2.7432\n",
            "Epoch 4/2000\n",
            "\u001b[1m3/3\u001b[0m \u001b[32m━━━━━━━━━━━━━━━━━━━━\u001b[0m\u001b[37m\u001b[0m \u001b[1m0s\u001b[0m 21ms/step - accuracy: 0.6478 - loss: 1.2382 - val_accuracy: 0.3000 - val_loss: 2.7023\n",
            "Epoch 5/2000\n",
            "\u001b[1m3/3\u001b[0m \u001b[32m━━━━━━━━━━━━━━━━━━━━\u001b[0m\u001b[37m\u001b[0m \u001b[1m0s\u001b[0m 22ms/step - accuracy: 0.7258 - loss: 1.3008 - val_accuracy: 0.3000 - val_loss: 2.8552\n",
            "Epoch 6/2000\n",
            "\u001b[1m3/3\u001b[0m \u001b[32m━━━━━━━━━━━━━━━━━━━━\u001b[0m\u001b[37m\u001b[0m \u001b[1m0s\u001b[0m 21ms/step - accuracy: 0.7405 - loss: 0.9545 - val_accuracy: 0.1500 - val_loss: 2.8274\n",
            "Epoch 7/2000\n",
            "\u001b[1m3/3\u001b[0m \u001b[32m━━━━━━━━━━━━━━━━━━━━\u001b[0m\u001b[37m\u001b[0m \u001b[1m0s\u001b[0m 20ms/step - accuracy: 0.7801 - loss: 0.9986 - val_accuracy: 0.3000 - val_loss: 3.2618\n",
            "Epoch 8/2000\n",
            "\u001b[1m3/3\u001b[0m \u001b[32m━━━━━━━━━━━━━━━━━━━━\u001b[0m\u001b[37m\u001b[0m \u001b[1m0s\u001b[0m 22ms/step - accuracy: 0.8444 - loss: 0.7825 - val_accuracy: 0.3000 - val_loss: 3.1148\n",
            "Epoch 9/2000\n",
            "\u001b[1m3/3\u001b[0m \u001b[32m━━━━━━━━━━━━━━━━━━━━\u001b[0m\u001b[37m\u001b[0m \u001b[1m0s\u001b[0m 21ms/step - accuracy: 0.7789 - loss: 0.7319 - val_accuracy: 0.1000 - val_loss: 2.4047\n",
            "Epoch 10/2000\n",
            "\u001b[1m3/3\u001b[0m \u001b[32m━━━━━━━━━━━━━━━━━━━━\u001b[0m\u001b[37m\u001b[0m \u001b[1m0s\u001b[0m 22ms/step - accuracy: 0.8307 - loss: 0.7042 - val_accuracy: 0.2000 - val_loss: 2.1572\n",
            "Epoch 11/2000\n",
            "\u001b[1m3/3\u001b[0m \u001b[32m━━━━━━━━━━━━━━━━━━━━\u001b[0m\u001b[37m\u001b[0m \u001b[1m0s\u001b[0m 23ms/step - accuracy: 0.7717 - loss: 0.9503 - val_accuracy: 0.2000 - val_loss: 1.8719\n",
            "Epoch 12/2000\n",
            "\u001b[1m3/3\u001b[0m \u001b[32m━━━━━━━━━━━━━━━━━━━━\u001b[0m\u001b[37m\u001b[0m \u001b[1m0s\u001b[0m 28ms/step - accuracy: 0.8441 - loss: 0.5478 - val_accuracy: 0.3000 - val_loss: 1.7414\n",
            "Epoch 13/2000\n",
            "\u001b[1m3/3\u001b[0m \u001b[32m━━━━━━━━━━━━━━━━━━━━\u001b[0m\u001b[37m\u001b[0m \u001b[1m0s\u001b[0m 27ms/step - accuracy: 0.9143 - loss: 0.2947 - val_accuracy: 0.3000 - val_loss: 1.6503\n",
            "Epoch 14/2000\n",
            "\u001b[1m3/3\u001b[0m \u001b[32m━━━━━━━━━━━━━━━━━━━━\u001b[0m\u001b[37m\u001b[0m \u001b[1m0s\u001b[0m 23ms/step - accuracy: 0.8438 - loss: 0.6736 - val_accuracy: 0.2000 - val_loss: 1.6640\n",
            "Epoch 15/2000\n",
            "\u001b[1m3/3\u001b[0m \u001b[32m━━━━━━━━━━━━━━━━━━━━\u001b[0m\u001b[37m\u001b[0m \u001b[1m0s\u001b[0m 26ms/step - accuracy: 0.8454 - loss: 0.5774 - val_accuracy: 0.2500 - val_loss: 1.7461\n",
            "Epoch 16/2000\n",
            "\u001b[1m3/3\u001b[0m \u001b[32m━━━━━━━━━━━━━━━━━━━━\u001b[0m\u001b[37m\u001b[0m \u001b[1m0s\u001b[0m 23ms/step - accuracy: 0.8302 - loss: 0.6428 - val_accuracy: 0.2500 - val_loss: 1.7787\n",
            "Epoch 17/2000\n",
            "\u001b[1m3/3\u001b[0m \u001b[32m━━━━━━━━━━━━━━━━━━━━\u001b[0m\u001b[37m\u001b[0m \u001b[1m0s\u001b[0m 25ms/step - accuracy: 0.8583 - loss: 0.7189 - val_accuracy: 0.3000 - val_loss: 1.6970\n",
            "Epoch 18/2000\n",
            "\u001b[1m3/3\u001b[0m \u001b[32m━━━━━━━━━━━━━━━━━━━━\u001b[0m\u001b[37m\u001b[0m \u001b[1m0s\u001b[0m 35ms/step - accuracy: 0.8720 - loss: 0.4822 - val_accuracy: 0.3000 - val_loss: 1.4975\n",
            "Epoch 19/2000\n",
            "\u001b[1m3/3\u001b[0m \u001b[32m━━━━━━━━━━━━━━━━━━━━\u001b[0m\u001b[37m\u001b[0m \u001b[1m0s\u001b[0m 34ms/step - accuracy: 0.8650 - loss: 0.3741 - val_accuracy: 0.4000 - val_loss: 1.3848\n",
            "Epoch 20/2000\n",
            "\u001b[1m3/3\u001b[0m \u001b[32m━━━━━━━━━━━━━━━━━━━━\u001b[0m\u001b[37m\u001b[0m \u001b[1m0s\u001b[0m 31ms/step - accuracy: 0.8747 - loss: 0.3861 - val_accuracy: 0.4500 - val_loss: 1.3227\n",
            "Epoch 21/2000\n",
            "\u001b[1m3/3\u001b[0m \u001b[32m━━━━━━━━━━━━━━━━━━━━\u001b[0m\u001b[37m\u001b[0m \u001b[1m0s\u001b[0m 24ms/step - accuracy: 0.9137 - loss: 0.2318 - val_accuracy: 0.1500 - val_loss: 1.3642\n",
            "Epoch 22/2000\n",
            "\u001b[1m3/3\u001b[0m \u001b[32m━━━━━━━━━━━━━━━━━━━━\u001b[0m\u001b[37m\u001b[0m \u001b[1m0s\u001b[0m 23ms/step - accuracy: 0.8480 - loss: 0.5898 - val_accuracy: 0.2000 - val_loss: 1.4399\n",
            "Epoch 23/2000\n",
            "\u001b[1m3/3\u001b[0m \u001b[32m━━━━━━━━━━━━━━━━━━━━\u001b[0m\u001b[37m\u001b[0m \u001b[1m0s\u001b[0m 24ms/step - accuracy: 0.8683 - loss: 0.2966 - val_accuracy: 0.3000 - val_loss: 1.5093\n",
            "Epoch 24/2000\n",
            "\u001b[1m3/3\u001b[0m \u001b[32m━━━━━━━━━━━━━━━━━━━━\u001b[0m\u001b[37m\u001b[0m \u001b[1m0s\u001b[0m 23ms/step - accuracy: 0.8603 - loss: 0.3937 - val_accuracy: 0.3500 - val_loss: 1.5683\n",
            "Epoch 25/2000\n",
            "\u001b[1m3/3\u001b[0m \u001b[32m━━━━━━━━━━━━━━━━━━━━\u001b[0m\u001b[37m\u001b[0m \u001b[1m0s\u001b[0m 24ms/step - accuracy: 0.8992 - loss: 0.3098 - val_accuracy: 0.2500 - val_loss: 1.6103\n",
            "Epoch 26/2000\n",
            "\u001b[1m3/3\u001b[0m \u001b[32m━━━━━━━━━━━━━━━━━━━━\u001b[0m\u001b[37m\u001b[0m \u001b[1m0s\u001b[0m 24ms/step - accuracy: 0.8761 - loss: 0.3021 - val_accuracy: 0.2500 - val_loss: 1.6084\n",
            "Epoch 27/2000\n",
            "\u001b[1m3/3\u001b[0m \u001b[32m━━━━━━━━━━━━━━━━━━━━\u001b[0m\u001b[37m\u001b[0m \u001b[1m0s\u001b[0m 23ms/step - accuracy: 0.9039 - loss: 0.2224 - val_accuracy: 0.2000 - val_loss: 1.5864\n",
            "Epoch 28/2000\n",
            "\u001b[1m3/3\u001b[0m \u001b[32m━━━━━━━━━━━━━━━━━━━━\u001b[0m\u001b[37m\u001b[0m \u001b[1m0s\u001b[0m 27ms/step - accuracy: 0.9012 - loss: 0.3097 - val_accuracy: 0.2000 - val_loss: 1.5207\n",
            "Epoch 29/2000\n",
            "\u001b[1m3/3\u001b[0m \u001b[32m━━━━━━━━━━━━━━━━━━━━\u001b[0m\u001b[37m\u001b[0m \u001b[1m0s\u001b[0m 24ms/step - accuracy: 0.9315 - loss: 0.3796 - val_accuracy: 0.3500 - val_loss: 1.4451\n",
            "Epoch 30/2000\n",
            "\u001b[1m3/3\u001b[0m \u001b[32m━━━━━━━━━━━━━━━━━━━━\u001b[0m\u001b[37m\u001b[0m \u001b[1m0s\u001b[0m 23ms/step - accuracy: 0.9354 - loss: 0.1707 - val_accuracy: 0.3500 - val_loss: 1.4316\n",
            "Epoch 31/2000\n",
            "\u001b[1m3/3\u001b[0m \u001b[32m━━━━━━━━━━━━━━━━━━━━\u001b[0m\u001b[37m\u001b[0m \u001b[1m0s\u001b[0m 24ms/step - accuracy: 0.9006 - loss: 0.3687 - val_accuracy: 0.2500 - val_loss: 1.4938\n",
            "Epoch 32/2000\n",
            "\u001b[1m3/3\u001b[0m \u001b[32m━━━━━━━━━━━━━━━━━━━━\u001b[0m\u001b[37m\u001b[0m \u001b[1m0s\u001b[0m 24ms/step - accuracy: 0.9321 - loss: 0.1326 - val_accuracy: 0.2500 - val_loss: 1.5320\n",
            "Epoch 33/2000\n",
            "\u001b[1m3/3\u001b[0m \u001b[32m━━━━━━━━━━━━━━━━━━━━\u001b[0m\u001b[37m\u001b[0m \u001b[1m0s\u001b[0m 23ms/step - accuracy: 0.9499 - loss: 0.1067 - val_accuracy: 0.3000 - val_loss: 1.4930\n",
            "Epoch 34/2000\n",
            "\u001b[1m3/3\u001b[0m \u001b[32m━━━━━━━━━━━━━━━━━━━━\u001b[0m\u001b[37m\u001b[0m \u001b[1m0s\u001b[0m 24ms/step - accuracy: 0.9636 - loss: 0.1188 - val_accuracy: 0.3000 - val_loss: 1.5281\n",
            "Epoch 35/2000\n",
            "\u001b[1m3/3\u001b[0m \u001b[32m━━━━━━━━━━━━━━━━━━━━\u001b[0m\u001b[37m\u001b[0m \u001b[1m0s\u001b[0m 24ms/step - accuracy: 0.9427 - loss: 0.1569 - val_accuracy: 0.3000 - val_loss: 1.5708\n",
            "Epoch 36/2000\n",
            "\u001b[1m3/3\u001b[0m \u001b[32m━━━━━━━━━━━━━━━━━━━━\u001b[0m\u001b[37m\u001b[0m \u001b[1m0s\u001b[0m 23ms/step - accuracy: 0.9379 - loss: 0.2221 - val_accuracy: 0.2500 - val_loss: 1.6001\n",
            "Epoch 37/2000\n",
            "\u001b[1m3/3\u001b[0m \u001b[32m━━━━━━━━━━━━━━━━━━━━\u001b[0m\u001b[37m\u001b[0m \u001b[1m0s\u001b[0m 31ms/step - accuracy: 0.9368 - loss: 0.1816 - val_accuracy: 0.2500 - val_loss: 1.5868\n",
            "Epoch 38/2000\n",
            "\u001b[1m3/3\u001b[0m \u001b[32m━━━━━━━━━━━━━━━━━━━━\u001b[0m\u001b[37m\u001b[0m \u001b[1m0s\u001b[0m 24ms/step - accuracy: 0.9257 - loss: 0.1595 - val_accuracy: 0.4000 - val_loss: 1.5986\n",
            "Epoch 39/2000\n",
            "\u001b[1m3/3\u001b[0m \u001b[32m━━━━━━━━━━━━━━━━━━━━\u001b[0m\u001b[37m\u001b[0m \u001b[1m0s\u001b[0m 24ms/step - accuracy: 0.9129 - loss: 0.2275 - val_accuracy: 0.3000 - val_loss: 1.6381\n",
            "Epoch 40/2000\n",
            "\u001b[1m3/3\u001b[0m \u001b[32m━━━━━━━━━━━━━━━━━━━━\u001b[0m\u001b[37m\u001b[0m \u001b[1m0s\u001b[0m 23ms/step - accuracy: 0.9362 - loss: 0.1177 - val_accuracy: 0.3000 - val_loss: 1.6648\n",
            "Epoch 41/2000\n",
            "\u001b[1m3/3\u001b[0m \u001b[32m━━━━━━━━━━━━━━━━━━━━\u001b[0m\u001b[37m\u001b[0m \u001b[1m0s\u001b[0m 24ms/step - accuracy: 0.9624 - loss: 0.1380 - val_accuracy: 0.3000 - val_loss: 1.6109\n",
            "Epoch 42/2000\n",
            "\u001b[1m3/3\u001b[0m \u001b[32m━━━━━━━━━━━━━━━━━━━━\u001b[0m\u001b[37m\u001b[0m \u001b[1m0s\u001b[0m 23ms/step - accuracy: 0.9730 - loss: 0.1189 - val_accuracy: 0.3000 - val_loss: 1.6094\n",
            "Epoch 43/2000\n",
            "\u001b[1m3/3\u001b[0m \u001b[32m━━━━━━━━━━━━━━━━━━━━\u001b[0m\u001b[37m\u001b[0m \u001b[1m0s\u001b[0m 25ms/step - accuracy: 0.9491 - loss: 0.1807 - val_accuracy: 0.4000 - val_loss: 1.6544\n",
            "Epoch 44/2000\n",
            "\u001b[1m3/3\u001b[0m \u001b[32m━━━━━━━━━━━━━━━━━━━━\u001b[0m\u001b[37m\u001b[0m \u001b[1m0s\u001b[0m 24ms/step - accuracy: 0.9000 - loss: 0.2586 - val_accuracy: 0.1500 - val_loss: 1.7396\n",
            "Epoch 45/2000\n",
            "\u001b[1m3/3\u001b[0m \u001b[32m━━━━━━━━━━━━━━━━━━━━\u001b[0m\u001b[37m\u001b[0m \u001b[1m0s\u001b[0m 23ms/step - accuracy: 0.9098 - loss: 0.2232 - val_accuracy: 0.1500 - val_loss: 1.8137\n",
            "Epoch 46/2000\n",
            "\u001b[1m3/3\u001b[0m \u001b[32m━━━━━━━━━━━━━━━━━━━━\u001b[0m\u001b[37m\u001b[0m \u001b[1m0s\u001b[0m 29ms/step - accuracy: 0.9466 - loss: 0.1951 - val_accuracy: 0.1500 - val_loss: 1.8312\n",
            "Epoch 47/2000\n",
            "\u001b[1m3/3\u001b[0m \u001b[32m━━━━━━━━━━━━━━━━━━━━\u001b[0m\u001b[37m\u001b[0m \u001b[1m0s\u001b[0m 24ms/step - accuracy: 0.9343 - loss: 0.1764 - val_accuracy: 0.3000 - val_loss: 1.7778\n",
            "Epoch 48/2000\n",
            "\u001b[1m3/3\u001b[0m \u001b[32m━━━━━━━━━━━━━━━━━━━━\u001b[0m\u001b[37m\u001b[0m \u001b[1m0s\u001b[0m 24ms/step - accuracy: 0.9702 - loss: 0.1220 - val_accuracy: 0.3000 - val_loss: 1.7252\n",
            "Epoch 49/2000\n",
            "\u001b[1m3/3\u001b[0m \u001b[32m━━━━━━━━━━━━━━━━━━━━\u001b[0m\u001b[37m\u001b[0m \u001b[1m0s\u001b[0m 23ms/step - accuracy: 0.9493 - loss: 0.1566 - val_accuracy: 0.3500 - val_loss: 1.6006\n",
            "Epoch 50/2000\n",
            "\u001b[1m3/3\u001b[0m \u001b[32m━━━━━━━━━━━━━━━━━━━━\u001b[0m\u001b[37m\u001b[0m \u001b[1m0s\u001b[0m 24ms/step - accuracy: 0.9540 - loss: 0.1617 - val_accuracy: 0.3500 - val_loss: 1.4581\n",
            "Epoch 51/2000\n",
            "\u001b[1m3/3\u001b[0m \u001b[32m━━━━━━━━━━━━━━━━━━━━\u001b[0m\u001b[37m\u001b[0m \u001b[1m0s\u001b[0m 25ms/step - accuracy: 0.9527 - loss: 0.1521 - val_accuracy: 0.4000 - val_loss: 1.4074\n",
            "Epoch 52/2000\n",
            "\u001b[1m3/3\u001b[0m \u001b[32m━━━━━━━━━━━━━━━━━━━━\u001b[0m\u001b[37m\u001b[0m \u001b[1m0s\u001b[0m 24ms/step - accuracy: 0.9552 - loss: 0.1469 - val_accuracy: 0.3500 - val_loss: 1.4177\n",
            "Epoch 53/2000\n",
            "\u001b[1m3/3\u001b[0m \u001b[32m━━━━━━━━━━━━━━━━━━━━\u001b[0m\u001b[37m\u001b[0m \u001b[1m0s\u001b[0m 23ms/step - accuracy: 0.9571 - loss: 0.0933 - val_accuracy: 0.4000 - val_loss: 1.4519\n",
            "Epoch 54/2000\n",
            "\u001b[1m3/3\u001b[0m \u001b[32m━━━━━━━━━━━━━━━━━━━━\u001b[0m\u001b[37m\u001b[0m \u001b[1m0s\u001b[0m 30ms/step - accuracy: 0.9722 - loss: 0.0556 - val_accuracy: 0.3000 - val_loss: 1.4946\n",
            "Epoch 55/2000\n",
            "\u001b[1m3/3\u001b[0m \u001b[32m━━━━━━━━━━━━━━━━━━━━\u001b[0m\u001b[37m\u001b[0m \u001b[1m0s\u001b[0m 25ms/step - accuracy: 0.9855 - loss: 0.0728 - val_accuracy: 0.3000 - val_loss: 1.4703\n",
            "Epoch 56/2000\n",
            "\u001b[1m3/3\u001b[0m \u001b[32m━━━━━━━━━━━━━━━━━━━━\u001b[0m\u001b[37m\u001b[0m \u001b[1m0s\u001b[0m 24ms/step - accuracy: 0.9789 - loss: 0.0636 - val_accuracy: 0.3000 - val_loss: 1.4331\n",
            "Epoch 57/2000\n",
            "\u001b[1m3/3\u001b[0m \u001b[32m━━━━━━━━━━━━━━━━━━━━\u001b[0m\u001b[37m\u001b[0m \u001b[1m0s\u001b[0m 24ms/step - accuracy: 0.9421 - loss: 0.1544 - val_accuracy: 0.3500 - val_loss: 1.4483\n",
            "Epoch 58/2000\n",
            "\u001b[1m3/3\u001b[0m \u001b[32m━━━━━━━━━━━━━━━━━━━━\u001b[0m\u001b[37m\u001b[0m \u001b[1m0s\u001b[0m 24ms/step - accuracy: 0.9763 - loss: 0.1524 - val_accuracy: 0.4500 - val_loss: 1.4904\n",
            "Epoch 59/2000\n",
            "\u001b[1m3/3\u001b[0m \u001b[32m━━━━━━━━━━━━━━━━━━━━\u001b[0m\u001b[37m\u001b[0m \u001b[1m0s\u001b[0m 24ms/step - accuracy: 0.9493 - loss: 0.1178 - val_accuracy: 0.4000 - val_loss: 1.6077\n",
            "Epoch 60/2000\n",
            "\u001b[1m3/3\u001b[0m \u001b[32m━━━━━━━━━━━━━━━━━━━━\u001b[0m\u001b[37m\u001b[0m \u001b[1m0s\u001b[0m 24ms/step - accuracy: 0.9861 - loss: 0.0822 - val_accuracy: 0.4000 - val_loss: 1.6974\n",
            "Epoch 61/2000\n",
            "\u001b[1m3/3\u001b[0m \u001b[32m━━━━━━━━━━━━━━━━━━━━\u001b[0m\u001b[37m\u001b[0m \u001b[1m0s\u001b[0m 24ms/step - accuracy: 0.9579 - loss: 0.1168 - val_accuracy: 0.3500 - val_loss: 1.7403\n",
            "Epoch 62/2000\n",
            "\u001b[1m3/3\u001b[0m \u001b[32m━━━━━━━━━━━━━━━━━━━━\u001b[0m\u001b[37m\u001b[0m \u001b[1m0s\u001b[0m 23ms/step - accuracy: 0.9730 - loss: 0.0692 - val_accuracy: 0.3500 - val_loss: 1.8025\n",
            "Epoch 63/2000\n",
            "\u001b[1m3/3\u001b[0m \u001b[32m━━━━━━━━━━━━━━━━━━━━\u001b[0m\u001b[37m\u001b[0m \u001b[1m0s\u001b[0m 29ms/step - accuracy: 0.9822 - loss: 0.1574 - val_accuracy: 0.4000 - val_loss: 1.8374\n",
            "Epoch 64/2000\n",
            "\u001b[1m3/3\u001b[0m \u001b[32m━━━━━━━━━━━━━━━━━━━━\u001b[0m\u001b[37m\u001b[0m \u001b[1m0s\u001b[0m 24ms/step - accuracy: 0.9967 - loss: 0.0342 - val_accuracy: 0.4000 - val_loss: 1.8637\n",
            "Epoch 65/2000\n",
            "\u001b[1m3/3\u001b[0m \u001b[32m━━━━━━━━━━━━━━━━━━━━\u001b[0m\u001b[37m\u001b[0m \u001b[1m0s\u001b[0m 25ms/step - accuracy: 0.9618 - loss: 0.1612 - val_accuracy: 0.4000 - val_loss: 1.8910\n",
            "Epoch 66/2000\n",
            "\u001b[1m3/3\u001b[0m \u001b[32m━━━━━━━━━━━━━━━━━━━━\u001b[0m\u001b[37m\u001b[0m \u001b[1m0s\u001b[0m 24ms/step - accuracy: 0.9624 - loss: 0.0640 - val_accuracy: 0.4000 - val_loss: 1.9016\n",
            "Epoch 67/2000\n",
            "\u001b[1m3/3\u001b[0m \u001b[32m━━━━━━━━━━━━━━━━━━━━\u001b[0m\u001b[37m\u001b[0m \u001b[1m0s\u001b[0m 25ms/step - accuracy: 0.9401 - loss: 0.2983 - val_accuracy: 0.4500 - val_loss: 1.8492\n",
            "Epoch 68/2000\n",
            "\u001b[1m3/3\u001b[0m \u001b[32m━━━━━━━━━━━━━━━━━━━━\u001b[0m\u001b[37m\u001b[0m \u001b[1m0s\u001b[0m 24ms/step - accuracy: 0.9855 - loss: 0.0629 - val_accuracy: 0.3000 - val_loss: 1.8350\n",
            "Epoch 69/2000\n",
            "\u001b[1m3/3\u001b[0m \u001b[32m━━━━━━━━━━━━━━━━━━━━\u001b[0m\u001b[37m\u001b[0m \u001b[1m0s\u001b[0m 24ms/step - accuracy: 0.9816 - loss: 0.0634 - val_accuracy: 0.3000 - val_loss: 1.7961\n",
            "Epoch 70/2000\n",
            "\u001b[1m3/3\u001b[0m \u001b[32m━━━━━━━━━━━━━━━━━━━━\u001b[0m\u001b[37m\u001b[0m \u001b[1m0s\u001b[0m 24ms/step - accuracy: 0.9710 - loss: 0.0637 - val_accuracy: 0.3500 - val_loss: 1.6455\n",
            "Epoch 71/2000\n",
            "\u001b[1m3/3\u001b[0m \u001b[32m━━━━━━━━━━━━━━━━━━━━\u001b[0m\u001b[37m\u001b[0m \u001b[1m0s\u001b[0m 24ms/step - accuracy: 0.9894 - loss: 0.0350 - val_accuracy: 0.4000 - val_loss: 1.5380\n",
            "Epoch 72/2000\n",
            "\u001b[1m3/3\u001b[0m \u001b[32m━━━━━━━━━━━━━━━━━━━━\u001b[0m\u001b[37m\u001b[0m \u001b[1m0s\u001b[0m 38ms/step - accuracy: 1.0000 - loss: 0.0162 - val_accuracy: 0.3500 - val_loss: 1.5521\n",
            "Epoch 73/2000\n",
            "\u001b[1m3/3\u001b[0m \u001b[32m━━━━━━━━━━━━━━━━━━━━\u001b[0m\u001b[37m\u001b[0m \u001b[1m0s\u001b[0m 24ms/step - accuracy: 0.9710 - loss: 0.0512 - val_accuracy: 0.2500 - val_loss: 1.5896\n",
            "Epoch 74/2000\n",
            "\u001b[1m3/3\u001b[0m \u001b[32m━━━━━━━━━━━━━━━━━━━━\u001b[0m\u001b[37m\u001b[0m \u001b[1m0s\u001b[0m 24ms/step - accuracy: 0.9847 - loss: 0.0609 - val_accuracy: 0.3000 - val_loss: 1.5530\n",
            "Epoch 75/2000\n",
            "\u001b[1m3/3\u001b[0m \u001b[32m━━━━━━━━━━━━━━━━━━━━\u001b[0m\u001b[37m\u001b[0m \u001b[1m0s\u001b[0m 24ms/step - accuracy: 0.9724 - loss: 0.0501 - val_accuracy: 0.2500 - val_loss: 1.4987\n",
            "Epoch 76/2000\n",
            "\u001b[1m3/3\u001b[0m \u001b[32m━━━━━━━━━━━━━━━━━━━━\u001b[0m\u001b[37m\u001b[0m \u001b[1m0s\u001b[0m 25ms/step - accuracy: 0.9947 - loss: 0.0321 - val_accuracy: 0.2500 - val_loss: 1.4920\n",
            "Epoch 77/2000\n",
            "\u001b[1m3/3\u001b[0m \u001b[32m━━━━━━━━━━━━━━━━━━━━\u001b[0m\u001b[37m\u001b[0m \u001b[1m0s\u001b[0m 24ms/step - accuracy: 0.9900 - loss: 0.0428 - val_accuracy: 0.5000 - val_loss: 1.3455\n",
            "Epoch 78/2000\n",
            "\u001b[1m3/3\u001b[0m \u001b[32m━━━━━━━━━━━━━━━━━━━━\u001b[0m\u001b[37m\u001b[0m \u001b[1m0s\u001b[0m 28ms/step - accuracy: 0.9967 - loss: 0.0268 - val_accuracy: 0.6500 - val_loss: 1.2148\n",
            "Epoch 79/2000\n",
            "\u001b[1m3/3\u001b[0m \u001b[32m━━━━━━━━━━━━━━━━━━━━\u001b[0m\u001b[37m\u001b[0m \u001b[1m0s\u001b[0m 24ms/step - accuracy: 0.9875 - loss: 0.0543 - val_accuracy: 0.5500 - val_loss: 1.2537\n",
            "Epoch 80/2000\n",
            "\u001b[1m3/3\u001b[0m \u001b[32m━━━━━━━━━━━━━━━━━━━━\u001b[0m\u001b[37m\u001b[0m \u001b[1m0s\u001b[0m 25ms/step - accuracy: 0.9875 - loss: 0.0477 - val_accuracy: 0.5500 - val_loss: 1.3246\n",
            "Epoch 81/2000\n",
            "\u001b[1m3/3\u001b[0m \u001b[32m━━━━━━━━━━━━━━━━━━━━\u001b[0m\u001b[37m\u001b[0m \u001b[1m0s\u001b[0m 41ms/step - accuracy: 0.9763 - loss: 0.0927 - val_accuracy: 0.5500 - val_loss: 1.3669\n",
            "Epoch 82/2000\n",
            "\u001b[1m3/3\u001b[0m \u001b[32m━━━━━━━━━━━━━━━━━━━━\u001b[0m\u001b[37m\u001b[0m \u001b[1m0s\u001b[0m 31ms/step - accuracy: 0.9783 - loss: 0.0783 - val_accuracy: 0.5500 - val_loss: 1.4762\n",
            "Epoch 83/2000\n",
            "\u001b[1m3/3\u001b[0m \u001b[32m━━━━━━━━━━━━━━━━━━━━\u001b[0m\u001b[37m\u001b[0m \u001b[1m0s\u001b[0m 37ms/step - accuracy: 0.9808 - loss: 0.0663 - val_accuracy: 0.4500 - val_loss: 1.6655\n",
            "Epoch 84/2000\n",
            "\u001b[1m3/3\u001b[0m \u001b[32m━━━━━━━━━━━━━━━━━━━━\u001b[0m\u001b[37m\u001b[0m \u001b[1m0s\u001b[0m 67ms/step - accuracy: 0.9822 - loss: 0.0851 - val_accuracy: 0.4000 - val_loss: 1.8874\n",
            "Epoch 85/2000\n",
            "\u001b[1m3/3\u001b[0m \u001b[32m━━━━━━━━━━━━━━━━━━━━\u001b[0m\u001b[37m\u001b[0m \u001b[1m0s\u001b[0m 132ms/step - accuracy: 0.9658 - loss: 0.1452 - val_accuracy: 0.4000 - val_loss: 2.1029\n",
            "Epoch 86/2000\n",
            "\u001b[1m3/3\u001b[0m \u001b[32m━━━━━━━━━━━━━━━━━━━━\u001b[0m\u001b[37m\u001b[0m \u001b[1m0s\u001b[0m 41ms/step - accuracy: 0.9841 - loss: 0.0429 - val_accuracy: 0.4000 - val_loss: 2.1202\n",
            "Epoch 87/2000\n",
            "\u001b[1m3/3\u001b[0m \u001b[32m━━━━━━━━━━━━━━━━━━━━\u001b[0m\u001b[37m\u001b[0m \u001b[1m0s\u001b[0m 115ms/step - accuracy: 0.9816 - loss: 0.0459 - val_accuracy: 0.3500 - val_loss: 2.0171\n",
            "Epoch 88/2000\n",
            "\u001b[1m3/3\u001b[0m \u001b[32m━━━━━━━━━━━━━━━━━━━━\u001b[0m\u001b[37m\u001b[0m \u001b[1m0s\u001b[0m 42ms/step - accuracy: 0.9571 - loss: 0.0997 - val_accuracy: 0.4500 - val_loss: 1.6798\n",
            "Epoch 89/2000\n",
            "\u001b[1m3/3\u001b[0m \u001b[32m━━━━━━━━━━━━━━━━━━━━\u001b[0m\u001b[37m\u001b[0m \u001b[1m0s\u001b[0m 42ms/step - accuracy: 0.9947 - loss: 0.0202 - val_accuracy: 0.6500 - val_loss: 1.4423\n",
            "Epoch 90/2000\n",
            "\u001b[1m3/3\u001b[0m \u001b[32m━━━━━━━━━━━━━━━━━━━━\u001b[0m\u001b[37m\u001b[0m \u001b[1m0s\u001b[0m 96ms/step - accuracy: 0.9763 - loss: 0.0468 - val_accuracy: 0.6000 - val_loss: 1.5084\n",
            "Epoch 91/2000\n",
            "\u001b[1m3/3\u001b[0m \u001b[32m━━━━━━━━━━━━━━━━━━━━\u001b[0m\u001b[37m\u001b[0m \u001b[1m0s\u001b[0m 41ms/step - accuracy: 0.9763 - loss: 0.1102 - val_accuracy: 0.7000 - val_loss: 1.4285\n",
            "Epoch 92/2000\n",
            "\u001b[1m3/3\u001b[0m \u001b[32m━━━━━━━━━━━━━━━━━━━━\u001b[0m\u001b[37m\u001b[0m \u001b[1m0s\u001b[0m 40ms/step - accuracy: 0.9908 - loss: 0.0372 - val_accuracy: 0.6500 - val_loss: 1.3818\n",
            "Epoch 93/2000\n",
            "\u001b[1m3/3\u001b[0m \u001b[32m━━━━━━━━━━━━━━━━━━━━\u001b[0m\u001b[37m\u001b[0m \u001b[1m0s\u001b[0m 37ms/step - accuracy: 0.9763 - loss: 0.0798 - val_accuracy: 0.6000 - val_loss: 1.4538\n",
            "Epoch 94/2000\n",
            "\u001b[1m3/3\u001b[0m \u001b[32m━━━━━━━━━━━━━━━━━━━━\u001b[0m\u001b[37m\u001b[0m \u001b[1m0s\u001b[0m 36ms/step - accuracy: 1.0000 - loss: 0.0278 - val_accuracy: 0.6000 - val_loss: 1.5479\n",
            "Epoch 95/2000\n",
            "\u001b[1m3/3\u001b[0m \u001b[32m━━━━━━━━━━━━━━━━━━━━\u001b[0m\u001b[37m\u001b[0m \u001b[1m0s\u001b[0m 34ms/step - accuracy: 0.9914 - loss: 0.0211 - val_accuracy: 0.5500 - val_loss: 1.5454\n",
            "Epoch 96/2000\n",
            "\u001b[1m3/3\u001b[0m \u001b[32m━━━━━━━━━━━━━━━━━━━━\u001b[0m\u001b[37m\u001b[0m \u001b[1m0s\u001b[0m 51ms/step - accuracy: 0.9894 - loss: 0.0503 - val_accuracy: 0.6000 - val_loss: 1.4260\n",
            "Epoch 97/2000\n",
            "\u001b[1m3/3\u001b[0m \u001b[32m━━━━━━━━━━━━━━━━━━━━\u001b[0m\u001b[37m\u001b[0m \u001b[1m0s\u001b[0m 46ms/step - accuracy: 1.0000 - loss: 0.0109 - val_accuracy: 0.6500 - val_loss: 1.3700\n",
            "Epoch 98/2000\n",
            "\u001b[1m3/3\u001b[0m \u001b[32m━━━━━━━━━━━━━━━━━━━━\u001b[0m\u001b[37m\u001b[0m \u001b[1m0s\u001b[0m 38ms/step - accuracy: 0.9967 - loss: 0.0170 - val_accuracy: 0.6500 - val_loss: 1.3660\n",
            "Epoch 99/2000\n",
            "\u001b[1m3/3\u001b[0m \u001b[32m━━━━━━━━━━━━━━━━━━━━\u001b[0m\u001b[37m\u001b[0m \u001b[1m0s\u001b[0m 31ms/step - accuracy: 1.0000 - loss: 0.0156 - val_accuracy: 0.7000 - val_loss: 1.3352\n",
            "Epoch 100/2000\n",
            "\u001b[1m3/3\u001b[0m \u001b[32m━━━━━━━━━━━━━━━━━━━━\u001b[0m\u001b[37m\u001b[0m \u001b[1m0s\u001b[0m 39ms/step - accuracy: 0.9947 - loss: 0.0292 - val_accuracy: 0.6500 - val_loss: 1.2767\n",
            "Epoch 101/2000\n",
            "\u001b[1m3/3\u001b[0m \u001b[32m━━━━━━━━━━━━━━━━━━━━\u001b[0m\u001b[37m\u001b[0m \u001b[1m0s\u001b[0m 30ms/step - accuracy: 0.9947 - loss: 0.0232 - val_accuracy: 0.6500 - val_loss: 1.2028\n",
            "Epoch 102/2000\n",
            "\u001b[1m3/3\u001b[0m \u001b[32m━━━━━━━━━━━━━━━━━━━━\u001b[0m\u001b[37m\u001b[0m \u001b[1m0s\u001b[0m 28ms/step - accuracy: 0.9697 - loss: 0.0306 - val_accuracy: 0.6500 - val_loss: 1.1786\n",
            "Epoch 103/2000\n",
            "\u001b[1m3/3\u001b[0m \u001b[32m━━━━━━━━━━━━━━━━━━━━\u001b[0m\u001b[37m\u001b[0m \u001b[1m0s\u001b[0m 25ms/step - accuracy: 0.9914 - loss: 0.0141 - val_accuracy: 0.6500 - val_loss: 1.2118\n",
            "Epoch 104/2000\n",
            "\u001b[1m3/3\u001b[0m \u001b[32m━━━━━━━━━━━━━━━━━━━━\u001b[0m\u001b[37m\u001b[0m \u001b[1m0s\u001b[0m 24ms/step - accuracy: 0.9671 - loss: 0.0439 - val_accuracy: 0.6500 - val_loss: 1.2400\n",
            "Epoch 105/2000\n",
            "\u001b[1m3/3\u001b[0m \u001b[32m━━━━━━━━━━━━━━━━━━━━\u001b[0m\u001b[37m\u001b[0m \u001b[1m0s\u001b[0m 27ms/step - accuracy: 0.9967 - loss: 0.0107 - val_accuracy: 0.6500 - val_loss: 1.2509\n",
            "Epoch 106/2000\n",
            "\u001b[1m3/3\u001b[0m \u001b[32m━━━━━━━━━━━━━━━━━━━━\u001b[0m\u001b[37m\u001b[0m \u001b[1m0s\u001b[0m 24ms/step - accuracy: 0.9861 - loss: 0.0161 - val_accuracy: 0.6500 - val_loss: 1.2644\n",
            "Epoch 107/2000\n",
            "\u001b[1m3/3\u001b[0m \u001b[32m━━━━━━━━━━━━━━━━━━━━\u001b[0m\u001b[37m\u001b[0m \u001b[1m0s\u001b[0m 28ms/step - accuracy: 0.9730 - loss: 0.0376 - val_accuracy: 0.7000 - val_loss: 1.1619\n",
            "Epoch 108/2000\n",
            "\u001b[1m3/3\u001b[0m \u001b[32m━━━━━━━━━━━━━━━━━━━━\u001b[0m\u001b[37m\u001b[0m \u001b[1m0s\u001b[0m 31ms/step - accuracy: 0.9880 - loss: 0.0407 - val_accuracy: 0.7000 - val_loss: 1.0433\n",
            "Epoch 109/2000\n",
            "\u001b[1m3/3\u001b[0m \u001b[32m━━━━━━━━━━━━━━━━━━━━\u001b[0m\u001b[37m\u001b[0m \u001b[1m0s\u001b[0m 24ms/step - accuracy: 0.9702 - loss: 0.0540 - val_accuracy: 0.6500 - val_loss: 1.0742\n",
            "Epoch 110/2000\n",
            "\u001b[1m3/3\u001b[0m \u001b[32m━━━━━━━━━━━━━━━━━━━━\u001b[0m\u001b[37m\u001b[0m \u001b[1m0s\u001b[0m 24ms/step - accuracy: 0.9841 - loss: 0.0355 - val_accuracy: 0.6000 - val_loss: 1.2600\n",
            "Epoch 111/2000\n",
            "\u001b[1m3/3\u001b[0m \u001b[32m━━━━━━━━━━━━━━━━━━━━\u001b[0m\u001b[37m\u001b[0m \u001b[1m0s\u001b[0m 25ms/step - accuracy: 0.9908 - loss: 0.0179 - val_accuracy: 0.6000 - val_loss: 1.4200\n",
            "Epoch 112/2000\n",
            "\u001b[1m3/3\u001b[0m \u001b[32m━━━━━━━━━━━━━━━━━━━━\u001b[0m\u001b[37m\u001b[0m \u001b[1m0s\u001b[0m 25ms/step - accuracy: 0.9749 - loss: 0.0525 - val_accuracy: 0.5500 - val_loss: 1.5932\n",
            "Epoch 113/2000\n",
            "\u001b[1m3/3\u001b[0m \u001b[32m━━━━━━━━━━━━━━━━━━━━\u001b[0m\u001b[37m\u001b[0m \u001b[1m0s\u001b[0m 24ms/step - accuracy: 0.9644 - loss: 0.0823 - val_accuracy: 0.5500 - val_loss: 1.7199\n",
            "Epoch 114/2000\n",
            "\u001b[1m3/3\u001b[0m \u001b[32m━━━━━━━━━━━━━━━━━━━━\u001b[0m\u001b[37m\u001b[0m \u001b[1m0s\u001b[0m 29ms/step - accuracy: 0.9644 - loss: 0.0406 - val_accuracy: 0.5500 - val_loss: 1.6775\n",
            "Epoch 115/2000\n",
            "\u001b[1m3/3\u001b[0m \u001b[32m━━━━━━━━━━━━━━━━━━━━\u001b[0m\u001b[37m\u001b[0m \u001b[1m0s\u001b[0m 25ms/step - accuracy: 0.9861 - loss: 0.0247 - val_accuracy: 0.5500 - val_loss: 1.6706\n",
            "Epoch 116/2000\n",
            "\u001b[1m3/3\u001b[0m \u001b[32m━━━━━━━━━━━━━━━━━━━━\u001b[0m\u001b[37m\u001b[0m \u001b[1m0s\u001b[0m 25ms/step - accuracy: 0.9683 - loss: 0.1182 - val_accuracy: 0.6000 - val_loss: 1.5816\n",
            "Epoch 117/2000\n",
            "\u001b[1m3/3\u001b[0m \u001b[32m━━━━━━━━━━━━━━━━━━━━\u001b[0m\u001b[37m\u001b[0m \u001b[1m0s\u001b[0m 29ms/step - accuracy: 0.9691 - loss: 0.0492 - val_accuracy: 0.6000 - val_loss: 1.5533\n",
            "Epoch 118/2000\n",
            "\u001b[1m3/3\u001b[0m \u001b[32m━━━━━━━━━━━━━━━━━━━━\u001b[0m\u001b[37m\u001b[0m \u001b[1m0s\u001b[0m 25ms/step - accuracy: 0.9769 - loss: 0.0289 - val_accuracy: 0.7000 - val_loss: 1.5347\n",
            "Epoch 119/2000\n",
            "\u001b[1m3/3\u001b[0m \u001b[32m━━━━━━━━━━━━━━━━━━━━\u001b[0m\u001b[37m\u001b[0m \u001b[1m0s\u001b[0m 25ms/step - accuracy: 0.9861 - loss: 0.0555 - val_accuracy: 0.7000 - val_loss: 1.4893\n",
            "Epoch 120/2000\n",
            "\u001b[1m3/3\u001b[0m \u001b[32m━━━━━━━━━━━━━━━━━━━━\u001b[0m\u001b[37m\u001b[0m \u001b[1m0s\u001b[0m 24ms/step - accuracy: 0.9783 - loss: 0.0450 - val_accuracy: 0.6500 - val_loss: 1.3600\n",
            "Epoch 121/2000\n",
            "\u001b[1m3/3\u001b[0m \u001b[32m━━━━━━━━━━━━━━━━━━━━\u001b[0m\u001b[37m\u001b[0m \u001b[1m0s\u001b[0m 24ms/step - accuracy: 0.9908 - loss: 0.0327 - val_accuracy: 0.6000 - val_loss: 1.2803\n",
            "Epoch 122/2000\n",
            "\u001b[1m3/3\u001b[0m \u001b[32m━━━━━━━━━━━━━━━━━━━━\u001b[0m\u001b[37m\u001b[0m \u001b[1m0s\u001b[0m 25ms/step - accuracy: 0.9769 - loss: 0.0562 - val_accuracy: 0.6000 - val_loss: 1.2211\n",
            "Epoch 123/2000\n",
            "\u001b[1m3/3\u001b[0m \u001b[32m━━━━━━━━━━━━━━━━━━━━\u001b[0m\u001b[37m\u001b[0m \u001b[1m0s\u001b[0m 27ms/step - accuracy: 1.0000 - loss: 0.0063 - val_accuracy: 0.6000 - val_loss: 1.2034\n",
            "Epoch 124/2000\n",
            "\u001b[1m3/3\u001b[0m \u001b[32m━━━━━━━━━━━━━━━━━━━━\u001b[0m\u001b[37m\u001b[0m \u001b[1m0s\u001b[0m 25ms/step - accuracy: 0.9947 - loss: 0.0199 - val_accuracy: 0.6000 - val_loss: 1.1846\n",
            "Epoch 125/2000\n",
            "\u001b[1m3/3\u001b[0m \u001b[32m━━━━━━━━━━━━━━━━━━━━\u001b[0m\u001b[37m\u001b[0m \u001b[1m0s\u001b[0m 23ms/step - accuracy: 0.9947 - loss: 0.0227 - val_accuracy: 0.6500 - val_loss: 1.1681\n",
            "Epoch 126/2000\n",
            "\u001b[1m3/3\u001b[0m \u001b[32m━━━━━━━━━━━━━━━━━━━━\u001b[0m\u001b[37m\u001b[0m \u001b[1m0s\u001b[0m 25ms/step - accuracy: 0.9894 - loss: 0.0279 - val_accuracy: 0.7000 - val_loss: 1.1477\n",
            "Epoch 127/2000\n",
            "\u001b[1m3/3\u001b[0m \u001b[32m━━━━━━━━━━━━━━━━━━━━\u001b[0m\u001b[37m\u001b[0m \u001b[1m0s\u001b[0m 24ms/step - accuracy: 0.9816 - loss: 0.1008 - val_accuracy: 0.6500 - val_loss: 1.2187\n",
            "Epoch 128/2000\n",
            "\u001b[1m3/3\u001b[0m \u001b[32m━━━━━━━━━━━━━━━━━━━━\u001b[0m\u001b[37m\u001b[0m \u001b[1m0s\u001b[0m 26ms/step - accuracy: 1.0000 - loss: 0.0138 - val_accuracy: 0.6500 - val_loss: 1.3323\n",
            "Epoch 129/2000\n",
            "\u001b[1m3/3\u001b[0m \u001b[32m━━━━━━━━━━━━━━━━━━━━\u001b[0m\u001b[37m\u001b[0m \u001b[1m0s\u001b[0m 23ms/step - accuracy: 0.9908 - loss: 0.0050 - val_accuracy: 0.7000 - val_loss: 1.3942\n",
            "Epoch 130/2000\n",
            "\u001b[1m3/3\u001b[0m \u001b[32m━━━━━━━━━━━━━━━━━━━━\u001b[0m\u001b[37m\u001b[0m \u001b[1m0s\u001b[0m 24ms/step - accuracy: 0.9875 - loss: 0.0224 - val_accuracy: 0.6000 - val_loss: 1.4734\n",
            "Epoch 131/2000\n",
            "\u001b[1m3/3\u001b[0m \u001b[32m━━━━━━━━━━━━━━━━━━━━\u001b[0m\u001b[37m\u001b[0m \u001b[1m0s\u001b[0m 24ms/step - accuracy: 0.9947 - loss: 0.0183 - val_accuracy: 0.6000 - val_loss: 1.4543\n",
            "Epoch 132/2000\n",
            "\u001b[1m3/3\u001b[0m \u001b[32m━━━━━━━━━━━━━━━━━━━━\u001b[0m\u001b[37m\u001b[0m \u001b[1m0s\u001b[0m 28ms/step - accuracy: 0.9933 - loss: 0.0214 - val_accuracy: 0.6000 - val_loss: 1.5053\n",
            "Epoch 133/2000\n",
            "\u001b[1m3/3\u001b[0m \u001b[32m━━━━━━━━━━━━━━━━━━━━\u001b[0m\u001b[37m\u001b[0m \u001b[1m0s\u001b[0m 27ms/step - accuracy: 1.0000 - loss: 0.0075 - val_accuracy: 0.6500 - val_loss: 1.6918\n",
            "Epoch 134/2000\n",
            "\u001b[1m3/3\u001b[0m \u001b[32m━━━━━━━━━━━━━━━━━━━━\u001b[0m\u001b[37m\u001b[0m \u001b[1m0s\u001b[0m 24ms/step - accuracy: 0.9908 - loss: 0.0228 - val_accuracy: 0.7500 - val_loss: 1.8430\n",
            "Epoch 135/2000\n",
            "\u001b[1m3/3\u001b[0m \u001b[32m━━━━━━━━━━━━━━━━━━━━\u001b[0m\u001b[37m\u001b[0m \u001b[1m0s\u001b[0m 25ms/step - accuracy: 0.9822 - loss: 0.0554 - val_accuracy: 0.7500 - val_loss: 1.9013\n",
            "Epoch 136/2000\n",
            "\u001b[1m3/3\u001b[0m \u001b[32m━━━━━━━━━━━━━━━━━━━━\u001b[0m\u001b[37m\u001b[0m \u001b[1m0s\u001b[0m 36ms/step - accuracy: 0.9649 - loss: 0.1155 - val_accuracy: 0.6000 - val_loss: 1.4393\n",
            "Epoch 137/2000\n",
            "\u001b[1m3/3\u001b[0m \u001b[32m━━━━━━━━━━━━━━━━━━━━\u001b[0m\u001b[37m\u001b[0m \u001b[1m0s\u001b[0m 24ms/step - accuracy: 0.9822 - loss: 0.0320 - val_accuracy: 0.6500 - val_loss: 1.5479\n",
            "Epoch 138/2000\n",
            "\u001b[1m3/3\u001b[0m \u001b[32m━━━━━━━━━━━━━━━━━━━━\u001b[0m\u001b[37m\u001b[0m \u001b[1m0s\u001b[0m 25ms/step - accuracy: 0.9374 - loss: 0.2960 - val_accuracy: 0.7000 - val_loss: 1.2291\n",
            "Epoch 139/2000\n",
            "\u001b[1m3/3\u001b[0m \u001b[32m━━━━━━━━━━━━━━━━━━━━\u001b[0m\u001b[37m\u001b[0m \u001b[1m0s\u001b[0m 25ms/step - accuracy: 0.9446 - loss: 0.2653 - val_accuracy: 0.6000 - val_loss: 1.4260\n",
            "Epoch 140/2000\n",
            "\u001b[1m3/3\u001b[0m \u001b[32m━━━━━━━━━━━━━━━━━━━━\u001b[0m\u001b[37m\u001b[0m \u001b[1m0s\u001b[0m 24ms/step - accuracy: 0.9362 - loss: 0.3647 - val_accuracy: 0.7500 - val_loss: 1.2974\n",
            "Epoch 141/2000\n",
            "\u001b[1m3/3\u001b[0m \u001b[32m━━━━━━━━━━━━━━━━━━━━\u001b[0m\u001b[37m\u001b[0m \u001b[1m0s\u001b[0m 27ms/step - accuracy: 0.9618 - loss: 0.0501 - val_accuracy: 0.7000 - val_loss: 1.6183\n",
            "Epoch 142/2000\n",
            "\u001b[1m3/3\u001b[0m \u001b[32m━━━━━━━━━━━━━━━━━━━━\u001b[0m\u001b[37m\u001b[0m \u001b[1m0s\u001b[0m 25ms/step - accuracy: 0.9697 - loss: 0.0173 - val_accuracy: 0.7000 - val_loss: 1.7015\n",
            "Epoch 143/2000\n",
            "\u001b[1m3/3\u001b[0m \u001b[32m━━━━━━━━━━━━━━━━━━━━\u001b[0m\u001b[37m\u001b[0m \u001b[1m0s\u001b[0m 25ms/step - accuracy: 0.9794 - loss: 0.0947 - val_accuracy: 0.7000 - val_loss: 1.6428\n",
            "Epoch 144/2000\n",
            "\u001b[1m3/3\u001b[0m \u001b[32m━━━━━━━━━━━━━━━━━━━━\u001b[0m\u001b[37m\u001b[0m \u001b[1m0s\u001b[0m 25ms/step - accuracy: 0.9532 - loss: 0.1006 - val_accuracy: 0.6500 - val_loss: 1.3218\n",
            "Epoch 145/2000\n",
            "\u001b[1m3/3\u001b[0m \u001b[32m━━━━━━━━━━━━━━━━━━━━\u001b[0m\u001b[37m\u001b[0m \u001b[1m0s\u001b[0m 25ms/step - accuracy: 0.9894 - loss: 0.0336 - val_accuracy: 0.6500 - val_loss: 1.1117\n",
            "Epoch 146/2000\n",
            "\u001b[1m3/3\u001b[0m \u001b[32m━━━━━━━━━━━━━━━━━━━━\u001b[0m\u001b[37m\u001b[0m \u001b[1m0s\u001b[0m 27ms/step - accuracy: 0.9914 - loss: 0.0286 - val_accuracy: 0.7000 - val_loss: 1.0555\n",
            "Epoch 147/2000\n",
            "\u001b[1m3/3\u001b[0m \u001b[32m━━━━━━━━━━━━━━━━━━━━\u001b[0m\u001b[37m\u001b[0m \u001b[1m0s\u001b[0m 27ms/step - accuracy: 0.9716 - loss: 0.0530 - val_accuracy: 0.7000 - val_loss: 1.0335\n",
            "Epoch 148/2000\n",
            "\u001b[1m3/3\u001b[0m \u001b[32m━━━━━━━━━━━━━━━━━━━━\u001b[0m\u001b[37m\u001b[0m \u001b[1m0s\u001b[0m 29ms/step - accuracy: 0.9730 - loss: 0.0672 - val_accuracy: 0.7000 - val_loss: 1.0074\n",
            "Epoch 149/2000\n",
            "\u001b[1m3/3\u001b[0m \u001b[32m━━━━━━━━━━━━━━━━━━━━\u001b[0m\u001b[37m\u001b[0m \u001b[1m0s\u001b[0m 28ms/step - accuracy: 0.9947 - loss: 0.0198 - val_accuracy: 0.6500 - val_loss: 1.1546\n",
            "Epoch 150/2000\n",
            "\u001b[1m3/3\u001b[0m \u001b[32m━━━━━━━━━━━━━━━━━━━━\u001b[0m\u001b[37m\u001b[0m \u001b[1m0s\u001b[0m 35ms/step - accuracy: 0.9763 - loss: 0.0431 - val_accuracy: 0.6000 - val_loss: 1.2165\n",
            "Epoch 151/2000\n",
            "\u001b[1m3/3\u001b[0m \u001b[32m━━━━━━━━━━━━━━━━━━━━\u001b[0m\u001b[37m\u001b[0m \u001b[1m0s\u001b[0m 29ms/step - accuracy: 0.9563 - loss: 0.1457 - val_accuracy: 0.7000 - val_loss: 0.9554\n",
            "Epoch 152/2000\n",
            "\u001b[1m3/3\u001b[0m \u001b[32m━━━━━━━━━━━━━━━━━━━━\u001b[0m\u001b[37m\u001b[0m \u001b[1m0s\u001b[0m 29ms/step - accuracy: 0.9908 - loss: 0.0061 - val_accuracy: 0.7500 - val_loss: 0.5612\n",
            "Epoch 153/2000\n",
            "\u001b[1m3/3\u001b[0m \u001b[32m━━━━━━━━━━━━━━━━━━━━\u001b[0m\u001b[37m\u001b[0m \u001b[1m0s\u001b[0m 29ms/step - accuracy: 0.9822 - loss: 0.0609 - val_accuracy: 0.8000 - val_loss: 0.4394\n",
            "Epoch 154/2000\n",
            "\u001b[1m3/3\u001b[0m \u001b[32m━━━━━━━━━━━━━━━━━━━━\u001b[0m\u001b[37m\u001b[0m \u001b[1m0s\u001b[0m 29ms/step - accuracy: 0.9552 - loss: 0.1451 - val_accuracy: 0.8500 - val_loss: 0.4372\n",
            "Epoch 155/2000\n",
            "\u001b[1m3/3\u001b[0m \u001b[32m━━━━━━━━━━━━━━━━━━━━\u001b[0m\u001b[37m\u001b[0m \u001b[1m0s\u001b[0m 25ms/step - accuracy: 0.9638 - loss: 0.0812 - val_accuracy: 0.7000 - val_loss: 0.7311\n",
            "Epoch 156/2000\n",
            "\u001b[1m3/3\u001b[0m \u001b[32m━━━━━━━━━━━━━━━━━━━━\u001b[0m\u001b[37m\u001b[0m \u001b[1m0s\u001b[0m 25ms/step - accuracy: 0.9861 - loss: 0.0671 - val_accuracy: 0.7500 - val_loss: 1.3791\n",
            "Epoch 157/2000\n",
            "\u001b[1m3/3\u001b[0m \u001b[32m━━━━━━━━━━━━━━━━━━━━\u001b[0m\u001b[37m\u001b[0m \u001b[1m0s\u001b[0m 28ms/step - accuracy: 0.9488 - loss: 0.1155 - val_accuracy: 0.7000 - val_loss: 1.8165\n",
            "Epoch 158/2000\n",
            "\u001b[1m3/3\u001b[0m \u001b[32m━━━━━━━━━━━━━━━━━━━━\u001b[0m\u001b[37m\u001b[0m \u001b[1m0s\u001b[0m 27ms/step - accuracy: 0.9513 - loss: 0.1370 - val_accuracy: 0.7500 - val_loss: 0.9643\n",
            "Epoch 159/2000\n",
            "\u001b[1m3/3\u001b[0m \u001b[32m━━━━━━━━━━━━━━━━━━━━\u001b[0m\u001b[37m\u001b[0m \u001b[1m0s\u001b[0m 25ms/step - accuracy: 0.9822 - loss: 0.0508 - val_accuracy: 0.8500 - val_loss: 0.8020\n",
            "Epoch 160/2000\n",
            "\u001b[1m3/3\u001b[0m \u001b[32m━━━━━━━━━━━━━━━━━━━━\u001b[0m\u001b[37m\u001b[0m \u001b[1m0s\u001b[0m 25ms/step - accuracy: 0.9327 - loss: 0.2511 - val_accuracy: 0.8500 - val_loss: 0.6611\n",
            "Epoch 161/2000\n",
            "\u001b[1m3/3\u001b[0m \u001b[32m━━━━━━━━━━━━━━━━━━━━\u001b[0m\u001b[37m\u001b[0m \u001b[1m0s\u001b[0m 24ms/step - accuracy: 0.9697 - loss: 0.0686 - val_accuracy: 0.8000 - val_loss: 0.5665\n",
            "Epoch 162/2000\n",
            "\u001b[1m3/3\u001b[0m \u001b[32m━━━━━━━━━━━━━━━━━━━━\u001b[0m\u001b[37m\u001b[0m \u001b[1m0s\u001b[0m 26ms/step - accuracy: 0.9908 - loss: 0.0219 - val_accuracy: 0.8000 - val_loss: 0.5541\n",
            "Epoch 163/2000\n",
            "\u001b[1m3/3\u001b[0m \u001b[32m━━━━━━━━━━━━━━━━━━━━\u001b[0m\u001b[37m\u001b[0m \u001b[1m0s\u001b[0m 25ms/step - accuracy: 0.9697 - loss: 0.0507 - val_accuracy: 0.8000 - val_loss: 0.4889\n",
            "Epoch 164/2000\n",
            "\u001b[1m3/3\u001b[0m \u001b[32m━━━━━━━━━━━━━━━━━━━━\u001b[0m\u001b[37m\u001b[0m \u001b[1m0s\u001b[0m 25ms/step - accuracy: 0.9387 - loss: 0.1396 - val_accuracy: 0.8000 - val_loss: 0.5780\n",
            "Epoch 165/2000\n",
            "\u001b[1m3/3\u001b[0m \u001b[32m━━━━━━━━━━━━━━━━━━━━\u001b[0m\u001b[37m\u001b[0m \u001b[1m0s\u001b[0m 27ms/step - accuracy: 0.9454 - loss: 0.1836 - val_accuracy: 0.8000 - val_loss: 0.9386\n",
            "Epoch 166/2000\n",
            "\u001b[1m3/3\u001b[0m \u001b[32m━━━━━━━━━━━━━━━━━━━━\u001b[0m\u001b[37m\u001b[0m \u001b[1m0s\u001b[0m 25ms/step - accuracy: 0.9663 - loss: 0.0675 - val_accuracy: 0.8500 - val_loss: 0.9565\n",
            "Epoch 167/2000\n",
            "\u001b[1m3/3\u001b[0m \u001b[32m━━━━━━━━━━━━━━━━━━━━\u001b[0m\u001b[37m\u001b[0m \u001b[1m0s\u001b[0m 24ms/step - accuracy: 0.9697 - loss: 0.0997 - val_accuracy: 0.8500 - val_loss: 0.5404\n",
            "Epoch 168/2000\n",
            "\u001b[1m3/3\u001b[0m \u001b[32m━━━━━━━━━━━━━━━━━━━━\u001b[0m\u001b[37m\u001b[0m \u001b[1m0s\u001b[0m 29ms/step - accuracy: 0.9499 - loss: 0.1531 - val_accuracy: 0.8000 - val_loss: 0.3524\n",
            "Epoch 169/2000\n",
            "\u001b[1m3/3\u001b[0m \u001b[32m━━━━━━━━━━━━━━━━━━━━\u001b[0m\u001b[37m\u001b[0m \u001b[1m0s\u001b[0m 25ms/step - accuracy: 0.9716 - loss: 0.1674 - val_accuracy: 0.8000 - val_loss: 0.5224\n",
            "Epoch 170/2000\n",
            "\u001b[1m3/3\u001b[0m \u001b[32m━━━━━━━━━━━━━━━━━━━━\u001b[0m\u001b[37m\u001b[0m \u001b[1m0s\u001b[0m 32ms/step - accuracy: 0.9566 - loss: 0.1059 - val_accuracy: 0.7500 - val_loss: 0.8302\n",
            "Epoch 171/2000\n",
            "\u001b[1m3/3\u001b[0m \u001b[32m━━━━━━━━━━━━━━━━━━━━\u001b[0m\u001b[37m\u001b[0m \u001b[1m0s\u001b[0m 25ms/step - accuracy: 0.9360 - loss: 0.0690 - val_accuracy: 0.7500 - val_loss: 1.1150\n",
            "Epoch 172/2000\n",
            "\u001b[1m3/3\u001b[0m \u001b[32m━━━━━━━━━━━━━━━━━━━━\u001b[0m\u001b[37m\u001b[0m \u001b[1m0s\u001b[0m 34ms/step - accuracy: 0.9689 - loss: 0.0916 - val_accuracy: 0.7000 - val_loss: 1.0276\n",
            "Epoch 173/2000\n",
            "\u001b[1m3/3\u001b[0m \u001b[32m━━━━━━━━━━━━━━━━━━━━\u001b[0m\u001b[37m\u001b[0m \u001b[1m0s\u001b[0m 30ms/step - accuracy: 0.9658 - loss: 0.0992 - val_accuracy: 0.7000 - val_loss: 0.9308\n",
            "Epoch 174/2000\n",
            "\u001b[1m3/3\u001b[0m \u001b[32m━━━━━━━━━━━━━━━━━━━━\u001b[0m\u001b[37m\u001b[0m \u001b[1m0s\u001b[0m 25ms/step - accuracy: 0.9683 - loss: 0.0644 - val_accuracy: 0.7000 - val_loss: 0.9178\n",
            "Epoch 175/2000\n",
            "\u001b[1m3/3\u001b[0m \u001b[32m━━━━━━━━━━━━━━━━━━━━\u001b[0m\u001b[37m\u001b[0m \u001b[1m0s\u001b[0m 24ms/step - accuracy: 0.9649 - loss: 0.0554 - val_accuracy: 0.7500 - val_loss: 0.8618\n",
            "Epoch 176/2000\n",
            "\u001b[1m3/3\u001b[0m \u001b[32m━━━━━━━━━━━━━━━━━━━━\u001b[0m\u001b[37m\u001b[0m \u001b[1m0s\u001b[0m 26ms/step - accuracy: 0.9710 - loss: 0.0360 - val_accuracy: 0.7500 - val_loss: 0.8126\n",
            "Epoch 177/2000\n",
            "\u001b[1m3/3\u001b[0m \u001b[32m━━━━━━━━━━━━━━━━━━━━\u001b[0m\u001b[37m\u001b[0m \u001b[1m0s\u001b[0m 25ms/step - accuracy: 0.9421 - loss: 0.2949 - val_accuracy: 0.7500 - val_loss: 0.8482\n",
            "Epoch 178/2000\n",
            "\u001b[1m3/3\u001b[0m \u001b[32m━━━━━━━━━━━━━━━━━━━━\u001b[0m\u001b[37m\u001b[0m \u001b[1m0s\u001b[0m 31ms/step - accuracy: 0.9724 - loss: 0.2308 - val_accuracy: 0.8000 - val_loss: 0.6759\n",
            "Epoch 179/2000\n",
            "\u001b[1m3/3\u001b[0m \u001b[32m━━━━━━━━━━━━━━━━━━━━\u001b[0m\u001b[37m\u001b[0m \u001b[1m0s\u001b[0m 25ms/step - accuracy: 0.9460 - loss: 0.0745 - val_accuracy: 0.8000 - val_loss: 0.5941\n",
            "Epoch 180/2000\n",
            "\u001b[1m3/3\u001b[0m \u001b[32m━━━━━━━━━━━━━━━━━━━━\u001b[0m\u001b[37m\u001b[0m \u001b[1m0s\u001b[0m 26ms/step - accuracy: 0.9638 - loss: 0.0830 - val_accuracy: 0.8500 - val_loss: 0.6562\n",
            "Epoch 181/2000\n",
            "\u001b[1m3/3\u001b[0m \u001b[32m━━━━━━━━━━━━━━━━━━━━\u001b[0m\u001b[37m\u001b[0m \u001b[1m0s\u001b[0m 33ms/step - accuracy: 0.9527 - loss: 0.0873 - val_accuracy: 0.8500 - val_loss: 0.2704\n",
            "Epoch 182/2000\n",
            "\u001b[1m3/3\u001b[0m \u001b[32m━━━━━━━━━━━━━━━━━━━━\u001b[0m\u001b[37m\u001b[0m \u001b[1m0s\u001b[0m 28ms/step - accuracy: 0.9841 - loss: 0.0181 - val_accuracy: 0.8500 - val_loss: 0.1879\n",
            "Epoch 183/2000\n",
            "\u001b[1m3/3\u001b[0m \u001b[32m━━━━━━━━━━━━━━━━━━━━\u001b[0m\u001b[37m\u001b[0m \u001b[1m0s\u001b[0m 36ms/step - accuracy: 0.9710 - loss: 0.0923 - val_accuracy: 0.9000 - val_loss: 0.1662\n",
            "Epoch 184/2000\n",
            "\u001b[1m3/3\u001b[0m \u001b[32m━━━━━━━━━━━━━━━━━━━━\u001b[0m\u001b[37m\u001b[0m \u001b[1m0s\u001b[0m 28ms/step - accuracy: 0.9579 - loss: 0.0481 - val_accuracy: 0.9000 - val_loss: 0.1595\n",
            "Epoch 185/2000\n",
            "\u001b[1m3/3\u001b[0m \u001b[32m━━━━━━━━━━━━━━━━━━━━\u001b[0m\u001b[37m\u001b[0m \u001b[1m0s\u001b[0m 24ms/step - accuracy: 0.9763 - loss: 0.0074 - val_accuracy: 0.9500 - val_loss: 0.1748\n",
            "Epoch 186/2000\n",
            "\u001b[1m3/3\u001b[0m \u001b[32m━━━━━━━━━━━━━━━━━━━━\u001b[0m\u001b[37m\u001b[0m \u001b[1m0s\u001b[0m 40ms/step - accuracy: 0.9783 - loss: 0.2034 - val_accuracy: 0.9500 - val_loss: 0.1960\n",
            "Epoch 187/2000\n",
            "\u001b[1m3/3\u001b[0m \u001b[32m━━━━━━━━━━━━━━━━━━━━\u001b[0m\u001b[37m\u001b[0m \u001b[1m0s\u001b[0m 33ms/step - accuracy: 0.9658 - loss: 0.0318 - val_accuracy: 0.9500 - val_loss: 0.2153\n",
            "Epoch 188/2000\n",
            "\u001b[1m3/3\u001b[0m \u001b[32m━━━━━━━━━━━━━━━━━━━━\u001b[0m\u001b[37m\u001b[0m \u001b[1m0s\u001b[0m 34ms/step - accuracy: 0.9710 - loss: 0.0077 - val_accuracy: 0.9000 - val_loss: 0.2633\n",
            "Epoch 189/2000\n",
            "\u001b[1m3/3\u001b[0m \u001b[32m━━━━━━━━━━━━━━━━━━━━\u001b[0m\u001b[37m\u001b[0m \u001b[1m0s\u001b[0m 35ms/step - accuracy: 1.0000 - loss: 0.0076 - val_accuracy: 0.8500 - val_loss: 0.2919\n",
            "Epoch 190/2000\n",
            "\u001b[1m3/3\u001b[0m \u001b[32m━━━━━━━━━━━━━━━━━━━━\u001b[0m\u001b[37m\u001b[0m \u001b[1m0s\u001b[0m 39ms/step - accuracy: 0.9741 - loss: 0.0450 - val_accuracy: 0.9000 - val_loss: 0.2366\n",
            "Epoch 191/2000\n",
            "\u001b[1m3/3\u001b[0m \u001b[32m━━━━━━━━━━━━━━━━━━━━\u001b[0m\u001b[37m\u001b[0m \u001b[1m0s\u001b[0m 39ms/step - accuracy: 0.9763 - loss: 0.0907 - val_accuracy: 0.9500 - val_loss: 0.2724\n",
            "Epoch 192/2000\n",
            "\u001b[1m3/3\u001b[0m \u001b[32m━━━━━━━━━━━━━━━━━━━━\u001b[0m\u001b[37m\u001b[0m \u001b[1m0s\u001b[0m 33ms/step - accuracy: 0.9822 - loss: 0.0432 - val_accuracy: 0.8000 - val_loss: 0.4653\n",
            "Epoch 193/2000\n",
            "\u001b[1m3/3\u001b[0m \u001b[32m━━━━━━━━━━━━━━━━━━━━\u001b[0m\u001b[37m\u001b[0m \u001b[1m0s\u001b[0m 34ms/step - accuracy: 0.9789 - loss: 0.0687 - val_accuracy: 0.8500 - val_loss: 0.3688\n",
            "Epoch 194/2000\n",
            "\u001b[1m3/3\u001b[0m \u001b[32m━━━━━━━━━━━━━━━━━━━━\u001b[0m\u001b[37m\u001b[0m \u001b[1m0s\u001b[0m 43ms/step - accuracy: 0.9669 - loss: 0.0402 - val_accuracy: 0.9000 - val_loss: 0.2706\n",
            "Epoch 195/2000\n",
            "\u001b[1m3/3\u001b[0m \u001b[32m━━━━━━━━━━━━━━━━━━━━\u001b[0m\u001b[37m\u001b[0m \u001b[1m0s\u001b[0m 39ms/step - accuracy: 0.9789 - loss: 0.0657 - val_accuracy: 0.8000 - val_loss: 0.4781\n",
            "Epoch 196/2000\n",
            "\u001b[1m3/3\u001b[0m \u001b[32m━━━━━━━━━━━━━━━━━━━━\u001b[0m\u001b[37m\u001b[0m \u001b[1m0s\u001b[0m 36ms/step - accuracy: 0.9546 - loss: 0.1321 - val_accuracy: 0.9000 - val_loss: 0.2052\n",
            "Epoch 197/2000\n",
            "\u001b[1m3/3\u001b[0m \u001b[32m━━━━━━━━━━━━━━━━━━━━\u001b[0m\u001b[37m\u001b[0m \u001b[1m0s\u001b[0m 38ms/step - accuracy: 0.9789 - loss: 0.0339 - val_accuracy: 0.9000 - val_loss: 0.2469\n",
            "Epoch 198/2000\n",
            "\u001b[1m3/3\u001b[0m \u001b[32m━━━━━━━━━━━━━━━━━━━━\u001b[0m\u001b[37m\u001b[0m \u001b[1m0s\u001b[0m 30ms/step - accuracy: 0.9749 - loss: 0.0213 - val_accuracy: 0.8500 - val_loss: 0.3626\n",
            "Epoch 199/2000\n",
            "\u001b[1m3/3\u001b[0m \u001b[32m━━━━━━━━━━━━━━━━━━━━\u001b[0m\u001b[37m\u001b[0m \u001b[1m0s\u001b[0m 32ms/step - accuracy: 0.9822 - loss: 0.0137 - val_accuracy: 0.8000 - val_loss: 0.4275\n",
            "Epoch 200/2000\n",
            "\u001b[1m3/3\u001b[0m \u001b[32m━━━━━━━━━━━━━━━━━━━━\u001b[0m\u001b[37m\u001b[0m \u001b[1m0s\u001b[0m 43ms/step - accuracy: 0.9947 - loss: 0.0049 - val_accuracy: 0.8000 - val_loss: 0.3762\n",
            "Epoch 201/2000\n",
            "\u001b[1m3/3\u001b[0m \u001b[32m━━━━━━━━━━━━━━━━━━━━\u001b[0m\u001b[37m\u001b[0m \u001b[1m0s\u001b[0m 33ms/step - accuracy: 0.9855 - loss: 0.0199 - val_accuracy: 0.8000 - val_loss: 0.3475\n",
            "Epoch 202/2000\n",
            "\u001b[1m3/3\u001b[0m \u001b[32m━━━━━━━━━━━━━━━━━━━━\u001b[0m\u001b[37m\u001b[0m \u001b[1m0s\u001b[0m 42ms/step - accuracy: 0.9822 - loss: 0.0226 - val_accuracy: 0.8500 - val_loss: 0.3364\n",
            "Epoch 203/2000\n",
            "\u001b[1m3/3\u001b[0m \u001b[32m━━━━━━━━━━━━━━━━━━━━\u001b[0m\u001b[37m\u001b[0m \u001b[1m0s\u001b[0m 35ms/step - accuracy: 0.9802 - loss: 0.0361 - val_accuracy: 0.8500 - val_loss: 0.3253\n",
            "Epoch 204/2000\n",
            "\u001b[1m3/3\u001b[0m \u001b[32m━━━━━━━━━━━━━━━━━━━━\u001b[0m\u001b[37m\u001b[0m \u001b[1m0s\u001b[0m 33ms/step - accuracy: 0.9816 - loss: 0.0262 - val_accuracy: 0.9000 - val_loss: 0.3740\n",
            "Epoch 205/2000\n",
            "\u001b[1m3/3\u001b[0m \u001b[32m━━━━━━━━━━━━━━━━━━━━\u001b[0m\u001b[37m\u001b[0m \u001b[1m0s\u001b[0m 43ms/step - accuracy: 0.9855 - loss: 0.0291 - val_accuracy: 0.9000 - val_loss: 0.2822\n",
            "Epoch 206/2000\n",
            "\u001b[1m3/3\u001b[0m \u001b[32m━━━━━━━━━━━━━━━━━━━━\u001b[0m\u001b[37m\u001b[0m \u001b[1m0s\u001b[0m 35ms/step - accuracy: 0.9947 - loss: 0.0020 - val_accuracy: 0.9000 - val_loss: 0.2094\n",
            "Epoch 207/2000\n",
            "\u001b[1m3/3\u001b[0m \u001b[32m━━━━━━━━━━━━━━━━━━━━\u001b[0m\u001b[37m\u001b[0m \u001b[1m0s\u001b[0m 40ms/step - accuracy: 0.9947 - loss: 0.0540 - val_accuracy: 0.9000 - val_loss: 0.1896\n",
            "Epoch 208/2000\n",
            "\u001b[1m3/3\u001b[0m \u001b[32m━━━━━━━━━━━━━━━━━━━━\u001b[0m\u001b[37m\u001b[0m \u001b[1m0s\u001b[0m 28ms/step - accuracy: 0.9947 - loss: 0.0046 - val_accuracy: 0.9000 - val_loss: 0.2029\n",
            "Epoch 209/2000\n",
            "\u001b[1m3/3\u001b[0m \u001b[32m━━━━━━━━━━━━━━━━━━━━\u001b[0m\u001b[37m\u001b[0m \u001b[1m0s\u001b[0m 26ms/step - accuracy: 0.9802 - loss: 0.0131 - val_accuracy: 0.9000 - val_loss: 0.1726\n",
            "Epoch 210/2000\n",
            "\u001b[1m3/3\u001b[0m \u001b[32m━━━━━━━━━━━━━━━━━━━━\u001b[0m\u001b[37m\u001b[0m \u001b[1m0s\u001b[0m 36ms/step - accuracy: 1.0000 - loss: 0.0024 - val_accuracy: 0.9000 - val_loss: 0.1537\n",
            "Epoch 211/2000\n",
            "\u001b[1m3/3\u001b[0m \u001b[32m━━━━━━━━━━━━━━━━━━━━\u001b[0m\u001b[37m\u001b[0m \u001b[1m0s\u001b[0m 28ms/step - accuracy: 1.0000 - loss: 0.0042 - val_accuracy: 0.9000 - val_loss: 0.1462\n",
            "Epoch 212/2000\n",
            "\u001b[1m3/3\u001b[0m \u001b[32m━━━━━━━━━━━━━━━━━━━━\u001b[0m\u001b[37m\u001b[0m \u001b[1m0s\u001b[0m 25ms/step - accuracy: 0.9933 - loss: 0.0082 - val_accuracy: 0.9000 - val_loss: 0.1469\n",
            "Epoch 213/2000\n",
            "\u001b[1m3/3\u001b[0m \u001b[32m━━━━━━━━━━━━━━━━━━━━\u001b[0m\u001b[37m\u001b[0m \u001b[1m0s\u001b[0m 30ms/step - accuracy: 0.9947 - loss: 0.0022 - val_accuracy: 0.9000 - val_loss: 0.1430\n",
            "Epoch 214/2000\n",
            "\u001b[1m3/3\u001b[0m \u001b[32m━━━━━━━━━━━━━━━━━━━━\u001b[0m\u001b[37m\u001b[0m \u001b[1m0s\u001b[0m 31ms/step - accuracy: 1.0000 - loss: 0.0030 - val_accuracy: 0.9000 - val_loss: 0.1383\n",
            "Epoch 215/2000\n",
            "\u001b[1m3/3\u001b[0m \u001b[32m━━━━━━━━━━━━━━━━━━━━\u001b[0m\u001b[37m\u001b[0m \u001b[1m0s\u001b[0m 34ms/step - accuracy: 0.9947 - loss: 0.0039 - val_accuracy: 0.9000 - val_loss: 0.1350\n",
            "Epoch 216/2000\n",
            "\u001b[1m3/3\u001b[0m \u001b[32m━━━━━━━━━━━━━━━━━━━━\u001b[0m\u001b[37m\u001b[0m \u001b[1m0s\u001b[0m 34ms/step - accuracy: 0.9855 - loss: 0.0016 - val_accuracy: 0.9000 - val_loss: 0.1330\n",
            "Epoch 217/2000\n",
            "\u001b[1m3/3\u001b[0m \u001b[32m━━━━━━━━━━━━━━━━━━━━\u001b[0m\u001b[37m\u001b[0m \u001b[1m0s\u001b[0m 29ms/step - accuracy: 0.9875 - loss: 0.0107 - val_accuracy: 0.9000 - val_loss: 0.1313\n",
            "Epoch 218/2000\n",
            "\u001b[1m3/3\u001b[0m \u001b[32m━━━━━━━━━━━━━━━━━━━━\u001b[0m\u001b[37m\u001b[0m \u001b[1m0s\u001b[0m 29ms/step - accuracy: 0.9947 - loss: 0.0040 - val_accuracy: 0.9000 - val_loss: 0.1309\n",
            "Epoch 219/2000\n",
            "\u001b[1m3/3\u001b[0m \u001b[32m━━━━━━━━━━━━━━━━━━━━\u001b[0m\u001b[37m\u001b[0m \u001b[1m0s\u001b[0m 24ms/step - accuracy: 1.0000 - loss: 0.0037 - val_accuracy: 0.9000 - val_loss: 0.1345\n",
            "Epoch 220/2000\n",
            "\u001b[1m3/3\u001b[0m \u001b[32m━━━━━━━━━━━━━━━━━━━━\u001b[0m\u001b[37m\u001b[0m \u001b[1m0s\u001b[0m 25ms/step - accuracy: 1.0000 - loss: 0.0040 - val_accuracy: 0.9000 - val_loss: 0.1385\n",
            "Epoch 221/2000\n",
            "\u001b[1m3/3\u001b[0m \u001b[32m━━━━━━━━━━━━━━━━━━━━\u001b[0m\u001b[37m\u001b[0m \u001b[1m0s\u001b[0m 24ms/step - accuracy: 1.0000 - loss: 0.0026 - val_accuracy: 0.9000 - val_loss: 0.1458\n",
            "Epoch 222/2000\n",
            "\u001b[1m3/3\u001b[0m \u001b[32m━━━━━━━━━━━━━━━━━━━━\u001b[0m\u001b[37m\u001b[0m \u001b[1m0s\u001b[0m 26ms/step - accuracy: 0.9947 - loss: 8.7129e-04 - val_accuracy: 0.9000 - val_loss: 0.1642\n",
            "Epoch 223/2000\n",
            "\u001b[1m3/3\u001b[0m \u001b[32m━━━━━━━━━━━━━━━━━━━━\u001b[0m\u001b[37m\u001b[0m \u001b[1m0s\u001b[0m 25ms/step - accuracy: 0.9967 - loss: 0.0129 - val_accuracy: 0.9000 - val_loss: 0.1839\n",
            "Epoch 224/2000\n",
            "\u001b[1m3/3\u001b[0m \u001b[32m━━━━━━━━━━━━━━━━━━━━\u001b[0m\u001b[37m\u001b[0m \u001b[1m0s\u001b[0m 28ms/step - accuracy: 0.9816 - loss: 0.0018 - val_accuracy: 0.9000 - val_loss: 0.2104\n",
            "Epoch 225/2000\n",
            "\u001b[1m3/3\u001b[0m \u001b[32m━━━━━━━━━━━━━━━━━━━━\u001b[0m\u001b[37m\u001b[0m \u001b[1m0s\u001b[0m 28ms/step - accuracy: 0.9908 - loss: 0.0085 - val_accuracy: 0.9000 - val_loss: 0.2290\n",
            "Epoch 226/2000\n",
            "\u001b[1m3/3\u001b[0m \u001b[32m━━━━━━━━━━━━━━━━━━━━\u001b[0m\u001b[37m\u001b[0m \u001b[1m0s\u001b[0m 25ms/step - accuracy: 0.9908 - loss: 0.0135 - val_accuracy: 0.9000 - val_loss: 0.2615\n",
            "Epoch 227/2000\n",
            "\u001b[1m3/3\u001b[0m \u001b[32m━━━━━━━━━━━━━━━━━━━━\u001b[0m\u001b[37m\u001b[0m \u001b[1m0s\u001b[0m 24ms/step - accuracy: 0.9855 - loss: 0.0210 - val_accuracy: 0.8500 - val_loss: 0.3240\n",
            "Epoch 228/2000\n",
            "\u001b[1m3/3\u001b[0m \u001b[32m━━━━━━━━━━━━━━━━━━━━\u001b[0m\u001b[37m\u001b[0m \u001b[1m0s\u001b[0m 25ms/step - accuracy: 0.9816 - loss: 0.0026 - val_accuracy: 0.8500 - val_loss: 0.3535\n",
            "Epoch 229/2000\n",
            "\u001b[1m3/3\u001b[0m \u001b[32m━━━━━━━━━━━━━━━━━━━━\u001b[0m\u001b[37m\u001b[0m \u001b[1m0s\u001b[0m 25ms/step - accuracy: 0.9855 - loss: 0.0011 - val_accuracy: 0.8500 - val_loss: 0.3309\n",
            "Epoch 230/2000\n",
            "\u001b[1m3/3\u001b[0m \u001b[32m━━━━━━━━━━━━━━━━━━━━\u001b[0m\u001b[37m\u001b[0m \u001b[1m0s\u001b[0m 24ms/step - accuracy: 0.9875 - loss: 0.0015 - val_accuracy: 0.8500 - val_loss: 0.3069\n",
            "Epoch 231/2000\n",
            "\u001b[1m3/3\u001b[0m \u001b[32m━━━━━━━━━━━━━━━━━━━━\u001b[0m\u001b[37m\u001b[0m \u001b[1m0s\u001b[0m 24ms/step - accuracy: 0.9947 - loss: 0.0042 - val_accuracy: 0.8500 - val_loss: 0.2953\n",
            "Epoch 232/2000\n",
            "\u001b[1m3/3\u001b[0m \u001b[32m━━━━━━━━━━━━━━━━━━━━\u001b[0m\u001b[37m\u001b[0m \u001b[1m0s\u001b[0m 27ms/step - accuracy: 0.9908 - loss: 0.0056 - val_accuracy: 0.8500 - val_loss: 0.2531\n",
            "Epoch 233/2000\n",
            "\u001b[1m3/3\u001b[0m \u001b[32m━━━━━━━━━━━━━━━━━━━━\u001b[0m\u001b[37m\u001b[0m \u001b[1m0s\u001b[0m 25ms/step - accuracy: 1.0000 - loss: 0.0056 - val_accuracy: 0.9000 - val_loss: 0.1559\n",
            "Epoch 234/2000\n",
            "\u001b[1m3/3\u001b[0m \u001b[32m━━━━━━━━━━━━━━━━━━━━\u001b[0m\u001b[37m\u001b[0m \u001b[1m0s\u001b[0m 30ms/step - accuracy: 0.9802 - loss: 0.0015 - val_accuracy: 0.9000 - val_loss: 0.1089\n",
            "Epoch 235/2000\n",
            "\u001b[1m3/3\u001b[0m \u001b[32m━━━━━━━━━━━━━━━━━━━━\u001b[0m\u001b[37m\u001b[0m \u001b[1m0s\u001b[0m 28ms/step - accuracy: 0.9947 - loss: 0.0035 - val_accuracy: 0.9500 - val_loss: 0.0895\n",
            "Epoch 236/2000\n",
            "\u001b[1m3/3\u001b[0m \u001b[32m━━━━━━━━━━━━━━━━━━━━\u001b[0m\u001b[37m\u001b[0m \u001b[1m0s\u001b[0m 29ms/step - accuracy: 0.9763 - loss: 4.1646e-04 - val_accuracy: 0.9500 - val_loss: 0.0796\n",
            "Epoch 237/2000\n",
            "\u001b[1m3/3\u001b[0m \u001b[32m━━━━━━━━━━━━━━━━━━━━\u001b[0m\u001b[37m\u001b[0m \u001b[1m0s\u001b[0m 30ms/step - accuracy: 0.9816 - loss: 0.0075 - val_accuracy: 0.9500 - val_loss: 0.0753\n",
            "Epoch 238/2000\n",
            "\u001b[1m3/3\u001b[0m \u001b[32m━━━━━━━━━━━━━━━━━━━━\u001b[0m\u001b[37m\u001b[0m \u001b[1m0s\u001b[0m 30ms/step - accuracy: 0.9841 - loss: 0.0054 - val_accuracy: 0.9500 - val_loss: 0.0737\n",
            "Epoch 239/2000\n",
            "\u001b[1m3/3\u001b[0m \u001b[32m━━━━━━━━━━━━━━━━━━━━\u001b[0m\u001b[37m\u001b[0m \u001b[1m0s\u001b[0m 29ms/step - accuracy: 0.9894 - loss: 0.0011 - val_accuracy: 0.9500 - val_loss: 0.0735\n",
            "Epoch 240/2000\n",
            "\u001b[1m3/3\u001b[0m \u001b[32m━━━━━━━━━━━━━━━━━━━━\u001b[0m\u001b[37m\u001b[0m \u001b[1m0s\u001b[0m 29ms/step - accuracy: 0.9783 - loss: 0.0041 - val_accuracy: 0.9500 - val_loss: 0.0751\n",
            "Epoch 241/2000\n",
            "\u001b[1m3/3\u001b[0m \u001b[32m━━━━━━━━━━━━━━━━━━━━\u001b[0m\u001b[37m\u001b[0m \u001b[1m0s\u001b[0m 26ms/step - accuracy: 0.9947 - loss: 0.0024 - val_accuracy: 0.9500 - val_loss: 0.0759\n",
            "Epoch 242/2000\n",
            "\u001b[1m3/3\u001b[0m \u001b[32m━━━━━━━━━━━━━━━━━━━━\u001b[0m\u001b[37m\u001b[0m \u001b[1m0s\u001b[0m 26ms/step - accuracy: 0.9808 - loss: 0.0196 - val_accuracy: 0.9500 - val_loss: 0.0775\n",
            "Epoch 243/2000\n",
            "\u001b[1m3/3\u001b[0m \u001b[32m━━━━━━━━━━━━━━━━━━━━\u001b[0m\u001b[37m\u001b[0m \u001b[1m0s\u001b[0m 24ms/step - accuracy: 1.0000 - loss: 8.4854e-04 - val_accuracy: 0.9500 - val_loss: 0.0780\n",
            "Epoch 244/2000\n",
            "\u001b[1m3/3\u001b[0m \u001b[32m━━━━━━━━━━━━━━━━━━━━\u001b[0m\u001b[37m\u001b[0m \u001b[1m0s\u001b[0m 24ms/step - accuracy: 1.0000 - loss: 0.0024 - val_accuracy: 0.9500 - val_loss: 0.0791\n",
            "Epoch 245/2000\n",
            "\u001b[1m3/3\u001b[0m \u001b[32m━━━━━━━━━━━━━━━━━━━━\u001b[0m\u001b[37m\u001b[0m \u001b[1m0s\u001b[0m 24ms/step - accuracy: 0.9855 - loss: 4.6040e-04 - val_accuracy: 0.9500 - val_loss: 0.0806\n",
            "Epoch 246/2000\n",
            "\u001b[1m3/3\u001b[0m \u001b[32m━━━━━━━━━━━━━━━━━━━━\u001b[0m\u001b[37m\u001b[0m \u001b[1m0s\u001b[0m 24ms/step - accuracy: 0.9894 - loss: 0.0020 - val_accuracy: 0.9500 - val_loss: 0.0824\n",
            "Epoch 247/2000\n",
            "\u001b[1m3/3\u001b[0m \u001b[32m━━━━━━━━━━━━━━━━━━━━\u001b[0m\u001b[37m\u001b[0m \u001b[1m0s\u001b[0m 24ms/step - accuracy: 0.9914 - loss: 0.0016 - val_accuracy: 0.9000 - val_loss: 0.0839\n",
            "Epoch 248/2000\n",
            "\u001b[1m3/3\u001b[0m \u001b[32m━━━━━━━━━━━━━━━━━━━━\u001b[0m\u001b[37m\u001b[0m \u001b[1m0s\u001b[0m 24ms/step - accuracy: 0.9802 - loss: 0.0366 - val_accuracy: 0.9500 - val_loss: 0.0799\n",
            "Epoch 249/2000\n",
            "\u001b[1m3/3\u001b[0m \u001b[32m━━━━━━━━━━━━━━━━━━━━\u001b[0m\u001b[37m\u001b[0m \u001b[1m0s\u001b[0m 24ms/step - accuracy: 0.9710 - loss: 0.0066 - val_accuracy: 0.9500 - val_loss: 0.0823\n",
            "Epoch 250/2000\n",
            "\u001b[1m3/3\u001b[0m \u001b[32m━━━━━━━━━━━━━━━━━━━━\u001b[0m\u001b[37m\u001b[0m \u001b[1m0s\u001b[0m 27ms/step - accuracy: 0.9914 - loss: 3.2108e-04 - val_accuracy: 0.9500 - val_loss: 0.0891\n",
            "Epoch 251/2000\n",
            "\u001b[1m3/3\u001b[0m \u001b[32m━━━━━━━━━━━━━━━━━━━━\u001b[0m\u001b[37m\u001b[0m \u001b[1m0s\u001b[0m 25ms/step - accuracy: 1.0000 - loss: 4.1751e-04 - val_accuracy: 0.9500 - val_loss: 0.0953\n",
            "Epoch 252/2000\n",
            "\u001b[1m3/3\u001b[0m \u001b[32m━━━━━━━━━━━━━━━━━━━━\u001b[0m\u001b[37m\u001b[0m \u001b[1m0s\u001b[0m 24ms/step - accuracy: 1.0000 - loss: 0.0017 - val_accuracy: 0.9500 - val_loss: 0.1009\n",
            "Epoch 253/2000\n",
            "\u001b[1m3/3\u001b[0m \u001b[32m━━━━━━━━━━━━━━━━━━━━\u001b[0m\u001b[37m\u001b[0m \u001b[1m0s\u001b[0m 24ms/step - accuracy: 1.0000 - loss: 0.0017 - val_accuracy: 0.9500 - val_loss: 0.1023\n",
            "Epoch 254/2000\n",
            "\u001b[1m3/3\u001b[0m \u001b[32m━━━━━━━━━━━━━━━━━━━━\u001b[0m\u001b[37m\u001b[0m \u001b[1m0s\u001b[0m 24ms/step - accuracy: 1.0000 - loss: 4.3440e-04 - val_accuracy: 0.9500 - val_loss: 0.1023\n",
            "Epoch 255/2000\n",
            "\u001b[1m3/3\u001b[0m \u001b[32m━━━━━━━━━━━━━━━━━━━━\u001b[0m\u001b[37m\u001b[0m \u001b[1m0s\u001b[0m 38ms/step - accuracy: 0.9908 - loss: 0.0023 - val_accuracy: 0.9500 - val_loss: 0.1016\n",
            "Epoch 256/2000\n",
            "\u001b[1m3/3\u001b[0m \u001b[32m━━━━━━━━━━━━━━━━━━━━\u001b[0m\u001b[37m\u001b[0m \u001b[1m0s\u001b[0m 25ms/step - accuracy: 0.9908 - loss: 0.0035 - val_accuracy: 0.9500 - val_loss: 0.0902\n",
            "Epoch 257/2000\n",
            "\u001b[1m3/3\u001b[0m \u001b[32m━━━━━━━━━━━━━━━━━━━━\u001b[0m\u001b[37m\u001b[0m \u001b[1m0s\u001b[0m 24ms/step - accuracy: 0.9908 - loss: 0.0021 - val_accuracy: 0.9000 - val_loss: 0.0868\n",
            "Epoch 258/2000\n",
            "\u001b[1m3/3\u001b[0m \u001b[32m━━━━━━━━━━━━━━━━━━━━\u001b[0m\u001b[37m\u001b[0m \u001b[1m0s\u001b[0m 23ms/step - accuracy: 1.0000 - loss: 5.0592e-04 - val_accuracy: 0.9000 - val_loss: 0.0857\n",
            "Epoch 259/2000\n",
            "\u001b[1m3/3\u001b[0m \u001b[32m━━━━━━━━━━━━━━━━━━━━\u001b[0m\u001b[37m\u001b[0m \u001b[1m0s\u001b[0m 24ms/step - accuracy: 0.9908 - loss: 0.0011 - val_accuracy: 0.9000 - val_loss: 0.0842\n",
            "Epoch 260/2000\n",
            "\u001b[1m3/3\u001b[0m \u001b[32m━━━━━━━━━━━━━━━━━━━━\u001b[0m\u001b[37m\u001b[0m \u001b[1m0s\u001b[0m 29ms/step - accuracy: 1.0000 - loss: 0.0080 - val_accuracy: 0.9000 - val_loss: 0.0856\n",
            "Epoch 261/2000\n",
            "\u001b[1m3/3\u001b[0m \u001b[32m━━━━━━━━━━━━━━━━━━━━\u001b[0m\u001b[37m\u001b[0m \u001b[1m0s\u001b[0m 24ms/step - accuracy: 0.9710 - loss: 0.0144 - val_accuracy: 0.9000 - val_loss: 0.0922\n",
            "Epoch 262/2000\n",
            "\u001b[1m3/3\u001b[0m \u001b[32m━━━━━━━━━━━━━━━━━━━━\u001b[0m\u001b[37m\u001b[0m \u001b[1m0s\u001b[0m 23ms/step - accuracy: 1.0000 - loss: 0.0038 - val_accuracy: 0.9000 - val_loss: 0.0944\n",
            "Epoch 263/2000\n",
            "\u001b[1m3/3\u001b[0m \u001b[32m━━━━━━━━━━━━━━━━━━━━\u001b[0m\u001b[37m\u001b[0m \u001b[1m0s\u001b[0m 23ms/step - accuracy: 0.9908 - loss: 5.7429e-04 - val_accuracy: 0.9000 - val_loss: 0.0972\n",
            "Epoch 264/2000\n",
            "\u001b[1m3/3\u001b[0m \u001b[32m━━━━━━━━━━━━━━━━━━━━\u001b[0m\u001b[37m\u001b[0m \u001b[1m0s\u001b[0m 23ms/step - accuracy: 1.0000 - loss: 0.0018 - val_accuracy: 0.9000 - val_loss: 0.0973\n",
            "Epoch 265/2000\n",
            "\u001b[1m3/3\u001b[0m \u001b[32m━━━━━━━━━━━━━━━━━━━━\u001b[0m\u001b[37m\u001b[0m \u001b[1m0s\u001b[0m 24ms/step - accuracy: 1.0000 - loss: 1.8827e-04 - val_accuracy: 0.9000 - val_loss: 0.0981\n",
            "Epoch 266/2000\n",
            "\u001b[1m3/3\u001b[0m \u001b[32m━━━━━━━━━━━━━━━━━━━━\u001b[0m\u001b[37m\u001b[0m \u001b[1m0s\u001b[0m 25ms/step - accuracy: 0.9749 - loss: 0.0147 - val_accuracy: 0.8500 - val_loss: 0.1355\n",
            "Epoch 267/2000\n",
            "\u001b[1m3/3\u001b[0m \u001b[32m━━━━━━━━━━━━━━━━━━━━\u001b[0m\u001b[37m\u001b[0m \u001b[1m0s\u001b[0m 23ms/step - accuracy: 0.9894 - loss: 0.0098 - val_accuracy: 0.9000 - val_loss: 0.3244\n",
            "Epoch 268/2000\n",
            "\u001b[1m3/3\u001b[0m \u001b[32m━━━━━━━━━━━━━━━━━━━━\u001b[0m\u001b[37m\u001b[0m \u001b[1m0s\u001b[0m 28ms/step - accuracy: 0.9875 - loss: 0.0237 - val_accuracy: 0.9000 - val_loss: 0.4185\n",
            "Epoch 269/2000\n",
            "\u001b[1m3/3\u001b[0m \u001b[32m━━━━━━━━━━━━━━━━━━━━\u001b[0m\u001b[37m\u001b[0m \u001b[1m0s\u001b[0m 24ms/step - accuracy: 0.9908 - loss: 0.0281 - val_accuracy: 0.8500 - val_loss: 0.4212\n",
            "Epoch 270/2000\n",
            "\u001b[1m3/3\u001b[0m \u001b[32m━━━━━━━━━━━━━━━━━━━━\u001b[0m\u001b[37m\u001b[0m \u001b[1m0s\u001b[0m 23ms/step - accuracy: 0.9908 - loss: 0.0228 - val_accuracy: 0.8500 - val_loss: 0.3605\n",
            "Epoch 271/2000\n",
            "\u001b[1m3/3\u001b[0m \u001b[32m━━━━━━━━━━━━━━━━━━━━\u001b[0m\u001b[37m\u001b[0m \u001b[1m0s\u001b[0m 25ms/step - accuracy: 1.0000 - loss: 0.0120 - val_accuracy: 0.8500 - val_loss: 0.2169\n",
            "Epoch 272/2000\n",
            "\u001b[1m3/3\u001b[0m \u001b[32m━━━━━━━━━━━━━━━━━━━━\u001b[0m\u001b[37m\u001b[0m \u001b[1m0s\u001b[0m 23ms/step - accuracy: 0.9691 - loss: 0.0250 - val_accuracy: 0.9000 - val_loss: 0.1273\n",
            "Epoch 273/2000\n",
            "\u001b[1m3/3\u001b[0m \u001b[32m━━━━━━━━━━━━━━━━━━━━\u001b[0m\u001b[37m\u001b[0m \u001b[1m0s\u001b[0m 24ms/step - accuracy: 0.9947 - loss: 0.0023 - val_accuracy: 0.9000 - val_loss: 0.0962\n",
            "Epoch 274/2000\n",
            "\u001b[1m3/3\u001b[0m \u001b[32m━━━━━━━━━━━━━━━━━━━━\u001b[0m\u001b[37m\u001b[0m \u001b[1m0s\u001b[0m 25ms/step - accuracy: 0.9914 - loss: 0.0073 - val_accuracy: 0.9500 - val_loss: 0.0839\n",
            "Epoch 275/2000\n",
            "\u001b[1m3/3\u001b[0m \u001b[32m━━━━━━━━━━━━━━━━━━━━\u001b[0m\u001b[37m\u001b[0m \u001b[1m0s\u001b[0m 24ms/step - accuracy: 0.9730 - loss: 0.0145 - val_accuracy: 0.9500 - val_loss: 0.0847\n",
            "Epoch 276/2000\n",
            "\u001b[1m3/3\u001b[0m \u001b[32m━━━━━━━━━━━━━━━━━━━━\u001b[0m\u001b[37m\u001b[0m \u001b[1m0s\u001b[0m 23ms/step - accuracy: 0.9908 - loss: 0.0024 - val_accuracy: 1.0000 - val_loss: 0.0986\n",
            "Epoch 277/2000\n",
            "\u001b[1m3/3\u001b[0m \u001b[32m━━━━━━━━━━━━━━━━━━━━\u001b[0m\u001b[37m\u001b[0m \u001b[1m0s\u001b[0m 24ms/step - accuracy: 1.0000 - loss: 0.0019 - val_accuracy: 0.9500 - val_loss: 0.1289\n",
            "Epoch 278/2000\n",
            "\u001b[1m3/3\u001b[0m \u001b[32m━━━━━━━━━━━━━━━━━━━━\u001b[0m\u001b[37m\u001b[0m \u001b[1m0s\u001b[0m 27ms/step - accuracy: 0.9908 - loss: 0.0017 - val_accuracy: 0.9000 - val_loss: 0.1779\n",
            "Epoch 279/2000\n",
            "\u001b[1m3/3\u001b[0m \u001b[32m━━━━━━━━━━━━━━━━━━━━\u001b[0m\u001b[37m\u001b[0m \u001b[1m0s\u001b[0m 24ms/step - accuracy: 0.9967 - loss: 0.0058 - val_accuracy: 0.9000 - val_loss: 0.2366\n",
            "Epoch 280/2000\n",
            "\u001b[1m3/3\u001b[0m \u001b[32m━━━━━━━━━━━━━━━━━━━━\u001b[0m\u001b[37m\u001b[0m \u001b[1m0s\u001b[0m 24ms/step - accuracy: 0.9908 - loss: 0.0035 - val_accuracy: 0.9000 - val_loss: 0.3045\n",
            "Epoch 281/2000\n",
            "\u001b[1m3/3\u001b[0m \u001b[32m━━━━━━━━━━━━━━━━━━━━\u001b[0m\u001b[37m\u001b[0m \u001b[1m0s\u001b[0m 24ms/step - accuracy: 0.9769 - loss: 0.0670 - val_accuracy: 0.9000 - val_loss: 0.2741\n",
            "Epoch 282/2000\n",
            "\u001b[1m3/3\u001b[0m \u001b[32m━━━━━━━━━━━━━━━━━━━━\u001b[0m\u001b[37m\u001b[0m \u001b[1m0s\u001b[0m 24ms/step - accuracy: 0.9908 - loss: 0.0064 - val_accuracy: 0.9500 - val_loss: 0.2094\n",
            "Epoch 283/2000\n",
            "\u001b[1m3/3\u001b[0m \u001b[32m━━━━━━━━━━━━━━━━━━━━\u001b[0m\u001b[37m\u001b[0m \u001b[1m0s\u001b[0m 23ms/step - accuracy: 1.0000 - loss: 0.0026 - val_accuracy: 0.8500 - val_loss: 0.1644\n",
            "Epoch 284/2000\n",
            "\u001b[1m3/3\u001b[0m \u001b[32m━━━━━━━━━━━━━━━━━━━━\u001b[0m\u001b[37m\u001b[0m \u001b[1m0s\u001b[0m 24ms/step - accuracy: 1.0000 - loss: 0.0071 - val_accuracy: 0.8500 - val_loss: 0.1505\n",
            "Epoch 285/2000\n",
            "\u001b[1m3/3\u001b[0m \u001b[32m━━━━━━━━━━━━━━━━━━━━\u001b[0m\u001b[37m\u001b[0m \u001b[1m0s\u001b[0m 24ms/step - accuracy: 0.9967 - loss: 0.0092 - val_accuracy: 0.9000 - val_loss: 0.1382\n",
            "Epoch 286/2000\n",
            "\u001b[1m3/3\u001b[0m \u001b[32m━━━━━━━━━━━━━━━━━━━━\u001b[0m\u001b[37m\u001b[0m \u001b[1m0s\u001b[0m 23ms/step - accuracy: 1.0000 - loss: 0.0014 - val_accuracy: 0.8500 - val_loss: 0.1573\n",
            "Epoch 287/2000\n",
            "\u001b[1m3/3\u001b[0m \u001b[32m━━━━━━━━━━━━━━━━━━━━\u001b[0m\u001b[37m\u001b[0m \u001b[1m0s\u001b[0m 23ms/step - accuracy: 0.9710 - loss: 0.0027 - val_accuracy: 0.8500 - val_loss: 0.2025\n",
            "Epoch 288/2000\n",
            "\u001b[1m3/3\u001b[0m \u001b[32m━━━━━━━━━━━━━━━━━━━━\u001b[0m\u001b[37m\u001b[0m \u001b[1m0s\u001b[0m 31ms/step - accuracy: 0.9855 - loss: 0.0013 - val_accuracy: 0.8500 - val_loss: 0.2508\n",
            "Epoch 289/2000\n",
            "\u001b[1m3/3\u001b[0m \u001b[32m━━━━━━━━━━━━━━━━━━━━\u001b[0m\u001b[37m\u001b[0m \u001b[1m0s\u001b[0m 24ms/step - accuracy: 0.9763 - loss: 0.0219 - val_accuracy: 0.8500 - val_loss: 0.3082\n",
            "Epoch 290/2000\n",
            "\u001b[1m3/3\u001b[0m \u001b[32m━━━━━━━━━━━━━━━━━━━━\u001b[0m\u001b[37m\u001b[0m \u001b[1m0s\u001b[0m 24ms/step - accuracy: 0.9730 - loss: 0.0082 - val_accuracy: 0.8500 - val_loss: 0.3248\n",
            "Epoch 291/2000\n",
            "\u001b[1m3/3\u001b[0m \u001b[32m━━━━━━━━━━━━━━━━━━━━\u001b[0m\u001b[37m\u001b[0m \u001b[1m0s\u001b[0m 23ms/step - accuracy: 0.9802 - loss: 0.0025 - val_accuracy: 0.8500 - val_loss: 0.2798\n",
            "Epoch 292/2000\n",
            "\u001b[1m3/3\u001b[0m \u001b[32m━━━━━━━━━━━━━━━━━━━━\u001b[0m\u001b[37m\u001b[0m \u001b[1m0s\u001b[0m 26ms/step - accuracy: 0.9894 - loss: 0.0067 - val_accuracy: 0.8500 - val_loss: 0.2689\n",
            "Epoch 293/2000\n",
            "\u001b[1m3/3\u001b[0m \u001b[32m━━━━━━━━━━━━━━━━━━━━\u001b[0m\u001b[37m\u001b[0m \u001b[1m0s\u001b[0m 24ms/step - accuracy: 0.9671 - loss: 0.0811 - val_accuracy: 0.8500 - val_loss: 0.2598\n",
            "Epoch 294/2000\n",
            "\u001b[1m3/3\u001b[0m \u001b[32m━━━━━━━━━━━━━━━━━━━━\u001b[0m\u001b[37m\u001b[0m \u001b[1m0s\u001b[0m 24ms/step - accuracy: 0.9841 - loss: 0.0226 - val_accuracy: 0.8500 - val_loss: 0.2191\n",
            "Epoch 295/2000\n",
            "\u001b[1m3/3\u001b[0m \u001b[32m━━━━━━━━━━━━━━━━━━━━\u001b[0m\u001b[37m\u001b[0m \u001b[1m0s\u001b[0m 26ms/step - accuracy: 0.9855 - loss: 0.0543 - val_accuracy: 0.8500 - val_loss: 0.1972\n",
            "Epoch 296/2000\n",
            "\u001b[1m3/3\u001b[0m \u001b[32m━━━━━━━━━━━━━━━━━━━━\u001b[0m\u001b[37m\u001b[0m \u001b[1m0s\u001b[0m 38ms/step - accuracy: 0.9908 - loss: 0.0035 - val_accuracy: 0.8500 - val_loss: 0.1861\n",
            "Epoch 297/2000\n",
            "\u001b[1m3/3\u001b[0m \u001b[32m━━━━━━━━━━━━━━━━━━━━\u001b[0m\u001b[37m\u001b[0m \u001b[1m0s\u001b[0m 43ms/step - accuracy: 0.9947 - loss: 0.0162 - val_accuracy: 0.9000 - val_loss: 0.1614\n",
            "Epoch 298/2000\n",
            "\u001b[1m3/3\u001b[0m \u001b[32m━━━━━━━━━━━━━━━━━━━━\u001b[0m\u001b[37m\u001b[0m \u001b[1m0s\u001b[0m 31ms/step - accuracy: 0.9822 - loss: 0.0079 - val_accuracy: 0.9000 - val_loss: 0.1432\n",
            "Epoch 299/2000\n",
            "\u001b[1m3/3\u001b[0m \u001b[32m━━━━━━━━━━━━━━━━━━━━\u001b[0m\u001b[37m\u001b[0m \u001b[1m0s\u001b[0m 40ms/step - accuracy: 0.9855 - loss: 0.0066 - val_accuracy: 0.8500 - val_loss: 0.1565\n",
            "Epoch 300/2000\n",
            "\u001b[1m3/3\u001b[0m \u001b[32m━━━━━━━━━━━━━━━━━━━━\u001b[0m\u001b[37m\u001b[0m \u001b[1m0s\u001b[0m 30ms/step - accuracy: 0.9822 - loss: 0.0117 - val_accuracy: 0.8500 - val_loss: 0.1709\n",
            "Epoch 301/2000\n",
            "\u001b[1m3/3\u001b[0m \u001b[32m━━━━━━━━━━━━━━━━━━━━\u001b[0m\u001b[37m\u001b[0m \u001b[1m0s\u001b[0m 30ms/step - accuracy: 0.9947 - loss: 0.0037 - val_accuracy: 0.8500 - val_loss: 0.1733\n",
            "Epoch 302/2000\n",
            "\u001b[1m3/3\u001b[0m \u001b[32m━━━━━━━━━━━━━━━━━━━━\u001b[0m\u001b[37m\u001b[0m \u001b[1m0s\u001b[0m 38ms/step - accuracy: 0.9816 - loss: 0.0353 - val_accuracy: 0.9000 - val_loss: 0.2289\n",
            "Epoch 303/2000\n",
            "\u001b[1m3/3\u001b[0m \u001b[32m━━━━━━━━━━━━━━━━━━━━\u001b[0m\u001b[37m\u001b[0m \u001b[1m0s\u001b[0m 42ms/step - accuracy: 0.9808 - loss: 0.0266 - val_accuracy: 0.8500 - val_loss: 0.2539\n",
            "Epoch 304/2000\n",
            "\u001b[1m3/3\u001b[0m \u001b[32m━━━━━━━━━━━━━━━━━━━━\u001b[0m\u001b[37m\u001b[0m \u001b[1m0s\u001b[0m 32ms/step - accuracy: 0.9816 - loss: 0.0367 - val_accuracy: 0.9000 - val_loss: 0.2153\n",
            "Epoch 305/2000\n",
            "\u001b[1m3/3\u001b[0m \u001b[32m━━━━━━━━━━━━━━━━━━━━\u001b[0m\u001b[37m\u001b[0m \u001b[1m0s\u001b[0m 30ms/step - accuracy: 0.9947 - loss: 0.0093 - val_accuracy: 0.9000 - val_loss: 0.2071\n",
            "Epoch 306/2000\n",
            "\u001b[1m3/3\u001b[0m \u001b[32m━━━━━━━━━━━━━━━━━━━━\u001b[0m\u001b[37m\u001b[0m \u001b[1m0s\u001b[0m 28ms/step - accuracy: 0.9755 - loss: 0.0563 - val_accuracy: 0.9000 - val_loss: 0.2041\n",
            "Epoch 307/2000\n",
            "\u001b[1m3/3\u001b[0m \u001b[32m━━━━━━━━━━━━━━━━━━━━\u001b[0m\u001b[37m\u001b[0m \u001b[1m0s\u001b[0m 30ms/step - accuracy: 0.9967 - loss: 0.0019 - val_accuracy: 0.9000 - val_loss: 0.2303\n",
            "Epoch 308/2000\n",
            "\u001b[1m3/3\u001b[0m \u001b[32m━━━━━━━━━━━━━━━━━━━━\u001b[0m\u001b[37m\u001b[0m \u001b[1m0s\u001b[0m 30ms/step - accuracy: 1.0000 - loss: 0.0026 - val_accuracy: 0.8500 - val_loss: 0.3425\n",
            "Epoch 309/2000\n",
            "\u001b[1m3/3\u001b[0m \u001b[32m━━━━━━━━━━━━━━━━━━━━\u001b[0m\u001b[37m\u001b[0m \u001b[1m0s\u001b[0m 31ms/step - accuracy: 0.9908 - loss: 0.0651 - val_accuracy: 0.8000 - val_loss: 0.3673\n",
            "Epoch 310/2000\n",
            "\u001b[1m3/3\u001b[0m \u001b[32m━━━━━━━━━━━━━━━━━━━━\u001b[0m\u001b[37m\u001b[0m \u001b[1m0s\u001b[0m 39ms/step - accuracy: 0.9730 - loss: 0.0421 - val_accuracy: 0.8000 - val_loss: 0.4621\n",
            "Epoch 311/2000\n",
            "\u001b[1m3/3\u001b[0m \u001b[32m━━━━━━━━━━━━━━━━━━━━\u001b[0m\u001b[37m\u001b[0m \u001b[1m0s\u001b[0m 35ms/step - accuracy: 1.0000 - loss: 0.0060 - val_accuracy: 0.8000 - val_loss: 0.5763\n",
            "Epoch 312/2000\n",
            "\u001b[1m3/3\u001b[0m \u001b[32m━━━━━━━━━━━━━━━━━━━━\u001b[0m\u001b[37m\u001b[0m \u001b[1m0s\u001b[0m 34ms/step - accuracy: 0.9855 - loss: 0.0027 - val_accuracy: 0.7500 - val_loss: 0.6837\n",
            "Epoch 313/2000\n",
            "\u001b[1m3/3\u001b[0m \u001b[32m━━━━━━━━━━━━━━━━━━━━\u001b[0m\u001b[37m\u001b[0m \u001b[1m0s\u001b[0m 37ms/step - accuracy: 0.9644 - loss: 0.0228 - val_accuracy: 0.7500 - val_loss: 0.4381\n",
            "Epoch 314/2000\n",
            "\u001b[1m3/3\u001b[0m \u001b[32m━━━━━━━━━━━━━━━━━━━━\u001b[0m\u001b[37m\u001b[0m \u001b[1m0s\u001b[0m 40ms/step - accuracy: 0.9855 - loss: 0.0059 - val_accuracy: 0.8500 - val_loss: 0.2072\n",
            "Epoch 315/2000\n",
            "\u001b[1m3/3\u001b[0m \u001b[32m━━━━━━━━━━━━━━━━━━━━\u001b[0m\u001b[37m\u001b[0m \u001b[1m0s\u001b[0m 30ms/step - accuracy: 0.9855 - loss: 0.0114 - val_accuracy: 0.9000 - val_loss: 0.1348\n",
            "Epoch 316/2000\n",
            "\u001b[1m3/3\u001b[0m \u001b[32m━━━━━━━━━━━━━━━━━━━━\u001b[0m\u001b[37m\u001b[0m \u001b[1m0s\u001b[0m 33ms/step - accuracy: 0.9875 - loss: 0.0200 - val_accuracy: 0.9000 - val_loss: 0.1051\n",
            "Epoch 317/2000\n",
            "\u001b[1m3/3\u001b[0m \u001b[32m━━━━━━━━━━━━━━━━━━━━\u001b[0m\u001b[37m\u001b[0m \u001b[1m0s\u001b[0m 33ms/step - accuracy: 0.9947 - loss: 0.0118 - val_accuracy: 0.9000 - val_loss: 0.1013\n",
            "Epoch 318/2000\n",
            "\u001b[1m3/3\u001b[0m \u001b[32m━━━━━━━━━━━━━━━━━━━━\u001b[0m\u001b[37m\u001b[0m \u001b[1m0s\u001b[0m 31ms/step - accuracy: 0.9802 - loss: 0.0233 - val_accuracy: 0.8500 - val_loss: 0.1163\n",
            "Epoch 319/2000\n",
            "\u001b[1m3/3\u001b[0m \u001b[32m━━━━━━━━━━━━━━━━━━━━\u001b[0m\u001b[37m\u001b[0m \u001b[1m0s\u001b[0m 46ms/step - accuracy: 0.9855 - loss: 0.0019 - val_accuracy: 0.8500 - val_loss: 0.1328\n",
            "Epoch 320/2000\n",
            "\u001b[1m3/3\u001b[0m \u001b[32m━━━━━━━━━━━━━━━━━━━━\u001b[0m\u001b[37m\u001b[0m \u001b[1m0s\u001b[0m 34ms/step - accuracy: 0.9908 - loss: 0.0012 - val_accuracy: 0.8500 - val_loss: 0.1639\n",
            "Epoch 321/2000\n",
            "\u001b[1m3/3\u001b[0m \u001b[32m━━━━━━━━━━━━━━━━━━━━\u001b[0m\u001b[37m\u001b[0m \u001b[1m0s\u001b[0m 38ms/step - accuracy: 0.9894 - loss: 6.3852e-04 - val_accuracy: 0.8500 - val_loss: 0.1851\n",
            "Epoch 322/2000\n",
            "\u001b[1m3/3\u001b[0m \u001b[32m━━━━━━━━━━━━━━━━━━━━\u001b[0m\u001b[37m\u001b[0m \u001b[1m0s\u001b[0m 42ms/step - accuracy: 0.9763 - loss: 0.0013 - val_accuracy: 0.8500 - val_loss: 0.2094\n",
            "Epoch 323/2000\n",
            "\u001b[1m3/3\u001b[0m \u001b[32m━━━━━━━━━━━━━━━━━━━━\u001b[0m\u001b[37m\u001b[0m \u001b[1m0s\u001b[0m 23ms/step - accuracy: 0.9816 - loss: 0.0162 - val_accuracy: 0.8500 - val_loss: 0.2048\n",
            "Epoch 324/2000\n",
            "\u001b[1m3/3\u001b[0m \u001b[32m━━━━━━━━━━━━━━━━━━━━\u001b[0m\u001b[37m\u001b[0m \u001b[1m0s\u001b[0m 24ms/step - accuracy: 0.9947 - loss: 0.0046 - val_accuracy: 0.8500 - val_loss: 0.1816\n",
            "Epoch 325/2000\n",
            "\u001b[1m3/3\u001b[0m \u001b[32m━━━━━━━━━━━━━━━━━━━━\u001b[0m\u001b[37m\u001b[0m \u001b[1m0s\u001b[0m 24ms/step - accuracy: 1.0000 - loss: 2.4353e-04 - val_accuracy: 0.8500 - val_loss: 0.1699\n",
            "Epoch 326/2000\n",
            "\u001b[1m3/3\u001b[0m \u001b[32m━━━━━━━━━━━━━━━━━━━━\u001b[0m\u001b[37m\u001b[0m \u001b[1m0s\u001b[0m 23ms/step - accuracy: 1.0000 - loss: 5.3532e-04 - val_accuracy: 0.9000 - val_loss: 0.1649\n",
            "Epoch 327/2000\n",
            "\u001b[1m3/3\u001b[0m \u001b[32m━━━━━━━━━━━━━━━━━━━━\u001b[0m\u001b[37m\u001b[0m \u001b[1m0s\u001b[0m 27ms/step - accuracy: 1.0000 - loss: 0.0021 - val_accuracy: 0.9000 - val_loss: 0.1706\n",
            "Epoch 328/2000\n",
            "\u001b[1m3/3\u001b[0m \u001b[32m━━━━━━━━━━━━━━━━━━━━\u001b[0m\u001b[37m\u001b[0m \u001b[1m0s\u001b[0m 24ms/step - accuracy: 1.0000 - loss: 0.0080 - val_accuracy: 0.9000 - val_loss: 0.1658\n",
            "Epoch 329/2000\n",
            "\u001b[1m3/3\u001b[0m \u001b[32m━━━━━━━━━━━━━━━━━━━━\u001b[0m\u001b[37m\u001b[0m \u001b[1m0s\u001b[0m 24ms/step - accuracy: 0.9908 - loss: 8.5593e-04 - val_accuracy: 0.9000 - val_loss: 0.1465\n",
            "Epoch 330/2000\n",
            "\u001b[1m3/3\u001b[0m \u001b[32m━━━━━━━━━━━━━━━━━━━━\u001b[0m\u001b[37m\u001b[0m \u001b[1m0s\u001b[0m 27ms/step - accuracy: 0.9841 - loss: 0.0015 - val_accuracy: 0.9000 - val_loss: 0.1297\n",
            "Epoch 331/2000\n",
            "\u001b[1m3/3\u001b[0m \u001b[32m━━━━━━━━━━━━━━━━━━━━\u001b[0m\u001b[37m\u001b[0m \u001b[1m0s\u001b[0m 24ms/step - accuracy: 0.9908 - loss: 0.0012 - val_accuracy: 0.9000 - val_loss: 0.1139\n",
            "Epoch 332/2000\n",
            "\u001b[1m3/3\u001b[0m \u001b[32m━━━━━━━━━━━━━━━━━━━━\u001b[0m\u001b[37m\u001b[0m \u001b[1m0s\u001b[0m 23ms/step - accuracy: 1.0000 - loss: 0.0036 - val_accuracy: 0.9000 - val_loss: 0.1027\n",
            "Epoch 333/2000\n",
            "\u001b[1m3/3\u001b[0m \u001b[32m━━━━━━━━━━━━━━━━━━━━\u001b[0m\u001b[37m\u001b[0m \u001b[1m0s\u001b[0m 24ms/step - accuracy: 0.9894 - loss: 0.0079 - val_accuracy: 0.9500 - val_loss: 0.0907\n",
            "Epoch 334/2000\n",
            "\u001b[1m3/3\u001b[0m \u001b[32m━━━━━━━━━━━━━━━━━━━━\u001b[0m\u001b[37m\u001b[0m \u001b[1m0s\u001b[0m 25ms/step - accuracy: 0.9783 - loss: 1.4198e-04 - val_accuracy: 0.9500 - val_loss: 0.0839\n",
            "Epoch 335/2000\n",
            "\u001b[1m3/3\u001b[0m \u001b[32m━━━━━━━━━━━━━━━━━━━━\u001b[0m\u001b[37m\u001b[0m \u001b[1m0s\u001b[0m 25ms/step - accuracy: 1.0000 - loss: 0.0017 - val_accuracy: 0.9500 - val_loss: 0.0790\n",
            "Epoch 336/2000\n",
            "\u001b[1m3/3\u001b[0m \u001b[32m━━━━━━━━━━━━━━━━━━━━\u001b[0m\u001b[37m\u001b[0m \u001b[1m0s\u001b[0m 91ms/step - accuracy: 0.9947 - loss: 0.0018 - val_accuracy: 0.9500 - val_loss: 0.0760\n",
            "Epoch 337/2000\n",
            "\u001b[1m3/3\u001b[0m \u001b[32m━━━━━━━━━━━━━━━━━━━━\u001b[0m\u001b[37m\u001b[0m \u001b[1m0s\u001b[0m 47ms/step - accuracy: 0.9816 - loss: 0.0356 - val_accuracy: 0.9500 - val_loss: 0.0722\n",
            "Epoch 338/2000\n",
            "\u001b[1m3/3\u001b[0m \u001b[32m━━━━━━━━━━━━━━━━━━━━\u001b[0m\u001b[37m\u001b[0m \u001b[1m0s\u001b[0m 25ms/step - accuracy: 0.9816 - loss: 0.0027 - val_accuracy: 0.9000 - val_loss: 0.0775\n",
            "Epoch 339/2000\n",
            "\u001b[1m3/3\u001b[0m \u001b[32m━━━━━━━━━━━━━━━━━━━━\u001b[0m\u001b[37m\u001b[0m \u001b[1m0s\u001b[0m 24ms/step - accuracy: 1.0000 - loss: 0.0036 - val_accuracy: 0.9000 - val_loss: 0.0861\n",
            "Epoch 340/2000\n",
            "\u001b[1m3/3\u001b[0m \u001b[32m━━━━━━━━━━━━━━━━━━━━\u001b[0m\u001b[37m\u001b[0m \u001b[1m0s\u001b[0m 79ms/step - accuracy: 0.9822 - loss: 0.0018 - val_accuracy: 0.9000 - val_loss: 0.0926\n",
            "Epoch 341/2000\n",
            "\u001b[1m3/3\u001b[0m \u001b[32m━━━━━━━━━━━━━━━━━━━━\u001b[0m\u001b[37m\u001b[0m \u001b[1m0s\u001b[0m 68ms/step - accuracy: 0.9908 - loss: 4.2040e-04 - val_accuracy: 0.9000 - val_loss: 0.0976\n",
            "Epoch 342/2000\n",
            "\u001b[1m3/3\u001b[0m \u001b[32m━━━━━━━━━━━━━━━━━━━━\u001b[0m\u001b[37m\u001b[0m \u001b[1m0s\u001b[0m 24ms/step - accuracy: 0.9855 - loss: 0.0010 - val_accuracy: 0.9000 - val_loss: 0.1015\n",
            "Epoch 343/2000\n",
            "\u001b[1m3/3\u001b[0m \u001b[32m━━━━━━━━━━━━━━━━━━━━\u001b[0m\u001b[37m\u001b[0m \u001b[1m0s\u001b[0m 24ms/step - accuracy: 0.9802 - loss: 8.2860e-04 - val_accuracy: 0.9000 - val_loss: 0.1049\n",
            "Epoch 344/2000\n",
            "\u001b[1m3/3\u001b[0m \u001b[32m━━━━━━━━━━━━━━━━━━━━\u001b[0m\u001b[37m\u001b[0m \u001b[1m0s\u001b[0m 32ms/step - accuracy: 0.9875 - loss: 0.0042 - val_accuracy: 0.9000 - val_loss: 0.1135\n",
            "Epoch 345/2000\n",
            "\u001b[1m3/3\u001b[0m \u001b[32m━━━━━━━━━━━━━━━━━━━━\u001b[0m\u001b[37m\u001b[0m \u001b[1m0s\u001b[0m 24ms/step - accuracy: 0.9855 - loss: 0.0011 - val_accuracy: 0.9000 - val_loss: 0.1240\n",
            "Epoch 346/2000\n",
            "\u001b[1m3/3\u001b[0m \u001b[32m━━━━━━━━━━━━━━━━━━━━\u001b[0m\u001b[37m\u001b[0m \u001b[1m0s\u001b[0m 108ms/step - accuracy: 0.9855 - loss: 0.0049 - val_accuracy: 0.9000 - val_loss: 0.1302\n",
            "Epoch 347/2000\n",
            "\u001b[1m3/3\u001b[0m \u001b[32m━━━━━━━━━━━━━━━━━━━━\u001b[0m\u001b[37m\u001b[0m \u001b[1m0s\u001b[0m 56ms/step - accuracy: 1.0000 - loss: 5.5920e-04 - val_accuracy: 0.9000 - val_loss: 0.1351\n",
            "Epoch 348/2000\n",
            "\u001b[1m3/3\u001b[0m \u001b[32m━━━━━━━━━━━━━━━━━━━━\u001b[0m\u001b[37m\u001b[0m \u001b[1m0s\u001b[0m 24ms/step - accuracy: 0.9855 - loss: 0.0045 - val_accuracy: 0.9000 - val_loss: 0.1524\n",
            "Epoch 349/2000\n",
            "\u001b[1m3/3\u001b[0m \u001b[32m━━━━━━━━━━━━━━━━━━━━\u001b[0m\u001b[37m\u001b[0m \u001b[1m0s\u001b[0m 24ms/step - accuracy: 0.9908 - loss: 0.0011 - val_accuracy: 0.8500 - val_loss: 0.1661\n",
            "Epoch 350/2000\n",
            "\u001b[1m3/3\u001b[0m \u001b[32m━━━━━━━━━━━━━━━━━━━━\u001b[0m\u001b[37m\u001b[0m \u001b[1m0s\u001b[0m 25ms/step - accuracy: 0.9908 - loss: 0.0168 - val_accuracy: 0.8500 - val_loss: 0.1811\n",
            "Epoch 351/2000\n",
            "\u001b[1m3/3\u001b[0m \u001b[32m━━━━━━━━━━━━━━━━━━━━\u001b[0m\u001b[37m\u001b[0m \u001b[1m0s\u001b[0m 25ms/step - accuracy: 0.9908 - loss: 0.0043 - val_accuracy: 0.8500 - val_loss: 0.2011\n",
            "Epoch 352/2000\n",
            "\u001b[1m3/3\u001b[0m \u001b[32m━━━━━━━━━━━━━━━━━━━━\u001b[0m\u001b[37m\u001b[0m \u001b[1m0s\u001b[0m 26ms/step - accuracy: 0.9730 - loss: 0.0045 - val_accuracy: 0.9000 - val_loss: 0.1322\n",
            "Epoch 353/2000\n",
            "\u001b[1m3/3\u001b[0m \u001b[32m━━━━━━━━━━━━━━━━━━━━\u001b[0m\u001b[37m\u001b[0m \u001b[1m0s\u001b[0m 31ms/step - accuracy: 0.9967 - loss: 0.0022 - val_accuracy: 0.9500 - val_loss: 0.0602\n",
            "Epoch 354/2000\n",
            "\u001b[1m3/3\u001b[0m \u001b[32m━━━━━━━━━━━━━━━━━━━━\u001b[0m\u001b[37m\u001b[0m \u001b[1m0s\u001b[0m 27ms/step - accuracy: 0.9967 - loss: 0.0039 - val_accuracy: 0.9500 - val_loss: 0.0506\n",
            "Epoch 355/2000\n",
            "\u001b[1m3/3\u001b[0m \u001b[32m━━━━━━━━━━━━━━━━━━━━\u001b[0m\u001b[37m\u001b[0m \u001b[1m0s\u001b[0m 29ms/step - accuracy: 1.0000 - loss: 0.0015 - val_accuracy: 0.9500 - val_loss: 0.0481\n",
            "Epoch 356/2000\n",
            "\u001b[1m3/3\u001b[0m \u001b[32m━━━━━━━━━━━━━━━━━━━━\u001b[0m\u001b[37m\u001b[0m \u001b[1m0s\u001b[0m 32ms/step - accuracy: 0.9914 - loss: 0.0015 - val_accuracy: 0.9500 - val_loss: 0.0506\n",
            "Epoch 357/2000\n",
            "\u001b[1m3/3\u001b[0m \u001b[32m━━━━━━━━━━━━━━━━━━━━\u001b[0m\u001b[37m\u001b[0m \u001b[1m0s\u001b[0m 24ms/step - accuracy: 0.9783 - loss: 0.0053 - val_accuracy: 0.9000 - val_loss: 0.0561\n",
            "Epoch 358/2000\n",
            "\u001b[1m3/3\u001b[0m \u001b[32m━━━━━━━━━━━━━━━━━━━━\u001b[0m\u001b[37m\u001b[0m \u001b[1m0s\u001b[0m 23ms/step - accuracy: 0.9908 - loss: 0.0051 - val_accuracy: 0.9000 - val_loss: 0.0618\n",
            "Epoch 359/2000\n",
            "\u001b[1m3/3\u001b[0m \u001b[32m━━━━━━━━━━━━━━━━━━━━\u001b[0m\u001b[37m\u001b[0m \u001b[1m0s\u001b[0m 23ms/step - accuracy: 0.9875 - loss: 0.0063 - val_accuracy: 0.9000 - val_loss: 0.0694\n",
            "Epoch 360/2000\n",
            "\u001b[1m3/3\u001b[0m \u001b[32m━━━━━━━━━━━━━━━━━━━━\u001b[0m\u001b[37m\u001b[0m \u001b[1m0s\u001b[0m 23ms/step - accuracy: 0.9947 - loss: 5.9894e-04 - val_accuracy: 0.9000 - val_loss: 0.0785\n",
            "Epoch 361/2000\n",
            "\u001b[1m3/3\u001b[0m \u001b[32m━━━━━━━━━━━━━━━━━━━━\u001b[0m\u001b[37m\u001b[0m \u001b[1m0s\u001b[0m 35ms/step - accuracy: 0.9802 - loss: 0.0029 - val_accuracy: 0.8500 - val_loss: 0.0989\n",
            "Epoch 362/2000\n",
            "\u001b[1m3/3\u001b[0m \u001b[32m━━━━━━━━━━━━━━━━━━━━\u001b[0m\u001b[37m\u001b[0m \u001b[1m0s\u001b[0m 23ms/step - accuracy: 0.9808 - loss: 2.6615e-04 - val_accuracy: 0.8500 - val_loss: 0.1667\n",
            "Epoch 363/2000\n",
            "\u001b[1m3/3\u001b[0m \u001b[32m━━━━━━━━━━━━━━━━━━━━\u001b[0m\u001b[37m\u001b[0m \u001b[1m0s\u001b[0m 23ms/step - accuracy: 0.9822 - loss: 0.0023 - val_accuracy: 0.8500 - val_loss: 0.4512\n",
            "Epoch 364/2000\n",
            "\u001b[1m3/3\u001b[0m \u001b[32m━━━━━━━━━━━━━━━━━━━━\u001b[0m\u001b[37m\u001b[0m \u001b[1m0s\u001b[0m 24ms/step - accuracy: 0.9749 - loss: 9.0727e-04 - val_accuracy: 0.8500 - val_loss: 0.7286\n",
            "Epoch 365/2000\n",
            "\u001b[1m3/3\u001b[0m \u001b[32m━━━━━━━━━━━━━━━━━━━━\u001b[0m\u001b[37m\u001b[0m \u001b[1m0s\u001b[0m 23ms/step - accuracy: 0.9763 - loss: 0.0014 - val_accuracy: 0.8500 - val_loss: 0.9407\n",
            "Epoch 366/2000\n",
            "\u001b[1m3/3\u001b[0m \u001b[32m━━━━━━━━━━━━━━━━━━━━\u001b[0m\u001b[37m\u001b[0m \u001b[1m0s\u001b[0m 24ms/step - accuracy: 0.9677 - loss: 3.9644e-04 - val_accuracy: 0.8500 - val_loss: 1.0916\n",
            "Epoch 367/2000\n",
            "\u001b[1m3/3\u001b[0m \u001b[32m━━━━━━━━━━━━━━━━━━━━\u001b[0m\u001b[37m\u001b[0m \u001b[1m0s\u001b[0m 27ms/step - accuracy: 0.9579 - loss: 9.3737e-04 - val_accuracy: 0.8500 - val_loss: 1.1578\n",
            "Epoch 368/2000\n",
            "\u001b[1m3/3\u001b[0m \u001b[32m━━━━━━━━━━━━━━━━━━━━\u001b[0m\u001b[37m\u001b[0m \u001b[1m0s\u001b[0m 23ms/step - accuracy: 0.9618 - loss: 0.0101 - val_accuracy: 0.8500 - val_loss: 0.6861\n",
            "Epoch 369/2000\n",
            "\u001b[1m3/3\u001b[0m \u001b[32m━━━━━━━━━━━━━━━━━━━━\u001b[0m\u001b[37m\u001b[0m \u001b[1m0s\u001b[0m 24ms/step - accuracy: 0.9671 - loss: 0.0156 - val_accuracy: 0.8000 - val_loss: 0.2681\n",
            "Epoch 370/2000\n",
            "\u001b[1m3/3\u001b[0m \u001b[32m━━━━━━━━━━━━━━━━━━━━\u001b[0m\u001b[37m\u001b[0m \u001b[1m0s\u001b[0m 27ms/step - accuracy: 0.9697 - loss: 0.0207 - val_accuracy: 0.8500 - val_loss: 0.0874\n",
            "Epoch 371/2000\n",
            "\u001b[1m3/3\u001b[0m \u001b[32m━━━━━━━━━━━━━━━━━━━━\u001b[0m\u001b[37m\u001b[0m \u001b[1m0s\u001b[0m 32ms/step - accuracy: 0.9671 - loss: 0.0451 - val_accuracy: 0.9000 - val_loss: 0.0342\n",
            "Epoch 372/2000\n",
            "\u001b[1m3/3\u001b[0m \u001b[32m━━━━━━━━━━━━━━━━━━━━\u001b[0m\u001b[37m\u001b[0m \u001b[1m0s\u001b[0m 28ms/step - accuracy: 0.9802 - loss: 0.0011 - val_accuracy: 0.9500 - val_loss: 0.0297\n",
            "Epoch 373/2000\n",
            "\u001b[1m3/3\u001b[0m \u001b[32m━━━━━━━━━━━━━━━━━━━━\u001b[0m\u001b[37m\u001b[0m \u001b[1m0s\u001b[0m 24ms/step - accuracy: 0.9816 - loss: 0.0098 - val_accuracy: 0.9500 - val_loss: 0.0329\n",
            "Epoch 374/2000\n",
            "\u001b[1m3/3\u001b[0m \u001b[32m━━━━━━━━━━━━━━━━━━━━\u001b[0m\u001b[37m\u001b[0m \u001b[1m0s\u001b[0m 24ms/step - accuracy: 0.9822 - loss: 0.0018 - val_accuracy: 0.9500 - val_loss: 0.0394\n",
            "Epoch 375/2000\n",
            "\u001b[1m3/3\u001b[0m \u001b[32m━━━━━━━━━━━━━━━━━━━━\u001b[0m\u001b[37m\u001b[0m \u001b[1m0s\u001b[0m 27ms/step - accuracy: 0.9947 - loss: 2.4960e-04 - val_accuracy: 0.9500 - val_loss: 0.0463\n",
            "Epoch 376/2000\n",
            "\u001b[1m3/3\u001b[0m \u001b[32m━━━━━━━━━━━━━━━━━━━━\u001b[0m\u001b[37m\u001b[0m \u001b[1m0s\u001b[0m 24ms/step - accuracy: 0.9841 - loss: 0.0068 - val_accuracy: 0.9500 - val_loss: 0.0602\n",
            "Epoch 377/2000\n",
            "\u001b[1m3/3\u001b[0m \u001b[32m━━━━━━━━━━━━━━━━━━━━\u001b[0m\u001b[37m\u001b[0m \u001b[1m0s\u001b[0m 25ms/step - accuracy: 0.9880 - loss: 9.6284e-04 - val_accuracy: 0.9000 - val_loss: 0.0728\n",
            "Epoch 378/2000\n",
            "\u001b[1m3/3\u001b[0m \u001b[32m━━━━━━━━━━━━━━━━━━━━\u001b[0m\u001b[37m\u001b[0m \u001b[1m0s\u001b[0m 25ms/step - accuracy: 0.9947 - loss: 2.7357e-04 - val_accuracy: 0.9000 - val_loss: 0.0844\n",
            "Epoch 379/2000\n",
            "\u001b[1m3/3\u001b[0m \u001b[32m━━━━━━━━━━━━━━━━━━━━\u001b[0m\u001b[37m\u001b[0m \u001b[1m0s\u001b[0m 32ms/step - accuracy: 0.9914 - loss: 0.0018 - val_accuracy: 0.9000 - val_loss: 0.0971\n",
            "Epoch 380/2000\n",
            "\u001b[1m3/3\u001b[0m \u001b[32m━━━━━━━━━━━━━━━━━━━━\u001b[0m\u001b[37m\u001b[0m \u001b[1m0s\u001b[0m 25ms/step - accuracy: 0.9671 - loss: 0.0020 - val_accuracy: 0.9000 - val_loss: 0.1084\n",
            "Epoch 381/2000\n",
            "\u001b[1m3/3\u001b[0m \u001b[32m━━━━━━━━━━━━━━━━━━━━\u001b[0m\u001b[37m\u001b[0m \u001b[1m0s\u001b[0m 24ms/step - accuracy: 1.0000 - loss: 0.0042 - val_accuracy: 0.9000 - val_loss: 0.1160\n",
            "Epoch 382/2000\n",
            "\u001b[1m3/3\u001b[0m \u001b[32m━━━━━━━━━━━━━━━━━━━━\u001b[0m\u001b[37m\u001b[0m \u001b[1m0s\u001b[0m 24ms/step - accuracy: 1.0000 - loss: 0.0020 - val_accuracy: 0.9000 - val_loss: 0.1210\n",
            "Epoch 383/2000\n",
            "\u001b[1m3/3\u001b[0m \u001b[32m━━━━━━━━━━━━━━━━━━━━\u001b[0m\u001b[37m\u001b[0m \u001b[1m0s\u001b[0m 25ms/step - accuracy: 0.9908 - loss: 5.8932e-04 - val_accuracy: 0.9000 - val_loss: 0.1229\n",
            "Epoch 384/2000\n",
            "\u001b[1m3/3\u001b[0m \u001b[32m━━━━━━━━━━━━━━━━━━━━\u001b[0m\u001b[37m\u001b[0m \u001b[1m0s\u001b[0m 27ms/step - accuracy: 0.9914 - loss: 0.0049 - val_accuracy: 0.9000 - val_loss: 0.1233\n",
            "Epoch 385/2000\n",
            "\u001b[1m3/3\u001b[0m \u001b[32m━━━━━━━━━━━━━━━━━━━━\u001b[0m\u001b[37m\u001b[0m \u001b[1m0s\u001b[0m 25ms/step - accuracy: 0.9855 - loss: 8.1477e-05 - val_accuracy: 0.9000 - val_loss: 0.1391\n",
            "Epoch 386/2000\n",
            "\u001b[1m3/3\u001b[0m \u001b[32m━━━━━━━━━━━━━━━━━━━━\u001b[0m\u001b[37m\u001b[0m \u001b[1m0s\u001b[0m 25ms/step - accuracy: 0.9908 - loss: 0.0017 - val_accuracy: 0.9000 - val_loss: 0.1573\n",
            "Epoch 387/2000\n",
            "\u001b[1m3/3\u001b[0m \u001b[32m━━━━━━━━━━━━━━━━━━━━\u001b[0m\u001b[37m\u001b[0m \u001b[1m0s\u001b[0m 25ms/step - accuracy: 0.9947 - loss: 5.7317e-04 - val_accuracy: 0.8500 - val_loss: 0.1738\n",
            "Epoch 388/2000\n",
            "\u001b[1m3/3\u001b[0m \u001b[32m━━━━━━━━━━━━━━━━━━━━\u001b[0m\u001b[37m\u001b[0m \u001b[1m0s\u001b[0m 25ms/step - accuracy: 0.9908 - loss: 3.4060e-04 - val_accuracy: 0.8500 - val_loss: 0.1848\n",
            "Epoch 389/2000\n",
            "\u001b[1m3/3\u001b[0m \u001b[32m━━━━━━━━━━━━━━━━━━━━\u001b[0m\u001b[37m\u001b[0m \u001b[1m0s\u001b[0m 25ms/step - accuracy: 0.9855 - loss: 0.0128 - val_accuracy: 0.8500 - val_loss: 0.1681\n",
            "Epoch 390/2000\n",
            "\u001b[1m3/3\u001b[0m \u001b[32m━━━━━━━━━━━━━━━━━━━━\u001b[0m\u001b[37m\u001b[0m \u001b[1m0s\u001b[0m 24ms/step - accuracy: 0.9822 - loss: 0.0173 - val_accuracy: 0.9000 - val_loss: 0.1365\n",
            "Epoch 391/2000\n",
            "\u001b[1m3/3\u001b[0m \u001b[32m━━━━━━━━━━━━━━━━━━━━\u001b[0m\u001b[37m\u001b[0m \u001b[1m0s\u001b[0m 24ms/step - accuracy: 0.9861 - loss: 0.0011 - val_accuracy: 0.8500 - val_loss: 0.1723\n",
            "Epoch 392/2000\n",
            "\u001b[1m3/3\u001b[0m \u001b[32m━━━━━━━━━━━━━━━━━━━━\u001b[0m\u001b[37m\u001b[0m \u001b[1m0s\u001b[0m 29ms/step - accuracy: 0.9908 - loss: 2.0409e-04 - val_accuracy: 0.8500 - val_loss: 0.2400\n",
            "Epoch 393/2000\n",
            "\u001b[1m3/3\u001b[0m \u001b[32m━━━━━━━━━━━━━━━━━━━━\u001b[0m\u001b[37m\u001b[0m \u001b[1m0s\u001b[0m 24ms/step - accuracy: 0.9914 - loss: 0.0134 - val_accuracy: 0.8500 - val_loss: 0.2399\n",
            "Epoch 394/2000\n",
            "\u001b[1m3/3\u001b[0m \u001b[32m━━━━━━━━━━━━━━━━━━━━\u001b[0m\u001b[37m\u001b[0m \u001b[1m0s\u001b[0m 25ms/step - accuracy: 1.0000 - loss: 9.6052e-04 - val_accuracy: 0.8000 - val_loss: 0.2142\n",
            "Epoch 395/2000\n",
            "\u001b[1m3/3\u001b[0m \u001b[32m━━━━━━━━━━━━━━━━━━━━\u001b[0m\u001b[37m\u001b[0m \u001b[1m0s\u001b[0m 24ms/step - accuracy: 0.9894 - loss: 3.3663e-04 - val_accuracy: 0.8000 - val_loss: 0.1975\n",
            "Epoch 396/2000\n",
            "\u001b[1m3/3\u001b[0m \u001b[32m━━━━━━━━━━━━━━━━━━━━\u001b[0m\u001b[37m\u001b[0m \u001b[1m0s\u001b[0m 30ms/step - accuracy: 0.9763 - loss: 0.0140 - val_accuracy: 0.8500 - val_loss: 0.1934\n",
            "Epoch 397/2000\n",
            "\u001b[1m3/3\u001b[0m \u001b[32m━━━━━━━━━━━━━━━━━━━━\u001b[0m\u001b[37m\u001b[0m \u001b[1m0s\u001b[0m 23ms/step - accuracy: 0.9947 - loss: 2.6594e-04 - val_accuracy: 0.8500 - val_loss: 0.1928\n",
            "Epoch 398/2000\n",
            "\u001b[1m3/3\u001b[0m \u001b[32m━━━━━━━━━━━━━━━━━━━━\u001b[0m\u001b[37m\u001b[0m \u001b[1m0s\u001b[0m 25ms/step - accuracy: 0.9908 - loss: 0.0013 - val_accuracy: 0.8500 - val_loss: 0.1943\n",
            "Epoch 399/2000\n",
            "\u001b[1m3/3\u001b[0m \u001b[32m━━━━━━━━━━━━━━━━━━━━\u001b[0m\u001b[37m\u001b[0m \u001b[1m0s\u001b[0m 25ms/step - accuracy: 0.9947 - loss: 1.0805e-04 - val_accuracy: 0.8500 - val_loss: 0.1962\n",
            "Epoch 400/2000\n",
            "\u001b[1m3/3\u001b[0m \u001b[32m━━━━━━━━━━━━━━━━━━━━\u001b[0m\u001b[37m\u001b[0m \u001b[1m0s\u001b[0m 40ms/step - accuracy: 0.9880 - loss: 0.0016 - val_accuracy: 0.8500 - val_loss: 0.1948\n",
            "Epoch 401/2000\n",
            "\u001b[1m3/3\u001b[0m \u001b[32m━━━━━━━━━━━━━━━━━━━━\u001b[0m\u001b[37m\u001b[0m \u001b[1m0s\u001b[0m 39ms/step - accuracy: 0.9914 - loss: 0.0041 - val_accuracy: 0.8500 - val_loss: 0.2012\n",
            "Epoch 402/2000\n",
            "\u001b[1m3/3\u001b[0m \u001b[32m━━━━━━━━━━━━━━━━━━━━\u001b[0m\u001b[37m\u001b[0m \u001b[1m0s\u001b[0m 35ms/step - accuracy: 0.9914 - loss: 2.1486e-04 - val_accuracy: 0.8500 - val_loss: 0.2146\n",
            "Epoch 403/2000\n",
            "\u001b[1m3/3\u001b[0m \u001b[32m━━━━━━━━━━━━━━━━━━━━\u001b[0m\u001b[37m\u001b[0m \u001b[1m0s\u001b[0m 43ms/step - accuracy: 1.0000 - loss: 5.0359e-04 - val_accuracy: 0.8500 - val_loss: 0.2728\n",
            "Epoch 404/2000\n",
            "\u001b[1m3/3\u001b[0m \u001b[32m━━━━━━━━━━━━━━━━━━━━\u001b[0m\u001b[37m\u001b[0m \u001b[1m0s\u001b[0m 36ms/step - accuracy: 0.9816 - loss: 4.6344e-04 - val_accuracy: 0.8000 - val_loss: 0.4922\n",
            "Epoch 405/2000\n",
            "\u001b[1m3/3\u001b[0m \u001b[32m━━━━━━━━━━━━━━━━━━━━\u001b[0m\u001b[37m\u001b[0m \u001b[1m0s\u001b[0m 41ms/step - accuracy: 0.9894 - loss: 0.0755 - val_accuracy: 0.7500 - val_loss: 0.2635\n",
            "Epoch 406/2000\n",
            "\u001b[1m3/3\u001b[0m \u001b[32m━━━━━━━━━━━━━━━━━━━━\u001b[0m\u001b[37m\u001b[0m \u001b[1m0s\u001b[0m 33ms/step - accuracy: 0.9822 - loss: 3.9732e-04 - val_accuracy: 0.8000 - val_loss: 0.2206\n",
            "Epoch 407/2000\n",
            "\u001b[1m3/3\u001b[0m \u001b[32m━━━━━━━━━━━━━━━━━━━━\u001b[0m\u001b[37m\u001b[0m \u001b[1m0s\u001b[0m 42ms/step - accuracy: 1.0000 - loss: 0.0025 - val_accuracy: 0.8500 - val_loss: 0.1854\n",
            "Epoch 408/2000\n",
            "\u001b[1m3/3\u001b[0m \u001b[32m━━━━━━━━━━━━━━━━━━━━\u001b[0m\u001b[37m\u001b[0m \u001b[1m0s\u001b[0m 34ms/step - accuracy: 0.9585 - loss: 0.0136 - val_accuracy: 0.8000 - val_loss: 0.1798\n",
            "Epoch 409/2000\n",
            "\u001b[1m3/3\u001b[0m \u001b[32m━━━━━━━━━━━━━━━━━━━━\u001b[0m\u001b[37m\u001b[0m \u001b[1m0s\u001b[0m 32ms/step - accuracy: 0.9908 - loss: 0.0060 - val_accuracy: 0.8500 - val_loss: 0.3110\n",
            "Epoch 410/2000\n",
            "\u001b[1m3/3\u001b[0m \u001b[32m━━━━━━━━━━━━━━━━━━━━\u001b[0m\u001b[37m\u001b[0m \u001b[1m0s\u001b[0m 33ms/step - accuracy: 0.9822 - loss: 0.0070 - val_accuracy: 0.8000 - val_loss: 0.3974\n",
            "Epoch 411/2000\n",
            "\u001b[1m3/3\u001b[0m \u001b[32m━━━━━━━━━━━━━━━━━━━━\u001b[0m\u001b[37m\u001b[0m \u001b[1m0s\u001b[0m 33ms/step - accuracy: 0.9908 - loss: 0.0015 - val_accuracy: 0.8000 - val_loss: 0.3952\n",
            "Epoch 412/2000\n",
            "\u001b[1m3/3\u001b[0m \u001b[32m━━━━━━━━━━━━━━━━━━━━\u001b[0m\u001b[37m\u001b[0m \u001b[1m0s\u001b[0m 41ms/step - accuracy: 0.9875 - loss: 0.0453 - val_accuracy: 0.8000 - val_loss: 0.3770\n",
            "Epoch 413/2000\n",
            "\u001b[1m3/3\u001b[0m \u001b[32m━━━━━━━━━━━━━━━━━━━━\u001b[0m\u001b[37m\u001b[0m \u001b[1m0s\u001b[0m 43ms/step - accuracy: 0.9638 - loss: 0.0291 - val_accuracy: 0.8000 - val_loss: 0.3165\n",
            "Epoch 414/2000\n",
            "\u001b[1m3/3\u001b[0m \u001b[32m━━━━━━━━━━━━━━━━━━━━\u001b[0m\u001b[37m\u001b[0m \u001b[1m0s\u001b[0m 39ms/step - accuracy: 0.9908 - loss: 0.0046 - val_accuracy: 0.7500 - val_loss: 0.3436\n",
            "Epoch 415/2000\n",
            "\u001b[1m3/3\u001b[0m \u001b[32m━━━━━━━━━━━━━━━━━━━━\u001b[0m\u001b[37m\u001b[0m \u001b[1m0s\u001b[0m 41ms/step - accuracy: 0.9763 - loss: 8.5462e-04 - val_accuracy: 0.7000 - val_loss: 0.4060\n",
            "Epoch 416/2000\n",
            "\u001b[1m3/3\u001b[0m \u001b[32m━━━━━━━━━━━━━━━━━━━━\u001b[0m\u001b[37m\u001b[0m \u001b[1m0s\u001b[0m 39ms/step - accuracy: 0.9855 - loss: 0.0042 - val_accuracy: 0.7000 - val_loss: 0.4015\n",
            "Epoch 417/2000\n",
            "\u001b[1m3/3\u001b[0m \u001b[32m━━━━━━━━━━━━━━━━━━━━\u001b[0m\u001b[37m\u001b[0m \u001b[1m0s\u001b[0m 43ms/step - accuracy: 0.9855 - loss: 0.0015 - val_accuracy: 0.7000 - val_loss: 0.4075\n",
            "Epoch 418/2000\n",
            "\u001b[1m3/3\u001b[0m \u001b[32m━━━━━━━━━━━━━━━━━━━━\u001b[0m\u001b[37m\u001b[0m \u001b[1m0s\u001b[0m 36ms/step - accuracy: 1.0000 - loss: 0.0039 - val_accuracy: 0.7500 - val_loss: 0.4194\n",
            "Epoch 419/2000\n",
            "\u001b[1m3/3\u001b[0m \u001b[32m━━━━━━━━━━━━━━━━━━━━\u001b[0m\u001b[37m\u001b[0m \u001b[1m0s\u001b[0m 42ms/step - accuracy: 0.9947 - loss: 7.4478e-04 - val_accuracy: 0.7500 - val_loss: 0.4236\n",
            "Epoch 420/2000\n",
            "\u001b[1m3/3\u001b[0m \u001b[32m━━━━━━━━━━━━━━━━━━━━\u001b[0m\u001b[37m\u001b[0m \u001b[1m0s\u001b[0m 33ms/step - accuracy: 0.9914 - loss: 0.0030 - val_accuracy: 0.8000 - val_loss: 0.3644\n",
            "Epoch 421/2000\n",
            "\u001b[1m3/3\u001b[0m \u001b[32m━━━━━━━━━━━━━━━━━━━━\u001b[0m\u001b[37m\u001b[0m \u001b[1m0s\u001b[0m 43ms/step - accuracy: 1.0000 - loss: 3.0377e-04 - val_accuracy: 0.7500 - val_loss: 1.1110\n",
            "Epoch 422/2000\n",
            "\u001b[1m3/3\u001b[0m \u001b[32m━━━━━━━━━━━━━━━━━━━━\u001b[0m\u001b[37m\u001b[0m \u001b[1m0s\u001b[0m 26ms/step - accuracy: 0.9947 - loss: 0.0074 - val_accuracy: 0.8000 - val_loss: 1.4849\n",
            "Epoch 423/2000\n",
            "\u001b[1m3/3\u001b[0m \u001b[32m━━━━━━━━━━━━━━━━━━━━\u001b[0m\u001b[37m\u001b[0m \u001b[1m0s\u001b[0m 25ms/step - accuracy: 0.9763 - loss: 0.3103 - val_accuracy: 0.8000 - val_loss: 0.3542\n",
            "Epoch 424/2000\n",
            "\u001b[1m3/3\u001b[0m \u001b[32m━━━━━━━━━━━━━━━━━━━━\u001b[0m\u001b[37m\u001b[0m \u001b[1m0s\u001b[0m 25ms/step - accuracy: 0.9914 - loss: 2.4420e-04 - val_accuracy: 0.7500 - val_loss: 0.3084\n",
            "Epoch 425/2000\n",
            "\u001b[1m3/3\u001b[0m \u001b[32m━━━━━━━━━━━━━━━━━━━━\u001b[0m\u001b[37m\u001b[0m \u001b[1m0s\u001b[0m 24ms/step - accuracy: 0.9947 - loss: 0.0010 - val_accuracy: 0.7500 - val_loss: 0.3187\n",
            "Epoch 426/2000\n",
            "\u001b[1m3/3\u001b[0m \u001b[32m━━━━━━━━━━━━━━━━━━━━\u001b[0m\u001b[37m\u001b[0m \u001b[1m0s\u001b[0m 24ms/step - accuracy: 0.9914 - loss: 0.0157 - val_accuracy: 0.8000 - val_loss: 0.3027\n",
            "Epoch 427/2000\n",
            "\u001b[1m3/3\u001b[0m \u001b[32m━━━━━━━━━━━━━━━━━━━━\u001b[0m\u001b[37m\u001b[0m \u001b[1m0s\u001b[0m 25ms/step - accuracy: 0.9730 - loss: 9.7128e-04 - val_accuracy: 0.8000 - val_loss: 0.3262\n",
            "Epoch 428/2000\n",
            "\u001b[1m3/3\u001b[0m \u001b[32m━━━━━━━━━━━━━━━━━━━━\u001b[0m\u001b[37m\u001b[0m \u001b[1m0s\u001b[0m 37ms/step - accuracy: 0.9763 - loss: 0.0916 - val_accuracy: 0.8000 - val_loss: 0.2807\n",
            "Epoch 429/2000\n",
            "\u001b[1m3/3\u001b[0m \u001b[32m━━━━━━━━━━━━━━━━━━━━\u001b[0m\u001b[37m\u001b[0m \u001b[1m0s\u001b[0m 24ms/step - accuracy: 0.9947 - loss: 0.0099 - val_accuracy: 0.8000 - val_loss: 0.3062\n",
            "Epoch 430/2000\n",
            "\u001b[1m3/3\u001b[0m \u001b[32m━━━━━━━━━━━━━━━━━━━━\u001b[0m\u001b[37m\u001b[0m \u001b[1m0s\u001b[0m 27ms/step - accuracy: 1.0000 - loss: 0.0041 - val_accuracy: 0.8500 - val_loss: 0.3371\n",
            "Epoch 431/2000\n",
            "\u001b[1m3/3\u001b[0m \u001b[32m━━━━━━━━━━━━━━━━━━━━\u001b[0m\u001b[37m\u001b[0m \u001b[1m0s\u001b[0m 25ms/step - accuracy: 0.9822 - loss: 0.0155 - val_accuracy: 0.8500 - val_loss: 0.3524\n",
            "Epoch 432/2000\n",
            "\u001b[1m3/3\u001b[0m \u001b[32m━━━━━━━━━━━━━━━━━━━━\u001b[0m\u001b[37m\u001b[0m \u001b[1m0s\u001b[0m 24ms/step - accuracy: 0.9947 - loss: 0.0021 - val_accuracy: 0.9000 - val_loss: 0.3662\n",
            "Epoch 433/2000\n",
            "\u001b[1m3/3\u001b[0m \u001b[32m━━━━━━━━━━━━━━━━━━━━\u001b[0m\u001b[37m\u001b[0m \u001b[1m0s\u001b[0m 24ms/step - accuracy: 0.9908 - loss: 0.0011 - val_accuracy: 0.9000 - val_loss: 0.3689\n",
            "Epoch 434/2000\n",
            "\u001b[1m3/3\u001b[0m \u001b[32m━━━━━━━━━━━━━━━━━━━━\u001b[0m\u001b[37m\u001b[0m \u001b[1m0s\u001b[0m 25ms/step - accuracy: 0.9894 - loss: 0.0027 - val_accuracy: 0.9000 - val_loss: 0.3569\n",
            "Epoch 435/2000\n",
            "\u001b[1m3/3\u001b[0m \u001b[32m━━━━━━━━━━━━━━━━━━━━\u001b[0m\u001b[37m\u001b[0m \u001b[1m0s\u001b[0m 26ms/step - accuracy: 1.0000 - loss: 0.0016 - val_accuracy: 0.9000 - val_loss: 0.3459\n",
            "Epoch 436/2000\n",
            "\u001b[1m3/3\u001b[0m \u001b[32m━━━━━━━━━━━━━━━━━━━━\u001b[0m\u001b[37m\u001b[0m \u001b[1m0s\u001b[0m 25ms/step - accuracy: 0.9908 - loss: 0.0224 - val_accuracy: 0.8500 - val_loss: 0.3718\n",
            "Epoch 437/2000\n",
            "\u001b[1m3/3\u001b[0m \u001b[32m━━━━━━━━━━━━━━━━━━━━\u001b[0m\u001b[37m\u001b[0m \u001b[1m0s\u001b[0m 28ms/step - accuracy: 1.0000 - loss: 1.5286e-04 - val_accuracy: 0.8500 - val_loss: 0.3866\n",
            "Epoch 438/2000\n",
            "\u001b[1m3/3\u001b[0m \u001b[32m━━━━━━━━━━━━━━━━━━━━\u001b[0m\u001b[37m\u001b[0m \u001b[1m0s\u001b[0m 24ms/step - accuracy: 1.0000 - loss: 1.3808e-04 - val_accuracy: 0.8500 - val_loss: 0.4022\n",
            "Epoch 439/2000\n",
            "\u001b[1m3/3\u001b[0m \u001b[32m━━━━━━━━━━━━━━━━━━━━\u001b[0m\u001b[37m\u001b[0m \u001b[1m0s\u001b[0m 25ms/step - accuracy: 0.9908 - loss: 0.0017 - val_accuracy: 0.8500 - val_loss: 0.4128\n",
            "Epoch 440/2000\n",
            "\u001b[1m3/3\u001b[0m \u001b[32m━━━━━━━━━━━━━━━━━━━━\u001b[0m\u001b[37m\u001b[0m \u001b[1m0s\u001b[0m 24ms/step - accuracy: 1.0000 - loss: 0.0014 - val_accuracy: 0.8500 - val_loss: 0.4240\n",
            "Epoch 441/2000\n",
            "\u001b[1m3/3\u001b[0m \u001b[32m━━━━━━━━━━━━━━━━━━━━\u001b[0m\u001b[37m\u001b[0m \u001b[1m0s\u001b[0m 25ms/step - accuracy: 0.9880 - loss: 0.0012 - val_accuracy: 0.8500 - val_loss: 0.4265\n",
            "Epoch 442/2000\n",
            "\u001b[1m3/3\u001b[0m \u001b[32m━━━━━━━━━━━━━━━━━━━━\u001b[0m\u001b[37m\u001b[0m \u001b[1m0s\u001b[0m 24ms/step - accuracy: 0.9855 - loss: 0.0029 - val_accuracy: 0.8500 - val_loss: 0.3781\n",
            "Epoch 443/2000\n",
            "\u001b[1m3/3\u001b[0m \u001b[32m━━━━━━━━━━━━━━━━━━━━\u001b[0m\u001b[37m\u001b[0m \u001b[1m0s\u001b[0m 26ms/step - accuracy: 0.9855 - loss: 0.0060 - val_accuracy: 0.8500 - val_loss: 0.3457\n",
            "Epoch 444/2000\n",
            "\u001b[1m3/3\u001b[0m \u001b[32m━━━━━━━━━━━━━━━━━━━━\u001b[0m\u001b[37m\u001b[0m \u001b[1m0s\u001b[0m 30ms/step - accuracy: 0.9908 - loss: 0.0018 - val_accuracy: 0.8500 - val_loss: 0.3303\n",
            "Epoch 445/2000\n",
            "\u001b[1m3/3\u001b[0m \u001b[32m━━━━━━━━━━━━━━━━━━━━\u001b[0m\u001b[37m\u001b[0m \u001b[1m0s\u001b[0m 25ms/step - accuracy: 1.0000 - loss: 6.1004e-05 - val_accuracy: 0.9000 - val_loss: 0.3308\n",
            "Epoch 446/2000\n",
            "\u001b[1m3/3\u001b[0m \u001b[32m━━━━━━━━━━━━━━━━━━━━\u001b[0m\u001b[37m\u001b[0m \u001b[1m0s\u001b[0m 36ms/step - accuracy: 0.9908 - loss: 3.3232e-04 - val_accuracy: 0.9000 - val_loss: 0.3376\n",
            "Epoch 447/2000\n",
            "\u001b[1m3/3\u001b[0m \u001b[32m━━━━━━━━━━━━━━━━━━━━\u001b[0m\u001b[37m\u001b[0m \u001b[1m0s\u001b[0m 24ms/step - accuracy: 0.9908 - loss: 7.9807e-04 - val_accuracy: 0.9000 - val_loss: 0.3506\n",
            "Epoch 448/2000\n",
            "\u001b[1m3/3\u001b[0m \u001b[32m━━━━━━━━━━━━━━━━━━━━\u001b[0m\u001b[37m\u001b[0m \u001b[1m0s\u001b[0m 24ms/step - accuracy: 0.9967 - loss: 0.0225 - val_accuracy: 0.9000 - val_loss: 0.3664\n",
            "Epoch 449/2000\n",
            "\u001b[1m3/3\u001b[0m \u001b[32m━━━━━━━━━━━━━━━━━━━━\u001b[0m\u001b[37m\u001b[0m \u001b[1m0s\u001b[0m 24ms/step - accuracy: 0.9967 - loss: 0.0042 - val_accuracy: 0.9000 - val_loss: 0.3516\n",
            "Epoch 450/2000\n",
            "\u001b[1m3/3\u001b[0m \u001b[32m━━━━━━━━━━━━━━━━━━━━\u001b[0m\u001b[37m\u001b[0m \u001b[1m0s\u001b[0m 24ms/step - accuracy: 0.9894 - loss: 0.0021 - val_accuracy: 0.9000 - val_loss: 0.3305\n",
            "Epoch 451/2000\n",
            "\u001b[1m3/3\u001b[0m \u001b[32m━━━━━━━━━━━━━━━━━━━━\u001b[0m\u001b[37m\u001b[0m \u001b[1m0s\u001b[0m 24ms/step - accuracy: 0.9763 - loss: 0.0443 - val_accuracy: 0.8500 - val_loss: 0.2564\n",
            "Epoch 452/2000\n",
            "\u001b[1m3/3\u001b[0m \u001b[32m━━━━━━━━━━━━━━━━━━━━\u001b[0m\u001b[37m\u001b[0m \u001b[1m0s\u001b[0m 25ms/step - accuracy: 0.9947 - loss: 0.0057 - val_accuracy: 0.8500 - val_loss: 0.1869\n",
            "Epoch 453/2000\n",
            "\u001b[1m3/3\u001b[0m \u001b[32m━━━━━━━━━━━━━━━━━━━━\u001b[0m\u001b[37m\u001b[0m \u001b[1m0s\u001b[0m 26ms/step - accuracy: 1.0000 - loss: 0.0062 - val_accuracy: 0.8500 - val_loss: 0.1415\n",
            "Epoch 454/2000\n",
            "\u001b[1m3/3\u001b[0m \u001b[32m━━━━━━━━━━━━━━━━━━━━\u001b[0m\u001b[37m\u001b[0m \u001b[1m0s\u001b[0m 25ms/step - accuracy: 0.9967 - loss: 0.0033 - val_accuracy: 0.9000 - val_loss: 0.1217\n",
            "Epoch 455/2000\n",
            "\u001b[1m3/3\u001b[0m \u001b[32m━━━━━━━━━━━━━━━━━━━━\u001b[0m\u001b[37m\u001b[0m \u001b[1m0s\u001b[0m 37ms/step - accuracy: 0.9947 - loss: 0.0015 - val_accuracy: 0.9000 - val_loss: 0.1363\n",
            "Epoch 456/2000\n",
            "\u001b[1m3/3\u001b[0m \u001b[32m━━━━━━━━━━━━━━━━━━━━\u001b[0m\u001b[37m\u001b[0m \u001b[1m0s\u001b[0m 26ms/step - accuracy: 0.9947 - loss: 4.6766e-04 - val_accuracy: 0.9000 - val_loss: 0.1464\n",
            "Epoch 457/2000\n",
            "\u001b[1m3/3\u001b[0m \u001b[32m━━━━━━━━━━━━━━━━━━━━\u001b[0m\u001b[37m\u001b[0m \u001b[1m0s\u001b[0m 27ms/step - accuracy: 1.0000 - loss: 1.7208e-04 - val_accuracy: 0.9000 - val_loss: 0.1528\n",
            "Epoch 458/2000\n",
            "\u001b[1m3/3\u001b[0m \u001b[32m━━━━━━━━━━━━━━━━━━━━\u001b[0m\u001b[37m\u001b[0m \u001b[1m0s\u001b[0m 25ms/step - accuracy: 0.9691 - loss: 0.0123 - val_accuracy: 0.8500 - val_loss: 0.1945\n",
            "Epoch 459/2000\n",
            "\u001b[1m3/3\u001b[0m \u001b[32m━━━━━━━━━━━━━━━━━━━━\u001b[0m\u001b[37m\u001b[0m \u001b[1m0s\u001b[0m 24ms/step - accuracy: 0.9914 - loss: 0.0040 - val_accuracy: 0.8500 - val_loss: 0.2108\n",
            "Epoch 460/2000\n",
            "\u001b[1m3/3\u001b[0m \u001b[32m━━━━━━━━━━━━━━━━━━━━\u001b[0m\u001b[37m\u001b[0m \u001b[1m0s\u001b[0m 25ms/step - accuracy: 0.9658 - loss: 0.0022 - val_accuracy: 0.8500 - val_loss: 0.1873\n",
            "Epoch 461/2000\n",
            "\u001b[1m3/3\u001b[0m \u001b[32m━━━━━━━━━━━━━━━━━━━━\u001b[0m\u001b[37m\u001b[0m \u001b[1m0s\u001b[0m 24ms/step - accuracy: 0.9861 - loss: 0.0012 - val_accuracy: 0.8500 - val_loss: 0.1787\n",
            "Epoch 462/2000\n",
            "\u001b[1m3/3\u001b[0m \u001b[32m━━━━━━━━━━━━━━━━━━━━\u001b[0m\u001b[37m\u001b[0m \u001b[1m0s\u001b[0m 24ms/step - accuracy: 0.9947 - loss: 0.0037 - val_accuracy: 0.8500 - val_loss: 0.1720\n",
            "Epoch 463/2000\n",
            "\u001b[1m3/3\u001b[0m \u001b[32m━━━━━━━━━━━━━━━━━━━━\u001b[0m\u001b[37m\u001b[0m \u001b[1m0s\u001b[0m 29ms/step - accuracy: 0.9783 - loss: 3.7577e-04 - val_accuracy: 0.8500 - val_loss: 0.1688\n",
            "Epoch 464/2000\n",
            "\u001b[1m3/3\u001b[0m \u001b[32m━━━━━━━━━━━━━━━━━━━━\u001b[0m\u001b[37m\u001b[0m \u001b[1m0s\u001b[0m 24ms/step - accuracy: 0.9947 - loss: 0.0038 - val_accuracy: 0.8500 - val_loss: 0.1665\n",
            "Epoch 465/2000\n",
            "\u001b[1m3/3\u001b[0m \u001b[32m━━━━━━━━━━━━━━━━━━━━\u001b[0m\u001b[37m\u001b[0m \u001b[1m0s\u001b[0m 25ms/step - accuracy: 0.9618 - loss: 0.0271 - val_accuracy: 0.9000 - val_loss: 0.1619\n",
            "Epoch 466/2000\n",
            "\u001b[1m3/3\u001b[0m \u001b[32m━━━━━━━━━━━━━━━━━━━━\u001b[0m\u001b[37m\u001b[0m \u001b[1m0s\u001b[0m 24ms/step - accuracy: 0.9908 - loss: 5.8706e-04 - val_accuracy: 0.9000 - val_loss: 0.1634\n",
            "Epoch 467/2000\n",
            "\u001b[1m3/3\u001b[0m \u001b[32m━━━━━━━━━━━━━━━━━━━━\u001b[0m\u001b[37m\u001b[0m \u001b[1m0s\u001b[0m 24ms/step - accuracy: 0.9855 - loss: 0.0407 - val_accuracy: 0.9000 - val_loss: 0.1681\n",
            "Epoch 468/2000\n",
            "\u001b[1m3/3\u001b[0m \u001b[32m━━━━━━━━━━━━━━━━━━━━\u001b[0m\u001b[37m\u001b[0m \u001b[1m0s\u001b[0m 24ms/step - accuracy: 0.9908 - loss: 0.0074 - val_accuracy: 0.9000 - val_loss: 0.1604\n",
            "Epoch 469/2000\n",
            "\u001b[1m3/3\u001b[0m \u001b[32m━━━━━━━━━━━━━━━━━━━━\u001b[0m\u001b[37m\u001b[0m \u001b[1m0s\u001b[0m 25ms/step - accuracy: 0.9908 - loss: 1.7824e-04 - val_accuracy: 0.9000 - val_loss: 0.1542\n",
            "Epoch 470/2000\n",
            "\u001b[1m3/3\u001b[0m \u001b[32m━━━━━━━━━━━━━━━━━━━━\u001b[0m\u001b[37m\u001b[0m \u001b[1m0s\u001b[0m 25ms/step - accuracy: 1.0000 - loss: 0.0010 - val_accuracy: 0.9000 - val_loss: 0.1534\n",
            "Epoch 471/2000\n",
            "\u001b[1m3/3\u001b[0m \u001b[32m━━━━━━━━━━━━━━━━━━━━\u001b[0m\u001b[37m\u001b[0m \u001b[1m0s\u001b[0m 28ms/step - accuracy: 0.9947 - loss: 0.0027 - val_accuracy: 0.9000 - val_loss: 0.1487\n",
            "Epoch 472/2000\n",
            "\u001b[1m3/3\u001b[0m \u001b[32m━━━━━━━━━━━━━━━━━━━━\u001b[0m\u001b[37m\u001b[0m \u001b[1m0s\u001b[0m 27ms/step - accuracy: 0.9875 - loss: 0.0131 - val_accuracy: 0.9000 - val_loss: 0.1486\n",
            "Epoch 473/2000\n",
            "\u001b[1m3/3\u001b[0m \u001b[32m━━━━━━━━━━━━━━━━━━━━\u001b[0m\u001b[37m\u001b[0m \u001b[1m0s\u001b[0m 24ms/step - accuracy: 0.9947 - loss: 9.9354e-04 - val_accuracy: 0.9000 - val_loss: 0.1498\n",
            "Epoch 474/2000\n",
            "\u001b[1m3/3\u001b[0m \u001b[32m━━━━━━━━━━━━━━━━━━━━\u001b[0m\u001b[37m\u001b[0m \u001b[1m0s\u001b[0m 25ms/step - accuracy: 0.9908 - loss: 8.3462e-05 - val_accuracy: 0.9000 - val_loss: 0.1523\n",
            "Epoch 475/2000\n",
            "\u001b[1m3/3\u001b[0m \u001b[32m━━━━━━━━━━━━━━━━━━━━\u001b[0m\u001b[37m\u001b[0m \u001b[1m0s\u001b[0m 24ms/step - accuracy: 0.9967 - loss: 0.0017 - val_accuracy: 0.9000 - val_loss: 0.1538\n",
            "Epoch 476/2000\n",
            "\u001b[1m3/3\u001b[0m \u001b[32m━━━━━━━━━━━━━━━━━━━━\u001b[0m\u001b[37m\u001b[0m \u001b[1m0s\u001b[0m 26ms/step - accuracy: 0.9947 - loss: 0.0019 - val_accuracy: 0.9000 - val_loss: 0.1588\n",
            "Epoch 477/2000\n",
            "\u001b[1m3/3\u001b[0m \u001b[32m━━━━━━━━━━━━━━━━━━━━\u001b[0m\u001b[37m\u001b[0m \u001b[1m0s\u001b[0m 25ms/step - accuracy: 0.9908 - loss: 0.0014 - val_accuracy: 0.9000 - val_loss: 0.1704\n",
            "Epoch 478/2000\n",
            "\u001b[1m3/3\u001b[0m \u001b[32m━━━━━━━━━━━━━━━━━━━━\u001b[0m\u001b[37m\u001b[0m \u001b[1m0s\u001b[0m 26ms/step - accuracy: 1.0000 - loss: 1.4663e-04 - val_accuracy: 0.9000 - val_loss: 0.1845\n",
            "Epoch 479/2000\n",
            "\u001b[1m3/3\u001b[0m \u001b[32m━━━━━━━━━━━━━━━━━━━━\u001b[0m\u001b[37m\u001b[0m \u001b[1m0s\u001b[0m 25ms/step - accuracy: 0.9908 - loss: 0.0142 - val_accuracy: 0.9000 - val_loss: 0.2277\n",
            "Epoch 480/2000\n",
            "\u001b[1m3/3\u001b[0m \u001b[32m━━━━━━━━━━━━━━━━━━━━\u001b[0m\u001b[37m\u001b[0m \u001b[1m0s\u001b[0m 27ms/step - accuracy: 0.9967 - loss: 4.2608e-04 - val_accuracy: 0.8500 - val_loss: 0.2643\n",
            "Epoch 481/2000\n",
            "\u001b[1m3/3\u001b[0m \u001b[32m━━━━━━━━━━━━━━━━━━━━\u001b[0m\u001b[37m\u001b[0m \u001b[1m0s\u001b[0m 29ms/step - accuracy: 0.9933 - loss: 5.3680e-04 - val_accuracy: 0.8500 - val_loss: 0.2876\n",
            "Epoch 482/2000\n",
            "\u001b[1m3/3\u001b[0m \u001b[32m━━━━━━━━━━━━━━━━━━━━\u001b[0m\u001b[37m\u001b[0m \u001b[1m0s\u001b[0m 24ms/step - accuracy: 0.9855 - loss: 4.3983e-04 - val_accuracy: 0.8500 - val_loss: 0.3043\n",
            "Epoch 483/2000\n",
            "\u001b[1m3/3\u001b[0m \u001b[32m━━━━━━━━━━━━━━━━━━━━\u001b[0m\u001b[37m\u001b[0m \u001b[1m0s\u001b[0m 24ms/step - accuracy: 0.9947 - loss: 4.2661e-04 - val_accuracy: 0.8500 - val_loss: 0.3095\n",
            "Epoch 484/2000\n",
            "\u001b[1m3/3\u001b[0m \u001b[32m━━━━━━━━━━━━━━━━━━━━\u001b[0m\u001b[37m\u001b[0m \u001b[1m0s\u001b[0m 25ms/step - accuracy: 1.0000 - loss: 3.3643e-04 - val_accuracy: 0.8500 - val_loss: 0.3131\n",
            "Epoch 485/2000\n",
            "\u001b[1m3/3\u001b[0m \u001b[32m━━━━━━━━━━━━━━━━━━━━\u001b[0m\u001b[37m\u001b[0m \u001b[1m0s\u001b[0m 25ms/step - accuracy: 0.9730 - loss: 0.0053 - val_accuracy: 0.8500 - val_loss: 0.2778\n",
            "Epoch 486/2000\n",
            "\u001b[1m3/3\u001b[0m \u001b[32m━━━━━━━━━━━━━━━━━━━━\u001b[0m\u001b[37m\u001b[0m \u001b[1m0s\u001b[0m 24ms/step - accuracy: 0.9658 - loss: 3.0866e-05 - val_accuracy: 0.9500 - val_loss: 0.2255\n",
            "Epoch 487/2000\n",
            "\u001b[1m3/3\u001b[0m \u001b[32m━━━━━━━━━━━━━━━━━━━━\u001b[0m\u001b[37m\u001b[0m \u001b[1m0s\u001b[0m 25ms/step - accuracy: 0.9967 - loss: 9.0704e-05 - val_accuracy: 0.9000 - val_loss: 0.2401\n",
            "Epoch 488/2000\n",
            "\u001b[1m3/3\u001b[0m \u001b[32m━━━━━━━━━━━━━━━━━━━━\u001b[0m\u001b[37m\u001b[0m \u001b[1m0s\u001b[0m 28ms/step - accuracy: 0.9855 - loss: 1.9351e-04 - val_accuracy: 0.9000 - val_loss: 0.2562\n",
            "Epoch 489/2000\n",
            "\u001b[1m3/3\u001b[0m \u001b[32m━━━━━━━━━━━━━━━━━━━━\u001b[0m\u001b[37m\u001b[0m \u001b[1m0s\u001b[0m 25ms/step - accuracy: 0.9671 - loss: 0.0490 - val_accuracy: 0.8500 - val_loss: 0.2320\n",
            "Epoch 490/2000\n",
            "\u001b[1m3/3\u001b[0m \u001b[32m━━━━━━━━━━━━━━━━━━━━\u001b[0m\u001b[37m\u001b[0m \u001b[1m0s\u001b[0m 25ms/step - accuracy: 1.0000 - loss: 3.0048e-04 - val_accuracy: 0.8500 - val_loss: 0.2086\n",
            "Epoch 491/2000\n",
            "\u001b[1m3/3\u001b[0m \u001b[32m━━━━━━━━━━━━━━━━━━━━\u001b[0m\u001b[37m\u001b[0m \u001b[1m0s\u001b[0m 25ms/step - accuracy: 0.9855 - loss: 0.0174 - val_accuracy: 0.8500 - val_loss: 0.1781\n",
            "Epoch 492/2000\n",
            "\u001b[1m3/3\u001b[0m \u001b[32m━━━━━━━━━━━━━━━━━━━━\u001b[0m\u001b[37m\u001b[0m \u001b[1m0s\u001b[0m 24ms/step - accuracy: 0.9947 - loss: 2.3816e-04 - val_accuracy: 0.8500 - val_loss: 0.1665\n",
            "Epoch 493/2000\n",
            "\u001b[1m3/3\u001b[0m \u001b[32m━━━━━━━━━━━━━━━━━━━━\u001b[0m\u001b[37m\u001b[0m \u001b[1m0s\u001b[0m 25ms/step - accuracy: 0.9967 - loss: 2.2610e-04 - val_accuracy: 0.8500 - val_loss: 0.1656\n",
            "Epoch 494/2000\n",
            "\u001b[1m3/3\u001b[0m \u001b[32m━━━━━━━━━━━━━━━━━━━━\u001b[0m\u001b[37m\u001b[0m \u001b[1m0s\u001b[0m 25ms/step - accuracy: 0.9875 - loss: 3.4437e-04 - val_accuracy: 0.8500 - val_loss: 0.1755\n",
            "Epoch 495/2000\n",
            "\u001b[1m3/3\u001b[0m \u001b[32m━━━━━━━━━━━━━━━━━━━━\u001b[0m\u001b[37m\u001b[0m \u001b[1m0s\u001b[0m 24ms/step - accuracy: 0.9816 - loss: 1.4966e-04 - val_accuracy: 0.8500 - val_loss: 0.1913\n",
            "Epoch 496/2000\n",
            "\u001b[1m3/3\u001b[0m \u001b[32m━━━━━━━━━━━━━━━━━━━━\u001b[0m\u001b[37m\u001b[0m \u001b[1m0s\u001b[0m 25ms/step - accuracy: 0.9540 - loss: 0.0016 - val_accuracy: 0.8500 - val_loss: 0.2069\n",
            "Epoch 497/2000\n",
            "\u001b[1m3/3\u001b[0m \u001b[32m━━━━━━━━━━━━━━━━━━━━\u001b[0m\u001b[37m\u001b[0m \u001b[1m0s\u001b[0m 29ms/step - accuracy: 1.0000 - loss: 0.0014 - val_accuracy: 0.8500 - val_loss: 0.2005\n",
            "Epoch 498/2000\n",
            "\u001b[1m3/3\u001b[0m \u001b[32m━━━━━━━━━━━━━━━━━━━━\u001b[0m\u001b[37m\u001b[0m \u001b[1m0s\u001b[0m 25ms/step - accuracy: 0.9816 - loss: 0.0011 - val_accuracy: 0.8500 - val_loss: 0.2148\n",
            "Epoch 499/2000\n",
            "\u001b[1m3/3\u001b[0m \u001b[32m━━━━━━━━━━━━━━━━━━━━\u001b[0m\u001b[37m\u001b[0m \u001b[1m0s\u001b[0m 25ms/step - accuracy: 1.0000 - loss: 9.7202e-04 - val_accuracy: 0.9000 - val_loss: 0.2490\n",
            "Epoch 500/2000\n",
            "\u001b[1m3/3\u001b[0m \u001b[32m━━━━━━━━━━━━━━━━━━━━\u001b[0m\u001b[37m\u001b[0m \u001b[1m0s\u001b[0m 24ms/step - accuracy: 0.9855 - loss: 1.3182e-04 - val_accuracy: 0.9000 - val_loss: 0.2873\n",
            "Epoch 501/2000\n",
            "\u001b[1m3/3\u001b[0m \u001b[32m━━━━━━━━━━━━━━━━━━━━\u001b[0m\u001b[37m\u001b[0m \u001b[1m0s\u001b[0m 29ms/step - accuracy: 0.9855 - loss: 0.0030 - val_accuracy: 0.9000 - val_loss: 0.3173\n",
            "Epoch 502/2000\n",
            "\u001b[1m3/3\u001b[0m \u001b[32m━━━━━━━━━━━━━━━━━━━━\u001b[0m\u001b[37m\u001b[0m \u001b[1m0s\u001b[0m 25ms/step - accuracy: 0.9894 - loss: 0.0042 - val_accuracy: 0.9000 - val_loss: 0.3468\n",
            "Epoch 503/2000\n",
            "\u001b[1m3/3\u001b[0m \u001b[32m━━━━━━━━━━━━━━━━━━━━\u001b[0m\u001b[37m\u001b[0m \u001b[1m0s\u001b[0m 26ms/step - accuracy: 0.9855 - loss: 0.0056 - val_accuracy: 0.9000 - val_loss: 0.3531\n",
            "Epoch 504/2000\n",
            "\u001b[1m3/3\u001b[0m \u001b[32m━━━━━━━━━━━━━━━━━━━━\u001b[0m\u001b[37m\u001b[0m \u001b[1m0s\u001b[0m 25ms/step - accuracy: 0.9947 - loss: 5.8833e-04 - val_accuracy: 0.9000 - val_loss: 0.3524\n",
            "Epoch 505/2000\n",
            "\u001b[1m3/3\u001b[0m \u001b[32m━━━━━━━━━━━━━━━━━━━━\u001b[0m\u001b[37m\u001b[0m \u001b[1m0s\u001b[0m 45ms/step - accuracy: 0.9855 - loss: 0.0026 - val_accuracy: 0.9000 - val_loss: 0.3625\n",
            "Epoch 506/2000\n",
            "\u001b[1m3/3\u001b[0m \u001b[32m━━━━━━━━━━━━━━━━━━━━\u001b[0m\u001b[37m\u001b[0m \u001b[1m0s\u001b[0m 37ms/step - accuracy: 0.9855 - loss: 0.0012 - val_accuracy: 0.9000 - val_loss: 0.3824\n",
            "Epoch 507/2000\n",
            "\u001b[1m3/3\u001b[0m \u001b[32m━━━━━━━━━━━━━━━━━━━━\u001b[0m\u001b[37m\u001b[0m \u001b[1m0s\u001b[0m 38ms/step - accuracy: 0.9908 - loss: 3.9274e-04 - val_accuracy: 0.9000 - val_loss: 0.3983\n",
            "Epoch 508/2000\n",
            "\u001b[1m3/3\u001b[0m \u001b[32m━━━━━━━━━━━━━━━━━━━━\u001b[0m\u001b[37m\u001b[0m \u001b[1m0s\u001b[0m 41ms/step - accuracy: 0.9802 - loss: 7.1425e-04 - val_accuracy: 0.9000 - val_loss: 0.4016\n",
            "Epoch 509/2000\n",
            "\u001b[1m3/3\u001b[0m \u001b[32m━━━━━━━━━━━━━━━━━━━━\u001b[0m\u001b[37m\u001b[0m \u001b[1m0s\u001b[0m 40ms/step - accuracy: 1.0000 - loss: 0.0012 - val_accuracy: 0.9000 - val_loss: 0.3967\n",
            "Epoch 510/2000\n",
            "\u001b[1m3/3\u001b[0m \u001b[32m━━━━━━━━━━━━━━━━━━━━\u001b[0m\u001b[37m\u001b[0m \u001b[1m0s\u001b[0m 42ms/step - accuracy: 0.9914 - loss: 0.0287 - val_accuracy: 0.8500 - val_loss: 0.3872\n",
            "Epoch 511/2000\n",
            "\u001b[1m3/3\u001b[0m \u001b[32m━━━━━━━━━━━━━━━━━━━━\u001b[0m\u001b[37m\u001b[0m \u001b[1m0s\u001b[0m 40ms/step - accuracy: 0.9855 - loss: 1.3081e-04 - val_accuracy: 0.8000 - val_loss: 0.3677\n",
            "Epoch 512/2000\n",
            "\u001b[1m3/3\u001b[0m \u001b[32m━━━━━━━━━━━━━━━━━━━━\u001b[0m\u001b[37m\u001b[0m \u001b[1m0s\u001b[0m 41ms/step - accuracy: 0.9769 - loss: 3.6748e-05 - val_accuracy: 0.8000 - val_loss: 0.3582\n",
            "Epoch 513/2000\n",
            "\u001b[1m3/3\u001b[0m \u001b[32m━━━━━━━━━━━━━━━━━━━━\u001b[0m\u001b[37m\u001b[0m \u001b[1m0s\u001b[0m 41ms/step - accuracy: 0.9677 - loss: 4.7690e-05 - val_accuracy: 0.8000 - val_loss: 0.3521\n",
            "Epoch 514/2000\n",
            "\u001b[1m3/3\u001b[0m \u001b[32m━━━━━━━━━━━━━━━━━━━━\u001b[0m\u001b[37m\u001b[0m \u001b[1m0s\u001b[0m 42ms/step - accuracy: 0.9577 - loss: 0.1000 - val_accuracy: 0.8000 - val_loss: 0.3607\n",
            "Epoch 515/2000\n",
            "\u001b[1m3/3\u001b[0m \u001b[32m━━━━━━━━━━━━━━━━━━━━\u001b[0m\u001b[37m\u001b[0m \u001b[1m0s\u001b[0m 34ms/step - accuracy: 0.9763 - loss: 2.9091e-04 - val_accuracy: 0.8500 - val_loss: 0.9598\n",
            "Epoch 516/2000\n",
            "\u001b[1m3/3\u001b[0m \u001b[32m━━━━━━━━━━━━━━━━━━━━\u001b[0m\u001b[37m\u001b[0m \u001b[1m0s\u001b[0m 39ms/step - accuracy: 0.9644 - loss: 0.0077 - val_accuracy: 0.8000 - val_loss: 1.4244\n",
            "Epoch 517/2000\n",
            "\u001b[1m3/3\u001b[0m \u001b[32m━━━━━━━━━━━━━━━━━━━━\u001b[0m\u001b[37m\u001b[0m \u001b[1m0s\u001b[0m 34ms/step - accuracy: 0.9610 - loss: 0.0926 - val_accuracy: 0.8000 - val_loss: 1.2386\n",
            "Epoch 518/2000\n",
            "\u001b[1m3/3\u001b[0m \u001b[32m━━━━━━━━━━━━━━━━━━━━\u001b[0m\u001b[37m\u001b[0m \u001b[1m0s\u001b[0m 36ms/step - accuracy: 0.9532 - loss: 0.0547 - val_accuracy: 0.8000 - val_loss: 1.0739\n",
            "Epoch 519/2000\n",
            "\u001b[1m3/3\u001b[0m \u001b[32m━━━━━━━━━━━━━━━━━━━━\u001b[0m\u001b[37m\u001b[0m \u001b[1m0s\u001b[0m 34ms/step - accuracy: 0.9440 - loss: 0.0132 - val_accuracy: 0.8000 - val_loss: 0.5946\n",
            "Epoch 520/2000\n",
            "\u001b[1m3/3\u001b[0m \u001b[32m━━━━━━━━━━━━━━━━━━━━\u001b[0m\u001b[37m\u001b[0m \u001b[1m0s\u001b[0m 49ms/step - accuracy: 0.9697 - loss: 0.0444 - val_accuracy: 0.8000 - val_loss: 0.6354\n",
            "Epoch 521/2000\n",
            "\u001b[1m3/3\u001b[0m \u001b[32m━━━━━━━━━━━━━━━━━━━━\u001b[0m\u001b[37m\u001b[0m \u001b[1m0s\u001b[0m 41ms/step - accuracy: 0.9822 - loss: 0.0634 - val_accuracy: 0.7000 - val_loss: 0.8565\n",
            "Epoch 522/2000\n",
            "\u001b[1m3/3\u001b[0m \u001b[32m━━━━━━━━━━━━━━━━━━━━\u001b[0m\u001b[37m\u001b[0m \u001b[1m0s\u001b[0m 25ms/step - accuracy: 0.9802 - loss: 0.0158 - val_accuracy: 0.7500 - val_loss: 0.7436\n",
            "Epoch 523/2000\n",
            "\u001b[1m3/3\u001b[0m \u001b[32m━━━━━━━━━━━━━━━━━━━━\u001b[0m\u001b[37m\u001b[0m \u001b[1m0s\u001b[0m 24ms/step - accuracy: 0.9802 - loss: 0.0012 - val_accuracy: 0.7500 - val_loss: 0.8413\n",
            "Epoch 524/2000\n",
            "\u001b[1m3/3\u001b[0m \u001b[32m━━━━━━━━━━━━━━━━━━━━\u001b[0m\u001b[37m\u001b[0m \u001b[1m0s\u001b[0m 24ms/step - accuracy: 0.9783 - loss: 7.4315e-04 - val_accuracy: 0.7500 - val_loss: 1.0776\n",
            "Epoch 525/2000\n",
            "\u001b[1m3/3\u001b[0m \u001b[32m━━━━━━━━━━━━━━━━━━━━\u001b[0m\u001b[37m\u001b[0m \u001b[1m0s\u001b[0m 24ms/step - accuracy: 1.0000 - loss: 5.9191e-04 - val_accuracy: 0.7000 - val_loss: 1.3447\n",
            "Epoch 526/2000\n",
            "\u001b[1m3/3\u001b[0m \u001b[32m━━━━━━━━━━━━━━━━━━━━\u001b[0m\u001b[37m\u001b[0m \u001b[1m0s\u001b[0m 25ms/step - accuracy: 0.9808 - loss: 0.0285 - val_accuracy: 0.7000 - val_loss: 1.3540\n",
            "Epoch 527/2000\n",
            "\u001b[1m3/3\u001b[0m \u001b[32m━━━━━━━━━━━━━━━━━━━━\u001b[0m\u001b[37m\u001b[0m \u001b[1m0s\u001b[0m 24ms/step - accuracy: 0.9855 - loss: 0.0318 - val_accuracy: 0.8500 - val_loss: 0.4763\n",
            "Epoch 528/2000\n",
            "\u001b[1m3/3\u001b[0m \u001b[32m━━━━━━━━━━━━━━━━━━━━\u001b[0m\u001b[37m\u001b[0m \u001b[1m0s\u001b[0m 24ms/step - accuracy: 0.9908 - loss: 0.0032 - val_accuracy: 0.9000 - val_loss: 0.1705\n",
            "Epoch 529/2000\n",
            "\u001b[1m3/3\u001b[0m \u001b[32m━━━━━━━━━━━━━━━━━━━━\u001b[0m\u001b[37m\u001b[0m \u001b[1m0s\u001b[0m 27ms/step - accuracy: 0.9763 - loss: 0.0011 - val_accuracy: 0.8500 - val_loss: 0.2812\n",
            "Epoch 530/2000\n",
            "\u001b[1m3/3\u001b[0m \u001b[32m━━━━━━━━━━━━━━━━━━━━\u001b[0m\u001b[37m\u001b[0m \u001b[1m0s\u001b[0m 24ms/step - accuracy: 0.9875 - loss: 0.0122 - val_accuracy: 0.7500 - val_loss: 0.4191\n",
            "Epoch 531/2000\n",
            "\u001b[1m3/3\u001b[0m \u001b[32m━━━━━━━━━━━━━━━━━━━━\u001b[0m\u001b[37m\u001b[0m \u001b[1m0s\u001b[0m 24ms/step - accuracy: 0.9816 - loss: 0.0083 - val_accuracy: 0.7500 - val_loss: 0.6466\n",
            "Epoch 532/2000\n",
            "\u001b[1m3/3\u001b[0m \u001b[32m━━━━━━━━━━━━━━━━━━━━\u001b[0m\u001b[37m\u001b[0m \u001b[1m0s\u001b[0m 24ms/step - accuracy: 1.0000 - loss: 0.0063 - val_accuracy: 0.8000 - val_loss: 0.7050\n",
            "Epoch 533/2000\n",
            "\u001b[1m3/3\u001b[0m \u001b[32m━━━━━━━━━━━━━━━━━━━━\u001b[0m\u001b[37m\u001b[0m \u001b[1m0s\u001b[0m 24ms/step - accuracy: 0.9947 - loss: 0.0019 - val_accuracy: 0.8000 - val_loss: 0.5990\n",
            "Epoch 534/2000\n",
            "\u001b[1m3/3\u001b[0m \u001b[32m━━━━━━━━━━━━━━━━━━━━\u001b[0m\u001b[37m\u001b[0m \u001b[1m0s\u001b[0m 24ms/step - accuracy: 1.0000 - loss: 0.0040 - val_accuracy: 0.8500 - val_loss: 0.5710\n",
            "Epoch 535/2000\n",
            "\u001b[1m3/3\u001b[0m \u001b[32m━━━━━━━━━━━━━━━━━━━━\u001b[0m\u001b[37m\u001b[0m \u001b[1m0s\u001b[0m 25ms/step - accuracy: 0.9894 - loss: 0.0058 - val_accuracy: 0.8500 - val_loss: 0.5605\n",
            "Epoch 536/2000\n",
            "\u001b[1m3/3\u001b[0m \u001b[32m━━━━━━━━━━━━━━━━━━━━\u001b[0m\u001b[37m\u001b[0m \u001b[1m0s\u001b[0m 25ms/step - accuracy: 0.9914 - loss: 0.0048 - val_accuracy: 0.8500 - val_loss: 0.5441\n",
            "Epoch 537/2000\n",
            "\u001b[1m3/3\u001b[0m \u001b[32m━━━━━━━━━━━━━━━━━━━━\u001b[0m\u001b[37m\u001b[0m \u001b[1m0s\u001b[0m 27ms/step - accuracy: 1.0000 - loss: 0.0011 - val_accuracy: 0.8500 - val_loss: 0.5296\n",
            "Epoch 538/2000\n",
            "\u001b[1m3/3\u001b[0m \u001b[32m━━━━━━━━━━━━━━━━━━━━\u001b[0m\u001b[37m\u001b[0m \u001b[1m0s\u001b[0m 26ms/step - accuracy: 0.9802 - loss: 5.3268e-04 - val_accuracy: 0.8500 - val_loss: 0.5205\n",
            "Epoch 539/2000\n",
            "\u001b[1m3/3\u001b[0m \u001b[32m━━━━━━━━━━━━━━━━━━━━\u001b[0m\u001b[37m\u001b[0m \u001b[1m0s\u001b[0m 24ms/step - accuracy: 0.9816 - loss: 1.9017e-04 - val_accuracy: 0.8500 - val_loss: 0.5174\n",
            "Epoch 540/2000\n",
            "\u001b[1m3/3\u001b[0m \u001b[32m━━━━━━━━━━━━━━━━━━━━\u001b[0m\u001b[37m\u001b[0m \u001b[1m0s\u001b[0m 23ms/step - accuracy: 0.9894 - loss: 0.0139 - val_accuracy: 0.8500 - val_loss: 0.5177\n",
            "Epoch 541/2000\n",
            "\u001b[1m3/3\u001b[0m \u001b[32m━━━━━━━━━━━━━━━━━━━━\u001b[0m\u001b[37m\u001b[0m \u001b[1m0s\u001b[0m 24ms/step - accuracy: 0.9914 - loss: 3.6955e-04 - val_accuracy: 0.8500 - val_loss: 0.4985\n",
            "Epoch 542/2000\n",
            "\u001b[1m3/3\u001b[0m \u001b[32m━━━━━━━━━━━━━━━━━━━━\u001b[0m\u001b[37m\u001b[0m \u001b[1m0s\u001b[0m 24ms/step - accuracy: 0.9908 - loss: 0.0026 - val_accuracy: 0.8500 - val_loss: 0.4912\n",
            "Epoch 543/2000\n",
            "\u001b[1m3/3\u001b[0m \u001b[32m━━━━━━━━━━━━━━━━━━━━\u001b[0m\u001b[37m\u001b[0m \u001b[1m0s\u001b[0m 24ms/step - accuracy: 0.9763 - loss: 1.1478e-04 - val_accuracy: 0.8500 - val_loss: 0.4861\n",
            "Epoch 544/2000\n",
            "\u001b[1m3/3\u001b[0m \u001b[32m━━━━━━━━━━━━━━━━━━━━\u001b[0m\u001b[37m\u001b[0m \u001b[1m0s\u001b[0m 24ms/step - accuracy: 0.9861 - loss: 2.3821e-04 - val_accuracy: 0.8500 - val_loss: 0.4849\n",
            "Epoch 545/2000\n",
            "\u001b[1m3/3\u001b[0m \u001b[32m━━━━━━━━━━━━━━━━━━━━\u001b[0m\u001b[37m\u001b[0m \u001b[1m0s\u001b[0m 24ms/step - accuracy: 0.9841 - loss: 5.6499e-04 - val_accuracy: 0.8500 - val_loss: 0.4916\n",
            "Epoch 546/2000\n",
            "\u001b[1m3/3\u001b[0m \u001b[32m━━━━━━━━━━━━━━━━━━━━\u001b[0m\u001b[37m\u001b[0m \u001b[1m0s\u001b[0m 27ms/step - accuracy: 0.9710 - loss: 6.9399e-05 - val_accuracy: 0.8500 - val_loss: 0.4987\n",
            "Epoch 547/2000\n",
            "\u001b[1m3/3\u001b[0m \u001b[32m━━━━━━━━━━━━━━━━━━━━\u001b[0m\u001b[37m\u001b[0m \u001b[1m0s\u001b[0m 24ms/step - accuracy: 0.9875 - loss: 0.0018 - val_accuracy: 0.8500 - val_loss: 0.4848\n",
            "Epoch 548/2000\n",
            "\u001b[1m3/3\u001b[0m \u001b[32m━━━━━━━━━━━━━━━━━━━━\u001b[0m\u001b[37m\u001b[0m \u001b[1m0s\u001b[0m 26ms/step - accuracy: 0.9749 - loss: 3.1470e-04 - val_accuracy: 0.8500 - val_loss: 0.4438\n",
            "Epoch 549/2000\n",
            "\u001b[1m3/3\u001b[0m \u001b[32m━━━━━━━━━━━━━━━━━━━━\u001b[0m\u001b[37m\u001b[0m \u001b[1m0s\u001b[0m 25ms/step - accuracy: 0.9908 - loss: 0.0022 - val_accuracy: 0.8500 - val_loss: 0.4061\n",
            "Epoch 550/2000\n",
            "\u001b[1m3/3\u001b[0m \u001b[32m━━━━━━━━━━━━━━━━━━━━\u001b[0m\u001b[37m\u001b[0m \u001b[1m0s\u001b[0m 24ms/step - accuracy: 0.9947 - loss: 1.0366e-04 - val_accuracy: 0.8500 - val_loss: 0.3851\n",
            "Epoch 551/2000\n",
            "\u001b[1m3/3\u001b[0m \u001b[32m━━━━━━━━━━━━━━━━━━━━\u001b[0m\u001b[37m\u001b[0m \u001b[1m0s\u001b[0m 24ms/step - accuracy: 0.9808 - loss: 0.0106 - val_accuracy: 0.8500 - val_loss: 0.4466\n",
            "Epoch 552/2000\n",
            "\u001b[1m3/3\u001b[0m \u001b[32m━━━━━━━━━━━━━━━━━━━━\u001b[0m\u001b[37m\u001b[0m \u001b[1m0s\u001b[0m 24ms/step - accuracy: 0.9710 - loss: 0.0063 - val_accuracy: 0.8500 - val_loss: 0.5972\n",
            "Epoch 553/2000\n",
            "\u001b[1m3/3\u001b[0m \u001b[32m━━━━━━━━━━━━━━━━━━━━\u001b[0m\u001b[37m\u001b[0m \u001b[1m0s\u001b[0m 24ms/step - accuracy: 0.9894 - loss: 0.0020 - val_accuracy: 0.7500 - val_loss: 0.8001\n",
            "Epoch 554/2000\n",
            "\u001b[1m3/3\u001b[0m \u001b[32m━━━━━━━━━━━━━━━━━━━━\u001b[0m\u001b[37m\u001b[0m \u001b[1m0s\u001b[0m 26ms/step - accuracy: 0.9914 - loss: 0.0048 - val_accuracy: 0.7000 - val_loss: 1.0218\n",
            "Epoch 555/2000\n",
            "\u001b[1m3/3\u001b[0m \u001b[32m━━━━━━━━━━━━━━━━━━━━\u001b[0m\u001b[37m\u001b[0m \u001b[1m0s\u001b[0m 25ms/step - accuracy: 0.9769 - loss: 0.0460 - val_accuracy: 0.7500 - val_loss: 0.8998\n",
            "Epoch 556/2000\n",
            "\u001b[1m3/3\u001b[0m \u001b[32m━━━━━━━━━━━━━━━━━━━━\u001b[0m\u001b[37m\u001b[0m \u001b[1m0s\u001b[0m 27ms/step - accuracy: 0.9816 - loss: 8.7948e-04 - val_accuracy: 0.8000 - val_loss: 0.9879\n",
            "Epoch 557/2000\n",
            "\u001b[1m3/3\u001b[0m \u001b[32m━━━━━━━━━━━━━━━━━━━━\u001b[0m\u001b[37m\u001b[0m \u001b[1m0s\u001b[0m 24ms/step - accuracy: 0.9947 - loss: 0.0072 - val_accuracy: 0.8000 - val_loss: 0.9764\n",
            "Epoch 558/2000\n",
            "\u001b[1m3/3\u001b[0m \u001b[32m━━━━━━━━━━━━━━━━━━━━\u001b[0m\u001b[37m\u001b[0m \u001b[1m0s\u001b[0m 23ms/step - accuracy: 0.9947 - loss: 0.0128 - val_accuracy: 0.8000 - val_loss: 0.8527\n",
            "Epoch 559/2000\n",
            "\u001b[1m3/3\u001b[0m \u001b[32m━━━━━━━━━━━━━━━━━━━━\u001b[0m\u001b[37m\u001b[0m \u001b[1m0s\u001b[0m 24ms/step - accuracy: 0.9527 - loss: 0.0327 - val_accuracy: 0.8500 - val_loss: 0.7525\n",
            "Epoch 560/2000\n",
            "\u001b[1m3/3\u001b[0m \u001b[32m━━━━━━━━━━━━━━━━━━━━\u001b[0m\u001b[37m\u001b[0m \u001b[1m0s\u001b[0m 24ms/step - accuracy: 0.9861 - loss: 0.0062 - val_accuracy: 0.8000 - val_loss: 0.7911\n",
            "Epoch 561/2000\n",
            "\u001b[1m3/3\u001b[0m \u001b[32m━━━━━━━━━━━━━━━━━━━━\u001b[0m\u001b[37m\u001b[0m \u001b[1m0s\u001b[0m 24ms/step - accuracy: 0.9816 - loss: 0.0096 - val_accuracy: 0.8000 - val_loss: 0.8780\n",
            "Epoch 562/2000\n",
            "\u001b[1m3/3\u001b[0m \u001b[32m━━━━━━━━━━━━━━━━━━━━\u001b[0m\u001b[37m\u001b[0m \u001b[1m0s\u001b[0m 23ms/step - accuracy: 0.9769 - loss: 0.0086 - val_accuracy: 0.8000 - val_loss: 0.8874\n",
            "Epoch 563/2000\n",
            "\u001b[1m3/3\u001b[0m \u001b[32m━━━━━━━━━━━━━━━━━━━━\u001b[0m\u001b[37m\u001b[0m \u001b[1m0s\u001b[0m 27ms/step - accuracy: 0.9697 - loss: 0.0436 - val_accuracy: 0.8000 - val_loss: 0.8464\n",
            "Epoch 564/2000\n",
            "\u001b[1m3/3\u001b[0m \u001b[32m━━━━━━━━━━━━━━━━━━━━\u001b[0m\u001b[37m\u001b[0m \u001b[1m0s\u001b[0m 24ms/step - accuracy: 0.9763 - loss: 0.0020 - val_accuracy: 0.8000 - val_loss: 0.8103\n",
            "Epoch 565/2000\n",
            "\u001b[1m3/3\u001b[0m \u001b[32m━━━━━━━━━━━━━━━━━━━━\u001b[0m\u001b[37m\u001b[0m \u001b[1m0s\u001b[0m 26ms/step - accuracy: 0.9933 - loss: 0.0078 - val_accuracy: 0.8000 - val_loss: 0.6463\n",
            "Epoch 566/2000\n",
            "\u001b[1m3/3\u001b[0m \u001b[32m━━━━━━━━━━━━━━━━━━━━\u001b[0m\u001b[37m\u001b[0m \u001b[1m0s\u001b[0m 23ms/step - accuracy: 0.9875 - loss: 0.0162 - val_accuracy: 0.8000 - val_loss: 0.2285\n",
            "Epoch 567/2000\n",
            "\u001b[1m3/3\u001b[0m \u001b[32m━━━━━━━━━━━━━━━━━━━━\u001b[0m\u001b[37m\u001b[0m \u001b[1m0s\u001b[0m 24ms/step - accuracy: 0.9822 - loss: 0.0909 - val_accuracy: 0.8500 - val_loss: 0.6540\n",
            "Epoch 568/2000\n",
            "\u001b[1m3/3\u001b[0m \u001b[32m━━━━━━━━━━━━━━━━━━━━\u001b[0m\u001b[37m\u001b[0m \u001b[1m0s\u001b[0m 24ms/step - accuracy: 0.9855 - loss: 0.0408 - val_accuracy: 0.8500 - val_loss: 0.7929\n",
            "Epoch 569/2000\n",
            "\u001b[1m3/3\u001b[0m \u001b[32m━━━━━━━━━━━━━━━━━━━━\u001b[0m\u001b[37m\u001b[0m \u001b[1m0s\u001b[0m 24ms/step - accuracy: 0.9894 - loss: 0.0126 - val_accuracy: 0.9000 - val_loss: 0.6877\n",
            "Epoch 570/2000\n",
            "\u001b[1m3/3\u001b[0m \u001b[32m━━━━━━━━━━━━━━━━━━━━\u001b[0m\u001b[37m\u001b[0m \u001b[1m0s\u001b[0m 24ms/step - accuracy: 0.9775 - loss: 0.0193 - val_accuracy: 0.9000 - val_loss: 0.5636\n",
            "Epoch 571/2000\n",
            "\u001b[1m3/3\u001b[0m \u001b[32m━━━━━━━━━━━━━━━━━━━━\u001b[0m\u001b[37m\u001b[0m \u001b[1m0s\u001b[0m 24ms/step - accuracy: 1.0000 - loss: 0.0016 - val_accuracy: 0.8000 - val_loss: 0.5219\n",
            "Epoch 572/2000\n",
            "\u001b[1m3/3\u001b[0m \u001b[32m━━━━━━━━━━━━━━━━━━━━\u001b[0m\u001b[37m\u001b[0m \u001b[1m0s\u001b[0m 28ms/step - accuracy: 0.9585 - loss: 0.0344 - val_accuracy: 0.8500 - val_loss: 0.7387\n"
          ]
        }
      ],
      "source": [
        "# Define the early stopping callback\n",
        "callback = tf.keras.callbacks.EarlyStopping(monitor='val_loss', patience=200, restore_best_weights=True)\n",
        "\n",
        "# Train the model\n",
        "history = comsnet_model.fit(\n",
        "    np.array(x_train), np.array(y_train),\n",
        "    validation_data=(x_val, y_val),\n",
        "    epochs=2000,\n",
        "    batch_size=64,\n",
        "    callbacks=[callback]\n",
        ")"
      ]
    },
    {
      "cell_type": "code",
      "execution_count": 21,
      "metadata": {
        "colab": {
          "base_uri": "https://localhost:8080/"
        },
        "id": "NeFNPbO7EYr1",
        "outputId": "8aeebf16-4cb8-4081-9c13-161afe10a117"
      },
      "outputs": [
        {
          "output_type": "stream",
          "name": "stdout",
          "text": [
            "\u001b[1m3/3\u001b[0m \u001b[32m━━━━━━━━━━━━━━━━━━━━\u001b[0m\u001b[37m\u001b[0m \u001b[1m1s\u001b[0m 302ms/step - accuracy: 0.8472 - loss: 0.8121\n"
          ]
        },
        {
          "output_type": "execute_result",
          "data": {
            "text/plain": [
              "[0.8095040917396545, 0.8428571224212646]"
            ]
          },
          "metadata": {},
          "execution_count": 21
        }
      ],
      "source": [
        "comsnet_model.evaluate(np.array(x_test), np.array(y_test))"
      ]
    },
    {
      "cell_type": "code",
      "execution_count": null,
      "metadata": {
        "id": "rlcVeLMZEYr1"
      },
      "outputs": [],
      "source": []
    }
  ],
  "metadata": {
    "kernelspec": {
      "display_name": "Python 3",
      "name": "python3"
    },
    "language_info": {
      "codemirror_mode": {
        "name": "ipython",
        "version": 3
      },
      "file_extension": ".py",
      "mimetype": "text/x-python",
      "name": "python",
      "nbconvert_exporter": "python",
      "pygments_lexer": "ipython3",
      "version": "3.11.1"
    },
    "orig_nbformat": 4,
    "colab": {
      "provenance": [],
      "gpuType": "T4"
    },
    "accelerator": "GPU"
  },
  "nbformat": 4,
  "nbformat_minor": 0
}